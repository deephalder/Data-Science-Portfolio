{
 "cells": [
  {
   "cell_type": "code",
   "execution_count": 1,
   "source": [
    "import pandas as pd\n",
    "import numpy as np\n",
    "from bs4 import BeautifulSoup as bs\n",
    "import requests\n",
    "from time import time\n",
    "\n",
    "#data processing libraries \n",
    "\n",
    "from sklearn import preprocessing\n",
    "\n",
    "import nltk\n",
    "from nltk.stem.porter import PorterStemmer\n",
    "\n",
    "from sklearn.model_selection import train_test_split\n",
    "from sklearn.feature_extraction.text import CountVectorizer\n",
    "from sklearn.naive_bayes import MultinomialNB\n",
    "from sklearn.naive_bayes import GaussianNB\n",
    "from sklearn.ensemble import RandomForestClassifier\n",
    "from sklearn.neighbors import KNeighborsClassifier\n",
    "from sklearn.linear_model import LogisticRegression\n",
    "from sklearn.svm import SVC\n",
    "from sklearn import tree\n",
    "import tensorflow as tf\n",
    "from keras.models import Sequential\n",
    "from keras.layers import Dense\n",
    "from tensorflow.keras.optimizers import Adam\n",
    "import warnings\n",
    "import re\n",
    "warnings.filterwarnings('ignore')\n",
    "\n",
    "\n",
    "\n",
    "\n",
    "#Evaluate the model\n",
    "from sklearn.metrics import classification_report\n",
    "from sklearn.metrics import confusion_matrix\n",
    "from sklearn.metrics import accuracy_score\n",
    "\n"
   ],
   "outputs": [],
   "metadata": {}
  },
  {
   "cell_type": "code",
   "execution_count": 77,
   "source": [
    "#pip install tensorflow"
   ],
   "outputs": [],
   "metadata": {}
  },
  {
   "cell_type": "code",
   "execution_count": 275,
   "source": [
    "def get_page(url):\n",
    "    page = requests.get(url)\n",
    "    soup = bs(page.text,\"lxml\")\n",
    "    return soup"
   ],
   "outputs": [],
   "metadata": {}
  },
  {
   "cell_type": "code",
   "execution_count": 276,
   "source": [
    "def get_links(soup):\n",
    "    links=[]\n",
    "    listings = soup.find_all('a' ,{'class' : 'bookTitle'})\n",
    "    base_url=\"https://www.goodreads.com\"\n",
    "    for i in listings:\n",
    "        book_link = i.get(\"href\")\n",
    "        complete_link  = base_url + book_link\n",
    "        links.append(complete_link)\n",
    "    return links"
   ],
   "outputs": [],
   "metadata": {
    "scrolled": true
   }
  },
  {
   "cell_type": "code",
   "execution_count": 277,
   "source": [
    "#extract info from each link\n",
    "\n",
    "def extract_info(links):\n",
    "    for link in links:\n",
    "        res = requests.get(link).text\n",
    "        book_soup = bs(res,'html.parser')\n",
    "        try:\n",
    "            book_id = book_soup.find('div',{'id':'buyButtonContainer'}).get('data-book-id')\n",
    "            title = book_soup.find('h1',{'id':\"bookTitle\"}).text.strip()\n",
    "            author = book_soup.find('span',{'itemprop':\"name\"}).text.strip()\n",
    "            average_rating = book_soup.find('span',{'itemprop':\"ratingValue\"}).text.strip()\n",
    "            #description = book_soup.find('div',{'id':\"description\"}).text.strip()\n",
    "            description = book_soup.find('div', {'id': \"description\"}).find_all('span')[-1].text.strip()\n",
    "            genre = book_soup.find('a',{'class':\"actionLinkLite bookPageGenreLink\"}).text.strip()\n",
    "            book_image_url = book_soup.find('img', {'id': 'coverImage'}).get('src').strip()\n",
    "            book_url = link\n",
    "        except AttributeError:\n",
    "            continue\n",
    "        \n",
    "        book = {'book_id':book_id,'title': title,'author': author,'average_rating':average_rating,'genre':genre,'description':description,'url':book_url,'image_url':book_image_url}\n",
    "        all_books.append(book)\n",
    "    return len(all_books)\n"
   ],
   "outputs": [],
   "metadata": {
    "scrolled": true
   }
  },
  {
   "cell_type": "code",
   "execution_count": 75,
   "source": [
    "all_books = []\n",
    "books  = pd.DataFrame()\n",
    "for page in range(1,51):\n",
    "    url = \"https://www.goodreads.com/list/show/264.Books_That_Everyone_Should_Read_At_Least_Once?page={}\".format(page)\n",
    "    soup = get_page(url)\n",
    "    links = get_links(soup)\n",
    "    (extract_info(links))\n"
   ],
   "outputs": [
    {
     "output_type": "error",
     "ename": "KeyboardInterrupt",
     "evalue": "",
     "traceback": [
      "\u001b[0;31m---------------------------------------------------------------------------\u001b[0m",
      "\u001b[0;31mKeyboardInterrupt\u001b[0m                         Traceback (most recent call last)",
      "\u001b[0;32m<ipython-input-75-6486292f75a4>\u001b[0m in \u001b[0;36m<module>\u001b[0;34m\u001b[0m\n\u001b[1;32m      5\u001b[0m     \u001b[0msoup\u001b[0m \u001b[0;34m=\u001b[0m \u001b[0mget_page\u001b[0m\u001b[0;34m(\u001b[0m\u001b[0murl\u001b[0m\u001b[0;34m)\u001b[0m\u001b[0;34m\u001b[0m\u001b[0;34m\u001b[0m\u001b[0m\n\u001b[1;32m      6\u001b[0m     \u001b[0mlinks\u001b[0m \u001b[0;34m=\u001b[0m \u001b[0mget_links\u001b[0m\u001b[0;34m(\u001b[0m\u001b[0msoup\u001b[0m\u001b[0;34m)\u001b[0m\u001b[0;34m\u001b[0m\u001b[0;34m\u001b[0m\u001b[0m\n\u001b[0;32m----> 7\u001b[0;31m     \u001b[0;34m(\u001b[0m\u001b[0mextract_info\u001b[0m\u001b[0;34m(\u001b[0m\u001b[0mlinks\u001b[0m\u001b[0;34m)\u001b[0m\u001b[0;34m)\u001b[0m\u001b[0;34m\u001b[0m\u001b[0;34m\u001b[0m\u001b[0m\n\u001b[0m",
      "\u001b[0;32m<ipython-input-74-f20afa554404>\u001b[0m in \u001b[0;36mextract_info\u001b[0;34m(links)\u001b[0m\n\u001b[1;32m      3\u001b[0m \u001b[0;32mdef\u001b[0m \u001b[0mextract_info\u001b[0m\u001b[0;34m(\u001b[0m\u001b[0mlinks\u001b[0m\u001b[0;34m)\u001b[0m\u001b[0;34m:\u001b[0m\u001b[0;34m\u001b[0m\u001b[0;34m\u001b[0m\u001b[0m\n\u001b[1;32m      4\u001b[0m     \u001b[0;32mfor\u001b[0m \u001b[0mlink\u001b[0m \u001b[0;32min\u001b[0m \u001b[0mlinks\u001b[0m\u001b[0;34m:\u001b[0m\u001b[0;34m\u001b[0m\u001b[0;34m\u001b[0m\u001b[0m\n\u001b[0;32m----> 5\u001b[0;31m         \u001b[0mres\u001b[0m \u001b[0;34m=\u001b[0m \u001b[0mrequests\u001b[0m\u001b[0;34m.\u001b[0m\u001b[0mget\u001b[0m\u001b[0;34m(\u001b[0m\u001b[0mlink\u001b[0m\u001b[0;34m)\u001b[0m\u001b[0;34m.\u001b[0m\u001b[0mtext\u001b[0m\u001b[0;34m\u001b[0m\u001b[0;34m\u001b[0m\u001b[0m\n\u001b[0m\u001b[1;32m      6\u001b[0m         \u001b[0mbook_soup\u001b[0m \u001b[0;34m=\u001b[0m \u001b[0mbs\u001b[0m\u001b[0;34m(\u001b[0m\u001b[0mres\u001b[0m\u001b[0;34m,\u001b[0m\u001b[0;34m'html.parser'\u001b[0m\u001b[0;34m)\u001b[0m\u001b[0;34m\u001b[0m\u001b[0;34m\u001b[0m\u001b[0m\n\u001b[1;32m      7\u001b[0m         \u001b[0;32mtry\u001b[0m\u001b[0;34m:\u001b[0m\u001b[0;34m\u001b[0m\u001b[0;34m\u001b[0m\u001b[0m\n",
      "\u001b[0;32m/opt/anaconda3/lib/python3.7/site-packages/requests/api.py\u001b[0m in \u001b[0;36mget\u001b[0;34m(url, params, **kwargs)\u001b[0m\n\u001b[1;32m     73\u001b[0m     \"\"\"\n\u001b[1;32m     74\u001b[0m \u001b[0;34m\u001b[0m\u001b[0m\n\u001b[0;32m---> 75\u001b[0;31m     \u001b[0;32mreturn\u001b[0m \u001b[0mrequest\u001b[0m\u001b[0;34m(\u001b[0m\u001b[0;34m'get'\u001b[0m\u001b[0;34m,\u001b[0m \u001b[0murl\u001b[0m\u001b[0;34m,\u001b[0m \u001b[0mparams\u001b[0m\u001b[0;34m=\u001b[0m\u001b[0mparams\u001b[0m\u001b[0;34m,\u001b[0m \u001b[0;34m**\u001b[0m\u001b[0mkwargs\u001b[0m\u001b[0;34m)\u001b[0m\u001b[0;34m\u001b[0m\u001b[0;34m\u001b[0m\u001b[0m\n\u001b[0m\u001b[1;32m     76\u001b[0m \u001b[0;34m\u001b[0m\u001b[0m\n\u001b[1;32m     77\u001b[0m \u001b[0;34m\u001b[0m\u001b[0m\n",
      "\u001b[0;32m/opt/anaconda3/lib/python3.7/site-packages/requests/api.py\u001b[0m in \u001b[0;36mrequest\u001b[0;34m(method, url, **kwargs)\u001b[0m\n\u001b[1;32m     59\u001b[0m     \u001b[0;31m# cases, and look like a memory leak in others.\u001b[0m\u001b[0;34m\u001b[0m\u001b[0;34m\u001b[0m\u001b[0;34m\u001b[0m\u001b[0m\n\u001b[1;32m     60\u001b[0m     \u001b[0;32mwith\u001b[0m \u001b[0msessions\u001b[0m\u001b[0;34m.\u001b[0m\u001b[0mSession\u001b[0m\u001b[0;34m(\u001b[0m\u001b[0;34m)\u001b[0m \u001b[0;32mas\u001b[0m \u001b[0msession\u001b[0m\u001b[0;34m:\u001b[0m\u001b[0;34m\u001b[0m\u001b[0;34m\u001b[0m\u001b[0m\n\u001b[0;32m---> 61\u001b[0;31m         \u001b[0;32mreturn\u001b[0m \u001b[0msession\u001b[0m\u001b[0;34m.\u001b[0m\u001b[0mrequest\u001b[0m\u001b[0;34m(\u001b[0m\u001b[0mmethod\u001b[0m\u001b[0;34m=\u001b[0m\u001b[0mmethod\u001b[0m\u001b[0;34m,\u001b[0m \u001b[0murl\u001b[0m\u001b[0;34m=\u001b[0m\u001b[0murl\u001b[0m\u001b[0;34m,\u001b[0m \u001b[0;34m**\u001b[0m\u001b[0mkwargs\u001b[0m\u001b[0;34m)\u001b[0m\u001b[0;34m\u001b[0m\u001b[0;34m\u001b[0m\u001b[0m\n\u001b[0m\u001b[1;32m     62\u001b[0m \u001b[0;34m\u001b[0m\u001b[0m\n\u001b[1;32m     63\u001b[0m \u001b[0;34m\u001b[0m\u001b[0m\n",
      "\u001b[0;32m/opt/anaconda3/lib/python3.7/site-packages/requests/sessions.py\u001b[0m in \u001b[0;36mrequest\u001b[0;34m(self, method, url, params, data, headers, cookies, files, auth, timeout, allow_redirects, proxies, hooks, stream, verify, cert, json)\u001b[0m\n\u001b[1;32m    540\u001b[0m         }\n\u001b[1;32m    541\u001b[0m         \u001b[0msend_kwargs\u001b[0m\u001b[0;34m.\u001b[0m\u001b[0mupdate\u001b[0m\u001b[0;34m(\u001b[0m\u001b[0msettings\u001b[0m\u001b[0;34m)\u001b[0m\u001b[0;34m\u001b[0m\u001b[0;34m\u001b[0m\u001b[0m\n\u001b[0;32m--> 542\u001b[0;31m         \u001b[0mresp\u001b[0m \u001b[0;34m=\u001b[0m \u001b[0mself\u001b[0m\u001b[0;34m.\u001b[0m\u001b[0msend\u001b[0m\u001b[0;34m(\u001b[0m\u001b[0mprep\u001b[0m\u001b[0;34m,\u001b[0m \u001b[0;34m**\u001b[0m\u001b[0msend_kwargs\u001b[0m\u001b[0;34m)\u001b[0m\u001b[0;34m\u001b[0m\u001b[0;34m\u001b[0m\u001b[0m\n\u001b[0m\u001b[1;32m    543\u001b[0m \u001b[0;34m\u001b[0m\u001b[0m\n\u001b[1;32m    544\u001b[0m         \u001b[0;32mreturn\u001b[0m \u001b[0mresp\u001b[0m\u001b[0;34m\u001b[0m\u001b[0;34m\u001b[0m\u001b[0m\n",
      "\u001b[0;32m/opt/anaconda3/lib/python3.7/site-packages/requests/sessions.py\u001b[0m in \u001b[0;36msend\u001b[0;34m(self, request, **kwargs)\u001b[0m\n\u001b[1;32m    653\u001b[0m \u001b[0;34m\u001b[0m\u001b[0m\n\u001b[1;32m    654\u001b[0m         \u001b[0;31m# Send the request\u001b[0m\u001b[0;34m\u001b[0m\u001b[0;34m\u001b[0m\u001b[0;34m\u001b[0m\u001b[0m\n\u001b[0;32m--> 655\u001b[0;31m         \u001b[0mr\u001b[0m \u001b[0;34m=\u001b[0m \u001b[0madapter\u001b[0m\u001b[0;34m.\u001b[0m\u001b[0msend\u001b[0m\u001b[0;34m(\u001b[0m\u001b[0mrequest\u001b[0m\u001b[0;34m,\u001b[0m \u001b[0;34m**\u001b[0m\u001b[0mkwargs\u001b[0m\u001b[0;34m)\u001b[0m\u001b[0;34m\u001b[0m\u001b[0;34m\u001b[0m\u001b[0m\n\u001b[0m\u001b[1;32m    656\u001b[0m \u001b[0;34m\u001b[0m\u001b[0m\n\u001b[1;32m    657\u001b[0m         \u001b[0;31m# Total elapsed time of the request (approximately)\u001b[0m\u001b[0;34m\u001b[0m\u001b[0;34m\u001b[0m\u001b[0;34m\u001b[0m\u001b[0m\n",
      "\u001b[0;32m/opt/anaconda3/lib/python3.7/site-packages/requests/adapters.py\u001b[0m in \u001b[0;36msend\u001b[0;34m(self, request, stream, timeout, verify, cert, proxies)\u001b[0m\n\u001b[1;32m    447\u001b[0m                     \u001b[0mdecode_content\u001b[0m\u001b[0;34m=\u001b[0m\u001b[0;32mFalse\u001b[0m\u001b[0;34m,\u001b[0m\u001b[0;34m\u001b[0m\u001b[0;34m\u001b[0m\u001b[0m\n\u001b[1;32m    448\u001b[0m                     \u001b[0mretries\u001b[0m\u001b[0;34m=\u001b[0m\u001b[0mself\u001b[0m\u001b[0;34m.\u001b[0m\u001b[0mmax_retries\u001b[0m\u001b[0;34m,\u001b[0m\u001b[0;34m\u001b[0m\u001b[0;34m\u001b[0m\u001b[0m\n\u001b[0;32m--> 449\u001b[0;31m                     \u001b[0mtimeout\u001b[0m\u001b[0;34m=\u001b[0m\u001b[0mtimeout\u001b[0m\u001b[0;34m\u001b[0m\u001b[0;34m\u001b[0m\u001b[0m\n\u001b[0m\u001b[1;32m    450\u001b[0m                 )\n\u001b[1;32m    451\u001b[0m \u001b[0;34m\u001b[0m\u001b[0m\n",
      "\u001b[0;32m/opt/anaconda3/lib/python3.7/site-packages/urllib3/connectionpool.py\u001b[0m in \u001b[0;36murlopen\u001b[0;34m(self, method, url, body, headers, retries, redirect, assert_same_host, timeout, pool_timeout, release_conn, chunked, body_pos, **response_kw)\u001b[0m\n\u001b[1;32m    704\u001b[0m                 \u001b[0mbody\u001b[0m\u001b[0;34m=\u001b[0m\u001b[0mbody\u001b[0m\u001b[0;34m,\u001b[0m\u001b[0;34m\u001b[0m\u001b[0;34m\u001b[0m\u001b[0m\n\u001b[1;32m    705\u001b[0m                 \u001b[0mheaders\u001b[0m\u001b[0;34m=\u001b[0m\u001b[0mheaders\u001b[0m\u001b[0;34m,\u001b[0m\u001b[0;34m\u001b[0m\u001b[0;34m\u001b[0m\u001b[0m\n\u001b[0;32m--> 706\u001b[0;31m                 \u001b[0mchunked\u001b[0m\u001b[0;34m=\u001b[0m\u001b[0mchunked\u001b[0m\u001b[0;34m,\u001b[0m\u001b[0;34m\u001b[0m\u001b[0;34m\u001b[0m\u001b[0m\n\u001b[0m\u001b[1;32m    707\u001b[0m             )\n\u001b[1;32m    708\u001b[0m \u001b[0;34m\u001b[0m\u001b[0m\n",
      "\u001b[0;32m/opt/anaconda3/lib/python3.7/site-packages/urllib3/connectionpool.py\u001b[0m in \u001b[0;36m_make_request\u001b[0;34m(self, conn, method, url, timeout, chunked, **httplib_request_kw)\u001b[0m\n\u001b[1;32m    443\u001b[0m                     \u001b[0;31m# Python 3 (including for exceptions like SystemExit).\u001b[0m\u001b[0;34m\u001b[0m\u001b[0;34m\u001b[0m\u001b[0;34m\u001b[0m\u001b[0m\n\u001b[1;32m    444\u001b[0m                     \u001b[0;31m# Otherwise it looks like a bug in the code.\u001b[0m\u001b[0;34m\u001b[0m\u001b[0;34m\u001b[0m\u001b[0;34m\u001b[0m\u001b[0m\n\u001b[0;32m--> 445\u001b[0;31m                     \u001b[0msix\u001b[0m\u001b[0;34m.\u001b[0m\u001b[0mraise_from\u001b[0m\u001b[0;34m(\u001b[0m\u001b[0me\u001b[0m\u001b[0;34m,\u001b[0m \u001b[0;32mNone\u001b[0m\u001b[0;34m)\u001b[0m\u001b[0;34m\u001b[0m\u001b[0;34m\u001b[0m\u001b[0m\n\u001b[0m\u001b[1;32m    446\u001b[0m         \u001b[0;32mexcept\u001b[0m \u001b[0;34m(\u001b[0m\u001b[0mSocketTimeout\u001b[0m\u001b[0;34m,\u001b[0m \u001b[0mBaseSSLError\u001b[0m\u001b[0;34m,\u001b[0m \u001b[0mSocketError\u001b[0m\u001b[0;34m)\u001b[0m \u001b[0;32mas\u001b[0m \u001b[0me\u001b[0m\u001b[0;34m:\u001b[0m\u001b[0;34m\u001b[0m\u001b[0;34m\u001b[0m\u001b[0m\n\u001b[1;32m    447\u001b[0m             \u001b[0mself\u001b[0m\u001b[0;34m.\u001b[0m\u001b[0m_raise_timeout\u001b[0m\u001b[0;34m(\u001b[0m\u001b[0merr\u001b[0m\u001b[0;34m=\u001b[0m\u001b[0me\u001b[0m\u001b[0;34m,\u001b[0m \u001b[0murl\u001b[0m\u001b[0;34m=\u001b[0m\u001b[0murl\u001b[0m\u001b[0;34m,\u001b[0m \u001b[0mtimeout_value\u001b[0m\u001b[0;34m=\u001b[0m\u001b[0mread_timeout\u001b[0m\u001b[0;34m)\u001b[0m\u001b[0;34m\u001b[0m\u001b[0;34m\u001b[0m\u001b[0m\n",
      "\u001b[0;32m/opt/anaconda3/lib/python3.7/site-packages/urllib3/packages/six.py\u001b[0m in \u001b[0;36mraise_from\u001b[0;34m(value, from_value)\u001b[0m\n",
      "\u001b[0;32m/opt/anaconda3/lib/python3.7/site-packages/urllib3/connectionpool.py\u001b[0m in \u001b[0;36m_make_request\u001b[0;34m(self, conn, method, url, timeout, chunked, **httplib_request_kw)\u001b[0m\n\u001b[1;32m    438\u001b[0m                 \u001b[0;31m# Python 3\u001b[0m\u001b[0;34m\u001b[0m\u001b[0;34m\u001b[0m\u001b[0;34m\u001b[0m\u001b[0m\n\u001b[1;32m    439\u001b[0m                 \u001b[0;32mtry\u001b[0m\u001b[0;34m:\u001b[0m\u001b[0;34m\u001b[0m\u001b[0;34m\u001b[0m\u001b[0m\n\u001b[0;32m--> 440\u001b[0;31m                     \u001b[0mhttplib_response\u001b[0m \u001b[0;34m=\u001b[0m \u001b[0mconn\u001b[0m\u001b[0;34m.\u001b[0m\u001b[0mgetresponse\u001b[0m\u001b[0;34m(\u001b[0m\u001b[0;34m)\u001b[0m\u001b[0;34m\u001b[0m\u001b[0;34m\u001b[0m\u001b[0m\n\u001b[0m\u001b[1;32m    441\u001b[0m                 \u001b[0;32mexcept\u001b[0m \u001b[0mBaseException\u001b[0m \u001b[0;32mas\u001b[0m \u001b[0me\u001b[0m\u001b[0;34m:\u001b[0m\u001b[0;34m\u001b[0m\u001b[0;34m\u001b[0m\u001b[0m\n\u001b[1;32m    442\u001b[0m                     \u001b[0;31m# Remove the TypeError from the exception chain in\u001b[0m\u001b[0;34m\u001b[0m\u001b[0;34m\u001b[0m\u001b[0;34m\u001b[0m\u001b[0m\n",
      "\u001b[0;32m/opt/anaconda3/lib/python3.7/http/client.py\u001b[0m in \u001b[0;36mgetresponse\u001b[0;34m(self)\u001b[0m\n\u001b[1;32m   1342\u001b[0m         \u001b[0;32mtry\u001b[0m\u001b[0;34m:\u001b[0m\u001b[0;34m\u001b[0m\u001b[0;34m\u001b[0m\u001b[0m\n\u001b[1;32m   1343\u001b[0m             \u001b[0;32mtry\u001b[0m\u001b[0;34m:\u001b[0m\u001b[0;34m\u001b[0m\u001b[0;34m\u001b[0m\u001b[0m\n\u001b[0;32m-> 1344\u001b[0;31m                 \u001b[0mresponse\u001b[0m\u001b[0;34m.\u001b[0m\u001b[0mbegin\u001b[0m\u001b[0;34m(\u001b[0m\u001b[0;34m)\u001b[0m\u001b[0;34m\u001b[0m\u001b[0;34m\u001b[0m\u001b[0m\n\u001b[0m\u001b[1;32m   1345\u001b[0m             \u001b[0;32mexcept\u001b[0m \u001b[0mConnectionError\u001b[0m\u001b[0;34m:\u001b[0m\u001b[0;34m\u001b[0m\u001b[0;34m\u001b[0m\u001b[0m\n\u001b[1;32m   1346\u001b[0m                 \u001b[0mself\u001b[0m\u001b[0;34m.\u001b[0m\u001b[0mclose\u001b[0m\u001b[0;34m(\u001b[0m\u001b[0;34m)\u001b[0m\u001b[0;34m\u001b[0m\u001b[0;34m\u001b[0m\u001b[0m\n",
      "\u001b[0;32m/opt/anaconda3/lib/python3.7/http/client.py\u001b[0m in \u001b[0;36mbegin\u001b[0;34m(self)\u001b[0m\n\u001b[1;32m    304\u001b[0m         \u001b[0;31m# read until we get a non-100 response\u001b[0m\u001b[0;34m\u001b[0m\u001b[0;34m\u001b[0m\u001b[0;34m\u001b[0m\u001b[0m\n\u001b[1;32m    305\u001b[0m         \u001b[0;32mwhile\u001b[0m \u001b[0;32mTrue\u001b[0m\u001b[0;34m:\u001b[0m\u001b[0;34m\u001b[0m\u001b[0;34m\u001b[0m\u001b[0m\n\u001b[0;32m--> 306\u001b[0;31m             \u001b[0mversion\u001b[0m\u001b[0;34m,\u001b[0m \u001b[0mstatus\u001b[0m\u001b[0;34m,\u001b[0m \u001b[0mreason\u001b[0m \u001b[0;34m=\u001b[0m \u001b[0mself\u001b[0m\u001b[0;34m.\u001b[0m\u001b[0m_read_status\u001b[0m\u001b[0;34m(\u001b[0m\u001b[0;34m)\u001b[0m\u001b[0;34m\u001b[0m\u001b[0;34m\u001b[0m\u001b[0m\n\u001b[0m\u001b[1;32m    307\u001b[0m             \u001b[0;32mif\u001b[0m \u001b[0mstatus\u001b[0m \u001b[0;34m!=\u001b[0m \u001b[0mCONTINUE\u001b[0m\u001b[0;34m:\u001b[0m\u001b[0;34m\u001b[0m\u001b[0;34m\u001b[0m\u001b[0m\n\u001b[1;32m    308\u001b[0m                 \u001b[0;32mbreak\u001b[0m\u001b[0;34m\u001b[0m\u001b[0;34m\u001b[0m\u001b[0m\n",
      "\u001b[0;32m/opt/anaconda3/lib/python3.7/http/client.py\u001b[0m in \u001b[0;36m_read_status\u001b[0;34m(self)\u001b[0m\n\u001b[1;32m    265\u001b[0m \u001b[0;34m\u001b[0m\u001b[0m\n\u001b[1;32m    266\u001b[0m     \u001b[0;32mdef\u001b[0m \u001b[0m_read_status\u001b[0m\u001b[0;34m(\u001b[0m\u001b[0mself\u001b[0m\u001b[0;34m)\u001b[0m\u001b[0;34m:\u001b[0m\u001b[0;34m\u001b[0m\u001b[0;34m\u001b[0m\u001b[0m\n\u001b[0;32m--> 267\u001b[0;31m         \u001b[0mline\u001b[0m \u001b[0;34m=\u001b[0m \u001b[0mstr\u001b[0m\u001b[0;34m(\u001b[0m\u001b[0mself\u001b[0m\u001b[0;34m.\u001b[0m\u001b[0mfp\u001b[0m\u001b[0;34m.\u001b[0m\u001b[0mreadline\u001b[0m\u001b[0;34m(\u001b[0m\u001b[0m_MAXLINE\u001b[0m \u001b[0;34m+\u001b[0m \u001b[0;36m1\u001b[0m\u001b[0;34m)\u001b[0m\u001b[0;34m,\u001b[0m \u001b[0;34m\"iso-8859-1\"\u001b[0m\u001b[0;34m)\u001b[0m\u001b[0;34m\u001b[0m\u001b[0;34m\u001b[0m\u001b[0m\n\u001b[0m\u001b[1;32m    268\u001b[0m         \u001b[0;32mif\u001b[0m \u001b[0mlen\u001b[0m\u001b[0;34m(\u001b[0m\u001b[0mline\u001b[0m\u001b[0;34m)\u001b[0m \u001b[0;34m>\u001b[0m \u001b[0m_MAXLINE\u001b[0m\u001b[0;34m:\u001b[0m\u001b[0;34m\u001b[0m\u001b[0;34m\u001b[0m\u001b[0m\n\u001b[1;32m    269\u001b[0m             \u001b[0;32mraise\u001b[0m \u001b[0mLineTooLong\u001b[0m\u001b[0;34m(\u001b[0m\u001b[0;34m\"status line\"\u001b[0m\u001b[0;34m)\u001b[0m\u001b[0;34m\u001b[0m\u001b[0;34m\u001b[0m\u001b[0m\n",
      "\u001b[0;32m/opt/anaconda3/lib/python3.7/socket.py\u001b[0m in \u001b[0;36mreadinto\u001b[0;34m(self, b)\u001b[0m\n\u001b[1;32m    587\u001b[0m         \u001b[0;32mwhile\u001b[0m \u001b[0;32mTrue\u001b[0m\u001b[0;34m:\u001b[0m\u001b[0;34m\u001b[0m\u001b[0;34m\u001b[0m\u001b[0m\n\u001b[1;32m    588\u001b[0m             \u001b[0;32mtry\u001b[0m\u001b[0;34m:\u001b[0m\u001b[0;34m\u001b[0m\u001b[0;34m\u001b[0m\u001b[0m\n\u001b[0;32m--> 589\u001b[0;31m                 \u001b[0;32mreturn\u001b[0m \u001b[0mself\u001b[0m\u001b[0;34m.\u001b[0m\u001b[0m_sock\u001b[0m\u001b[0;34m.\u001b[0m\u001b[0mrecv_into\u001b[0m\u001b[0;34m(\u001b[0m\u001b[0mb\u001b[0m\u001b[0;34m)\u001b[0m\u001b[0;34m\u001b[0m\u001b[0;34m\u001b[0m\u001b[0m\n\u001b[0m\u001b[1;32m    590\u001b[0m             \u001b[0;32mexcept\u001b[0m \u001b[0mtimeout\u001b[0m\u001b[0;34m:\u001b[0m\u001b[0;34m\u001b[0m\u001b[0;34m\u001b[0m\u001b[0m\n\u001b[1;32m    591\u001b[0m                 \u001b[0mself\u001b[0m\u001b[0;34m.\u001b[0m\u001b[0m_timeout_occurred\u001b[0m \u001b[0;34m=\u001b[0m \u001b[0;32mTrue\u001b[0m\u001b[0;34m\u001b[0m\u001b[0;34m\u001b[0m\u001b[0m\n",
      "\u001b[0;32m/opt/anaconda3/lib/python3.7/ssl.py\u001b[0m in \u001b[0;36mrecv_into\u001b[0;34m(self, buffer, nbytes, flags)\u001b[0m\n\u001b[1;32m   1069\u001b[0m                   \u001b[0;34m\"non-zero flags not allowed in calls to recv_into() on %s\"\u001b[0m \u001b[0;34m%\u001b[0m\u001b[0;34m\u001b[0m\u001b[0;34m\u001b[0m\u001b[0m\n\u001b[1;32m   1070\u001b[0m                   self.__class__)\n\u001b[0;32m-> 1071\u001b[0;31m             \u001b[0;32mreturn\u001b[0m \u001b[0mself\u001b[0m\u001b[0;34m.\u001b[0m\u001b[0mread\u001b[0m\u001b[0;34m(\u001b[0m\u001b[0mnbytes\u001b[0m\u001b[0;34m,\u001b[0m \u001b[0mbuffer\u001b[0m\u001b[0;34m)\u001b[0m\u001b[0;34m\u001b[0m\u001b[0;34m\u001b[0m\u001b[0m\n\u001b[0m\u001b[1;32m   1072\u001b[0m         \u001b[0;32melse\u001b[0m\u001b[0;34m:\u001b[0m\u001b[0;34m\u001b[0m\u001b[0;34m\u001b[0m\u001b[0m\n\u001b[1;32m   1073\u001b[0m             \u001b[0;32mreturn\u001b[0m \u001b[0msuper\u001b[0m\u001b[0;34m(\u001b[0m\u001b[0;34m)\u001b[0m\u001b[0;34m.\u001b[0m\u001b[0mrecv_into\u001b[0m\u001b[0;34m(\u001b[0m\u001b[0mbuffer\u001b[0m\u001b[0;34m,\u001b[0m \u001b[0mnbytes\u001b[0m\u001b[0;34m,\u001b[0m \u001b[0mflags\u001b[0m\u001b[0;34m)\u001b[0m\u001b[0;34m\u001b[0m\u001b[0;34m\u001b[0m\u001b[0m\n",
      "\u001b[0;32m/opt/anaconda3/lib/python3.7/ssl.py\u001b[0m in \u001b[0;36mread\u001b[0;34m(self, len, buffer)\u001b[0m\n\u001b[1;32m    927\u001b[0m         \u001b[0;32mtry\u001b[0m\u001b[0;34m:\u001b[0m\u001b[0;34m\u001b[0m\u001b[0;34m\u001b[0m\u001b[0m\n\u001b[1;32m    928\u001b[0m             \u001b[0;32mif\u001b[0m \u001b[0mbuffer\u001b[0m \u001b[0;32mis\u001b[0m \u001b[0;32mnot\u001b[0m \u001b[0;32mNone\u001b[0m\u001b[0;34m:\u001b[0m\u001b[0;34m\u001b[0m\u001b[0;34m\u001b[0m\u001b[0m\n\u001b[0;32m--> 929\u001b[0;31m                 \u001b[0;32mreturn\u001b[0m \u001b[0mself\u001b[0m\u001b[0;34m.\u001b[0m\u001b[0m_sslobj\u001b[0m\u001b[0;34m.\u001b[0m\u001b[0mread\u001b[0m\u001b[0;34m(\u001b[0m\u001b[0mlen\u001b[0m\u001b[0;34m,\u001b[0m \u001b[0mbuffer\u001b[0m\u001b[0;34m)\u001b[0m\u001b[0;34m\u001b[0m\u001b[0;34m\u001b[0m\u001b[0m\n\u001b[0m\u001b[1;32m    930\u001b[0m             \u001b[0;32melse\u001b[0m\u001b[0;34m:\u001b[0m\u001b[0;34m\u001b[0m\u001b[0;34m\u001b[0m\u001b[0m\n\u001b[1;32m    931\u001b[0m                 \u001b[0;32mreturn\u001b[0m \u001b[0mself\u001b[0m\u001b[0;34m.\u001b[0m\u001b[0m_sslobj\u001b[0m\u001b[0;34m.\u001b[0m\u001b[0mread\u001b[0m\u001b[0;34m(\u001b[0m\u001b[0mlen\u001b[0m\u001b[0;34m)\u001b[0m\u001b[0;34m\u001b[0m\u001b[0;34m\u001b[0m\u001b[0m\n",
      "\u001b[0;31mKeyboardInterrupt\u001b[0m: "
     ]
    }
   ],
   "metadata": {
    "scrolled": true
   }
  },
  {
   "cell_type": "code",
   "execution_count": null,
   "source": [
    "books = pd.DataFrame(all_books)"
   ],
   "outputs": [],
   "metadata": {}
  },
  {
   "cell_type": "code",
   "execution_count": null,
   "source": [
    "books.to_csv('books_data_50_b.csv')"
   ],
   "outputs": [],
   "metadata": {}
  },
  {
   "cell_type": "code",
   "execution_count": 2,
   "source": [
    "books = pd.read_csv('books_data_50_b.csv')\n",
    "books.drop('Unnamed: 0',axis = 1,inplace = True)"
   ],
   "outputs": [],
   "metadata": {}
  },
  {
   "cell_type": "code",
   "execution_count": 3,
   "source": [
    "books.info()"
   ],
   "outputs": [
    {
     "output_type": "stream",
     "name": "stdout",
     "text": [
      "<class 'pandas.core.frame.DataFrame'>\n",
      "RangeIndex: 6585 entries, 0 to 6584\n",
      "Data columns (total 8 columns):\n",
      " #   Column          Non-Null Count  Dtype  \n",
      "---  ------          --------------  -----  \n",
      " 0   book_id         6585 non-null   int64  \n",
      " 1   title           6585 non-null   object \n",
      " 2   author          6585 non-null   object \n",
      " 3   average_rating  6585 non-null   float64\n",
      " 4   genre           6585 non-null   object \n",
      " 5   description     6584 non-null   object \n",
      " 6   url             6585 non-null   object \n",
      " 7   image_url       6585 non-null   object \n",
      "dtypes: float64(1), int64(1), object(6)\n",
      "memory usage: 411.7+ KB\n"
     ]
    }
   ],
   "metadata": {}
  },
  {
   "cell_type": "code",
   "execution_count": 4,
   "source": [
    "#shape of the final dataframe\n",
    "books.shape"
   ],
   "outputs": [
    {
     "output_type": "execute_result",
     "data": {
      "text/plain": [
       "(6585, 8)"
      ]
     },
     "metadata": {},
     "execution_count": 4
    }
   ],
   "metadata": {
    "scrolled": true
   }
  },
  {
   "cell_type": "markdown",
   "source": [
    "## EDA"
   ],
   "metadata": {}
  },
  {
   "cell_type": "code",
   "execution_count": 5,
   "source": [
    "#checking null values\n",
    "books.isnull().sum()"
   ],
   "outputs": [
    {
     "output_type": "execute_result",
     "data": {
      "text/plain": [
       "book_id           0\n",
       "title             0\n",
       "author            0\n",
       "average_rating    0\n",
       "genre             0\n",
       "description       1\n",
       "url               0\n",
       "image_url         0\n",
       "dtype: int64"
      ]
     },
     "metadata": {},
     "execution_count": 5
    }
   ],
   "metadata": {}
  },
  {
   "cell_type": "code",
   "execution_count": 6,
   "source": [
    "is_NaN = books.isnull()\n",
    "row_has_NaN = is_NaN.any(axis=1)\n",
    "rows_with_NaN = books[row_has_NaN]\n",
    "rows_with_NaN\n"
   ],
   "outputs": [
    {
     "output_type": "execute_result",
     "data": {
      "text/html": [
       "<div>\n",
       "<style scoped>\n",
       "    .dataframe tbody tr th:only-of-type {\n",
       "        vertical-align: middle;\n",
       "    }\n",
       "\n",
       "    .dataframe tbody tr th {\n",
       "        vertical-align: top;\n",
       "    }\n",
       "\n",
       "    .dataframe thead th {\n",
       "        text-align: right;\n",
       "    }\n",
       "</style>\n",
       "<table border=\"1\" class=\"dataframe\">\n",
       "  <thead>\n",
       "    <tr style=\"text-align: right;\">\n",
       "      <th></th>\n",
       "      <th>book_id</th>\n",
       "      <th>title</th>\n",
       "      <th>author</th>\n",
       "      <th>average_rating</th>\n",
       "      <th>genre</th>\n",
       "      <th>description</th>\n",
       "      <th>url</th>\n",
       "      <th>image_url</th>\n",
       "    </tr>\n",
       "  </thead>\n",
       "  <tbody>\n",
       "    <tr>\n",
       "      <th>6567</th>\n",
       "      <td>117531</td>\n",
       "      <td>Dark Night of the Soul</td>\n",
       "      <td>John of the Cross</td>\n",
       "      <td>4.1</td>\n",
       "      <td>Religion</td>\n",
       "      <td>NaN</td>\n",
       "      <td>https://www.goodreads.com/book/show/117531.Dar...</td>\n",
       "      <td>https://i.gr-assets.com/images/S/compressed.ph...</td>\n",
       "    </tr>\n",
       "  </tbody>\n",
       "</table>\n",
       "</div>"
      ],
      "text/plain": [
       "      book_id                   title             author  average_rating  \\\n",
       "6567   117531  Dark Night of the Soul  John of the Cross             4.1   \n",
       "\n",
       "         genre description                                                url  \\\n",
       "6567  Religion         NaN  https://www.goodreads.com/book/show/117531.Dar...   \n",
       "\n",
       "                                              image_url  \n",
       "6567  https://i.gr-assets.com/images/S/compressed.ph...  "
      ]
     },
     "metadata": {},
     "execution_count": 6
    }
   ],
   "metadata": {}
  },
  {
   "cell_type": "code",
   "execution_count": 7,
   "source": [
    "books  = books.drop(6567)\n"
   ],
   "outputs": [],
   "metadata": {}
  },
  {
   "cell_type": "code",
   "execution_count": 8,
   "source": [
    "books.isnull().sum()\n"
   ],
   "outputs": [
    {
     "output_type": "execute_result",
     "data": {
      "text/plain": [
       "book_id           0\n",
       "title             0\n",
       "author            0\n",
       "average_rating    0\n",
       "genre             0\n",
       "description       0\n",
       "url               0\n",
       "image_url         0\n",
       "dtype: int64"
      ]
     },
     "metadata": {},
     "execution_count": 8
    }
   ],
   "metadata": {}
  },
  {
   "cell_type": "code",
   "execution_count": 9,
   "source": [
    "#checking duplicate rows\n",
    "books.duplicated().sum()"
   ],
   "outputs": [
    {
     "output_type": "execute_result",
     "data": {
      "text/plain": [
       "0"
      ]
     },
     "metadata": {},
     "execution_count": 9
    }
   ],
   "metadata": {}
  },
  {
   "cell_type": "code",
   "execution_count": 10,
   "source": [
    "#dropping duplicates\n",
    "books.drop_duplicates(keep = 'first',inplace = True)"
   ],
   "outputs": [],
   "metadata": {}
  },
  {
   "cell_type": "code",
   "execution_count": 11,
   "source": [
    "#check value count by genre\n",
    "books.genre.value_counts()"
   ],
   "outputs": [
    {
     "output_type": "execute_result",
     "data": {
      "text/plain": [
       "Fiction         1372\n",
       "Fantasy          734\n",
       "Nonfiction       678\n",
       "Classics         425\n",
       "Young Adult      340\n",
       "                ... \n",
       "Writing            1\n",
       "Gothic             1\n",
       "Audiobook          1\n",
       "Games              1\n",
       "Anthropology       1\n",
       "Name: genre, Length: 101, dtype: int64"
      ]
     },
     "metadata": {},
     "execution_count": 11
    }
   ],
   "metadata": {}
  },
  {
   "cell_type": "markdown",
   "source": [
    "### Distribution of data by Genre"
   ],
   "metadata": {}
  },
  {
   "cell_type": "code",
   "execution_count": 12,
   "source": [
    "books['genre'].value_counts().plot(x='genre',y = 'count',kind = 'bar',figsize = (20,5))"
   ],
   "outputs": [
    {
     "output_type": "execute_result",
     "data": {
      "text/plain": [
       "<AxesSubplot:>"
      ]
     },
     "metadata": {},
     "execution_count": 12
    },
    {
     "output_type": "display_data",
     "data": {
      "image/png": "[encoded data removed]",
      "text/plain": [
       "<Figure size 1440x360 with 1 Axes>"
      ]
     },
     "metadata": {
      "needs_background": "light"
     }
    }
   ],
   "metadata": {
    "scrolled": false
   }
  },
  {
   "cell_type": "markdown",
   "source": [
    "The data is quite unbalanced. we will consider the first six categories for the final analysis."
   ],
   "metadata": {}
  },
  {
   "cell_type": "code",
   "execution_count": 13,
   "source": [
    "#print the title and description of a random sample\n",
    "\n",
    "books.duplicated().sum()"
   ],
   "outputs": [
    {
     "output_type": "execute_result",
     "data": {
      "text/plain": [
       "0"
      ]
     },
     "metadata": {},
     "execution_count": 13
    }
   ],
   "metadata": {}
  },
  {
   "cell_type": "code",
   "execution_count": 14,
   "source": [
    "#Calculating the word count for book description and adding a new column to the dataframe\n",
    "\n",
    "import seaborn as sns\n",
    "import matplotlib.pyplot as plt\n",
    "\n",
    "books['word_count'] = books['description'].apply(lambda x: len(str(x).split()))  # Plotting the word count\n",
    "plt.figure(figsize=[12, 10])\n",
    "sns.displot(books['word_count'])\n"
   ],
   "outputs": [
    {
     "output_type": "execute_result",
     "data": {
      "text/plain": [
       "<seaborn.axisgrid.FacetGrid at 0x7ff0c5ee90d0>"
      ]
     },
     "metadata": {},
     "execution_count": 14
    },
    {
     "output_type": "display_data",
     "data": {
      "text/plain": [
       "<Figure size 864x720 with 0 Axes>"
      ]
     },
     "metadata": {}
    },
    {
     "output_type": "display_data",
     "data": {
      "image/png": "[encoded data removed]",
      "text/plain": [
       "<Figure size 360x360 with 1 Axes>"
      ]
     },
     "metadata": {
      "needs_background": "light"
     }
    }
   ],
   "metadata": {}
  },
  {
   "cell_type": "markdown",
   "source": [
    "The book descriptions are not too leangthy. Average length of book descriptions are mostly of 200 words."
   ],
   "metadata": {}
  },
  {
   "cell_type": "code",
   "execution_count": 15,
   "source": [
    "books.head()"
   ],
   "outputs": [
    {
     "output_type": "execute_result",
     "data": {
      "text/html": [
       "<div>\n",
       "<style scoped>\n",
       "    .dataframe tbody tr th:only-of-type {\n",
       "        vertical-align: middle;\n",
       "    }\n",
       "\n",
       "    .dataframe tbody tr th {\n",
       "        vertical-align: top;\n",
       "    }\n",
       "\n",
       "    .dataframe thead th {\n",
       "        text-align: right;\n",
       "    }\n",
       "</style>\n",
       "<table border=\"1\" class=\"dataframe\">\n",
       "  <thead>\n",
       "    <tr style=\"text-align: right;\">\n",
       "      <th></th>\n",
       "      <th>book_id</th>\n",
       "      <th>title</th>\n",
       "      <th>author</th>\n",
       "      <th>average_rating</th>\n",
       "      <th>genre</th>\n",
       "      <th>description</th>\n",
       "      <th>url</th>\n",
       "      <th>image_url</th>\n",
       "      <th>word_count</th>\n",
       "    </tr>\n",
       "  </thead>\n",
       "  <tbody>\n",
       "    <tr>\n",
       "      <th>0</th>\n",
       "      <td>2657</td>\n",
       "      <td>To Kill a Mockingbird</td>\n",
       "      <td>Harper Lee</td>\n",
       "      <td>4.27</td>\n",
       "      <td>Classics</td>\n",
       "      <td>The unforgettable novel of a childhood in a sl...</td>\n",
       "      <td>https://www.goodreads.com/book/show/2657.To_Ki...</td>\n",
       "      <td>https://i.gr-assets.com/images/S/compressed.ph...</td>\n",
       "      <td>137</td>\n",
       "    </tr>\n",
       "    <tr>\n",
       "      <th>1</th>\n",
       "      <td>3</td>\n",
       "      <td>Harry Potter and the Sorcerer's Stone</td>\n",
       "      <td>J.K. Rowling</td>\n",
       "      <td>4.47</td>\n",
       "      <td>Fantasy</td>\n",
       "      <td>Harry Potter's life is miserable. His parents ...</td>\n",
       "      <td>https://www.goodreads.com/book/show/3.Harry_Po...</td>\n",
       "      <td>https://i.gr-assets.com/images/S/compressed.ph...</td>\n",
       "      <td>220</td>\n",
       "    </tr>\n",
       "    <tr>\n",
       "      <th>2</th>\n",
       "      <td>1885</td>\n",
       "      <td>Pride and Prejudice</td>\n",
       "      <td>Jane Austen</td>\n",
       "      <td>4.27</td>\n",
       "      <td>Classics</td>\n",
       "      <td>Alternate cover edition of ISBN 9780679783268S...</td>\n",
       "      <td>https://www.goodreads.com/book/show/1885.Pride...</td>\n",
       "      <td>https://i.gr-assets.com/images/S/compressed.ph...</td>\n",
       "      <td>100</td>\n",
       "    </tr>\n",
       "    <tr>\n",
       "      <th>3</th>\n",
       "      <td>48855</td>\n",
       "      <td>The Diary of a Young Girl</td>\n",
       "      <td>Anne Frank</td>\n",
       "      <td>4.17</td>\n",
       "      <td>Nonfiction</td>\n",
       "      <td>Discovered in the attic in which she spent the...</td>\n",
       "      <td>https://www.goodreads.com/book/show/48855.The_...</td>\n",
       "      <td>https://i.gr-assets.com/images/S/compressed.ph...</td>\n",
       "      <td>166</td>\n",
       "    </tr>\n",
       "    <tr>\n",
       "      <th>4</th>\n",
       "      <td>170448</td>\n",
       "      <td>Animal Farm</td>\n",
       "      <td>George Orwell</td>\n",
       "      <td>3.97</td>\n",
       "      <td>Classics</td>\n",
       "      <td>Librarian's note: There is an Alternate Cover ...</td>\n",
       "      <td>https://www.goodreads.com/book/show/170448.Ani...</td>\n",
       "      <td>https://i.gr-assets.com/images/S/compressed.ph...</td>\n",
       "      <td>123</td>\n",
       "    </tr>\n",
       "  </tbody>\n",
       "</table>\n",
       "</div>"
      ],
      "text/plain": [
       "   book_id                                  title         author  \\\n",
       "0     2657                  To Kill a Mockingbird     Harper Lee   \n",
       "1        3  Harry Potter and the Sorcerer's Stone   J.K. Rowling   \n",
       "2     1885                    Pride and Prejudice    Jane Austen   \n",
       "3    48855              The Diary of a Young Girl     Anne Frank   \n",
       "4   170448                            Animal Farm  George Orwell   \n",
       "\n",
       "   average_rating       genre  \\\n",
       "0            4.27    Classics   \n",
       "1            4.47     Fantasy   \n",
       "2            4.27    Classics   \n",
       "3            4.17  Nonfiction   \n",
       "4            3.97    Classics   \n",
       "\n",
       "                                         description  \\\n",
       "0  The unforgettable novel of a childhood in a sl...   \n",
       "1  Harry Potter's life is miserable. His parents ...   \n",
       "2  Alternate cover edition of ISBN 9780679783268S...   \n",
       "3  Discovered in the attic in which she spent the...   \n",
       "4  Librarian's note: There is an Alternate Cover ...   \n",
       "\n",
       "                                                 url  \\\n",
       "0  https://www.goodreads.com/book/show/2657.To_Ki...   \n",
       "1  https://www.goodreads.com/book/show/3.Harry_Po...   \n",
       "2  https://www.goodreads.com/book/show/1885.Pride...   \n",
       "3  https://www.goodreads.com/book/show/48855.The_...   \n",
       "4  https://www.goodreads.com/book/show/170448.Ani...   \n",
       "\n",
       "                                           image_url  word_count  \n",
       "0  https://i.gr-assets.com/images/S/compressed.ph...         137  \n",
       "1  https://i.gr-assets.com/images/S/compressed.ph...         220  \n",
       "2  https://i.gr-assets.com/images/S/compressed.ph...         100  \n",
       "3  https://i.gr-assets.com/images/S/compressed.ph...         166  \n",
       "4  https://i.gr-assets.com/images/S/compressed.ph...         123  "
      ]
     },
     "metadata": {},
     "execution_count": 15
    }
   ],
   "metadata": {}
  },
  {
   "cell_type": "markdown",
   "source": [
    "## Data Preprocessing"
   ],
   "metadata": {}
  },
  {
   "cell_type": "code",
   "execution_count": 16,
   "source": [
    "books['genre'].unique()"
   ],
   "outputs": [
    {
     "output_type": "execute_result",
     "data": {
      "text/plain": [
       "array(['Classics', 'Fantasy', 'Nonfiction', 'Historical', 'Fiction',\n",
       "       'Young Adult', 'Childrens', 'Science Fiction', 'Poetry', 'Horror',\n",
       "       'Religion', 'History', 'Mystery', 'Travel', 'Romance',\n",
       "       'Philosophy', 'Thriller', 'Sequential Art', 'Academic', 'Science',\n",
       "       'Self Help', 'Language', 'Plays', 'Christian', 'Contemporary',\n",
       "       'Drama', 'Autobiography', 'Esoterica', 'Short Stories', 'Crime',\n",
       "       'Psychology', 'Feminism', 'Christian Fiction', 'Biography',\n",
       "       'Business', 'Novels', 'Paranormal', 'Apocalyptic', 'Inspirational',\n",
       "       'Economics', 'Spirituality', 'Epic', 'Book Club', 'Marriage',\n",
       "       'Education', 'Humor', 'Art', 'Politics', 'Polyamorous',\n",
       "       'Womens Fiction', 'Health', 'New Adult', 'Erotica',\n",
       "       'Shapeshifters', 'War', 'Design', 'Cultural', 'Adult', 'Parenting',\n",
       "       'Realistic Fiction', 'Gender', 'Gothic', 'Animals', 'LGBT',\n",
       "       'Modern', 'Literature', 'Music', 'Dark', 'Leadership', 'Adventure',\n",
       "       'Suspense', 'Westerns', 'Adult Fiction', 'Holiday',\n",
       "       'Food and Drink', 'Architecture', 'Relationships',\n",
       "       'Asian Literature', 'Games', 'World War II', 'Occult', 'Sports',\n",
       "       'True Story', 'Anthologies', 'Military History', 'Audiobook',\n",
       "       'Sociology', 'Christianity', 'Lds', 'Northern Africa', 'Death',\n",
       "       'Race', 'Anthropology', 'European Literature', 'Media Tie In',\n",
       "       'Love', 'Writing', 'Mental Health', 'Humanities', 'Culture',\n",
       "       'Prayer'], dtype=object)"
      ]
     },
     "metadata": {},
     "execution_count": 16
    }
   ],
   "metadata": {}
  },
  {
   "cell_type": "code",
   "execution_count": 17,
   "source": [
    "#filtering #1  books with genres consiting more than 100 books\n",
    "df = books[books['genre'].map(books['genre'].value_counts()) > 100]"
   ],
   "outputs": [],
   "metadata": {}
  },
  {
   "cell_type": "code",
   "execution_count": 18,
   "source": [
    "df['genre'].value_counts()"
   ],
   "outputs": [
    {
     "output_type": "execute_result",
     "data": {
      "text/plain": [
       "Fiction            1372\n",
       "Fantasy             734\n",
       "Nonfiction          678\n",
       "Classics            425\n",
       "Young Adult         340\n",
       "Historical          331\n",
       "Mystery             257\n",
       "Romance             223\n",
       "Science Fiction     213\n",
       "Thriller            156\n",
       "History             151\n",
       "Horror              150\n",
       "Philosophy          104\n",
       "Poetry              101\n",
       "Name: genre, dtype: int64"
      ]
     },
     "metadata": {},
     "execution_count": 18
    }
   ],
   "metadata": {}
  },
  {
   "cell_type": "code",
   "execution_count": 19,
   "source": [
    "# creating a sub dataframe of fiction books with  less than 160 word count.\n",
    "# As description is our main criteria for model accuracy and prediction , we are removing the books which has low word count.\n",
    "df2 = df[(df.genre == 'Fiction') & (df.word_count <= 160)]\n",
    "# dropping the  rows created in df2 from the df column.\n",
    "df.drop(df2.index,axis=0,inplace=True)"
   ],
   "outputs": [],
   "metadata": {}
  },
  {
   "cell_type": "code",
   "execution_count": 20,
   "source": [
    "df.genre.value_counts()\n",
    "# Updated genre count."
   ],
   "outputs": [
    {
     "output_type": "execute_result",
     "data": {
      "text/plain": [
       "Fantasy            734\n",
       "Nonfiction         678\n",
       "Fiction            499\n",
       "Classics           425\n",
       "Young Adult        340\n",
       "Historical         331\n",
       "Mystery            257\n",
       "Romance            223\n",
       "Science Fiction    213\n",
       "Thriller           156\n",
       "History            151\n",
       "Horror             150\n",
       "Philosophy         104\n",
       "Poetry             101\n",
       "Name: genre, dtype: int64"
      ]
     },
     "metadata": {},
     "execution_count": 20
    }
   ],
   "metadata": {}
  },
  {
   "cell_type": "code",
   "execution_count": 21,
   "source": [
    "df.genre.value_counts().plot(kind='pie', subplots=True, startangle=90,\n",
    "figsize=(15,10), autopct='%1.1f%%')"
   ],
   "outputs": [
    {
     "output_type": "execute_result",
     "data": {
      "text/plain": [
       "array([<AxesSubplot:ylabel='genre'>], dtype=object)"
      ]
     },
     "metadata": {},
     "execution_count": 21
    },
    {
     "output_type": "display_data",
     "data": {
      "image/png": "[encoded data removed]",
      "text/plain": [
       "<Figure size 1080x720 with 1 Axes>"
      ]
     },
     "metadata": {}
    }
   ],
   "metadata": {}
  },
  {
   "cell_type": "code",
   "execution_count": 22,
   "source": [
    "# Label encoding the Class column : Abusive = 0 and Non Abusive = 1\n",
    "\n",
    "le = preprocessing.LabelEncoder()\n",
    "le_fit = le.fit_transform(df.genre)\n",
    "df['genre_le'] = le.fit_transform(df.genre)\n"
   ],
   "outputs": [],
   "metadata": {}
  },
  {
   "cell_type": "code",
   "execution_count": 23,
   "source": [
    "le_fit"
   ],
   "outputs": [
    {
     "output_type": "execute_result",
     "data": {
      "text/plain": [
       "array([ 0,  1,  0, ...,  0, 13,  4])"
      ]
     },
     "metadata": {},
     "execution_count": 23
    }
   ],
   "metadata": {}
  },
  {
   "cell_type": "code",
   "execution_count": 24,
   "source": [
    "df['author'] = df['author'].str.replace(\" \",\"\")\n",
    "df['tags'] = df['author'] + \" \" + df['title'] + \" \" + df['description']\n",
    "df.drop(['word_count', 'author', 'description'], axis=1, inplace=True)\n",
    "\n"
   ],
   "outputs": [],
   "metadata": {}
  },
  {
   "cell_type": "code",
   "execution_count": 25,
   "source": [
    "#text cleaning,lowercase,removing special characters and stemming words. Note: We are handling stopwords directly using CountVectorizer's inbuilt stop_words functions.\n",
    "#stemming\n",
    "ps = PorterStemmer()\n",
    "def clean_summary(text):\n",
    "    # removing everything other than alphabets and numbers with spaces\n",
    "    text = re.sub('\\W+', ' ', text)\n",
    "    text = text.lower()  # converts all the text to lowercase\n",
    "    #stemming words now.\n",
    "    y = []\n",
    "    for i in text.split():\n",
    "        y.append(ps.stem(i))\n",
    "    return \" \".join(y)\n"
   ],
   "outputs": [],
   "metadata": {}
  },
  {
   "cell_type": "code",
   "execution_count": 26,
   "source": [
    "df['tags'] = df['tags'].apply(clean_summary)\n",
    "df.sample(10)\n"
   ],
   "outputs": [
    {
     "output_type": "execute_result",
     "data": {
      "text/html": [
       "<div>\n",
       "<style scoped>\n",
       "    .dataframe tbody tr th:only-of-type {\n",
       "        vertical-align: middle;\n",
       "    }\n",
       "\n",
       "    .dataframe tbody tr th {\n",
       "        vertical-align: top;\n",
       "    }\n",
       "\n",
       "    .dataframe thead th {\n",
       "        text-align: right;\n",
       "    }\n",
       "</style>\n",
       "<table border=\"1\" class=\"dataframe\">\n",
       "  <thead>\n",
       "    <tr style=\"text-align: right;\">\n",
       "      <th></th>\n",
       "      <th>book_id</th>\n",
       "      <th>title</th>\n",
       "      <th>average_rating</th>\n",
       "      <th>genre</th>\n",
       "      <th>url</th>\n",
       "      <th>image_url</th>\n",
       "      <th>genre_le</th>\n",
       "      <th>tags</th>\n",
       "    </tr>\n",
       "  </thead>\n",
       "  <tbody>\n",
       "    <tr>\n",
       "      <th>4774</th>\n",
       "      <td>29875363</td>\n",
       "      <td>The Fireman</td>\n",
       "      <td>3.91</td>\n",
       "      <td>Horror</td>\n",
       "      <td>https://www.goodreads.com/book/show/29875363-t...</td>\n",
       "      <td>https://i.gr-assets.com/images/S/compressed.ph...</td>\n",
       "      <td>5</td>\n",
       "      <td>joehil the fireman from the award win new york...</td>\n",
       "    </tr>\n",
       "    <tr>\n",
       "      <th>6262</th>\n",
       "      <td>32638</td>\n",
       "      <td>The Thief of Always</td>\n",
       "      <td>4.20</td>\n",
       "      <td>Fantasy</td>\n",
       "      <td>https://www.goodreads.com/book/show/32638.The_...</td>\n",
       "      <td>https://i.gr-assets.com/images/S/compressed.ph...</td>\n",
       "      <td>1</td>\n",
       "      <td>clivebark the thief of alway master storytel a...</td>\n",
       "    </tr>\n",
       "    <tr>\n",
       "      <th>5186</th>\n",
       "      <td>91475</td>\n",
       "      <td>White Night</td>\n",
       "      <td>4.37</td>\n",
       "      <td>Fantasy</td>\n",
       "      <td>https://www.goodreads.com/book/show/91475.Whit...</td>\n",
       "      <td>https://i.gr-assets.com/images/S/compressed.ph...</td>\n",
       "      <td>1</td>\n",
       "      <td>jimbutch white night wizard harri dresden must...</td>\n",
       "    </tr>\n",
       "    <tr>\n",
       "      <th>5105</th>\n",
       "      <td>788331</td>\n",
       "      <td>He, She and It</td>\n",
       "      <td>3.98</td>\n",
       "      <td>Science Fiction</td>\n",
       "      <td>https://www.goodreads.com/book/show/788331.He_...</td>\n",
       "      <td>https://i.gr-assets.com/images/S/compressed.ph...</td>\n",
       "      <td>11</td>\n",
       "      <td>margepierci he she and it in the middl of the ...</td>\n",
       "    </tr>\n",
       "    <tr>\n",
       "      <th>4130</th>\n",
       "      <td>898885</td>\n",
       "      <td>Loving Frank</td>\n",
       "      <td>3.75</td>\n",
       "      <td>Historical</td>\n",
       "      <td>https://www.goodreads.com/book/show/898885.Lov...</td>\n",
       "      <td>https://i.gr-assets.com/images/S/compressed.ph...</td>\n",
       "      <td>3</td>\n",
       "      <td>nancyhoran love frank i have been stand on the...</td>\n",
       "    </tr>\n",
       "    <tr>\n",
       "      <th>3650</th>\n",
       "      <td>77449</td>\n",
       "      <td>Here Be Dragons</td>\n",
       "      <td>4.26</td>\n",
       "      <td>Historical</td>\n",
       "      <td>https://www.goodreads.com/book/show/77449.Here...</td>\n",
       "      <td>https://i.gr-assets.com/images/S/compressed.ph...</td>\n",
       "      <td>3</td>\n",
       "      <td>sharonkaypenman here be dragon thirteenth cent...</td>\n",
       "    </tr>\n",
       "    <tr>\n",
       "      <th>3976</th>\n",
       "      <td>9409469</td>\n",
       "      <td>The Gray Wolf Throne</td>\n",
       "      <td>4.38</td>\n",
       "      <td>Fantasy</td>\n",
       "      <td>https://www.goodreads.com/book/show/9409469-th...</td>\n",
       "      <td>https://i.gr-assets.com/images/S/compressed.ph...</td>\n",
       "      <td>1</td>\n",
       "      <td>cindawilliamschima the gray wolf throne han al...</td>\n",
       "    </tr>\n",
       "    <tr>\n",
       "      <th>1242</th>\n",
       "      <td>82970</td>\n",
       "      <td>Lucky</td>\n",
       "      <td>3.77</td>\n",
       "      <td>Nonfiction</td>\n",
       "      <td>https://www.goodreads.com/book/show/82970.Lucky</td>\n",
       "      <td>https://i.gr-assets.com/images/S/compressed.ph...</td>\n",
       "      <td>7</td>\n",
       "      <td>alicesebold lucki in a memoir hail for it sear...</td>\n",
       "    </tr>\n",
       "    <tr>\n",
       "      <th>4950</th>\n",
       "      <td>6452731</td>\n",
       "      <td>Justice: What's the Right Thing to Do?</td>\n",
       "      <td>4.31</td>\n",
       "      <td>Philosophy</td>\n",
       "      <td>https://www.goodreads.com/book/show/6452731-ju...</td>\n",
       "      <td>https://i.gr-assets.com/images/S/compressed.ph...</td>\n",
       "      <td>8</td>\n",
       "      <td>michaelj sandel justic what s the right thing ...</td>\n",
       "    </tr>\n",
       "    <tr>\n",
       "      <th>3018</th>\n",
       "      <td>1421990</td>\n",
       "      <td>Halfway to the Grave</td>\n",
       "      <td>4.12</td>\n",
       "      <td>Fantasy</td>\n",
       "      <td>https://www.goodreads.com/book/show/1421990.Ha...</td>\n",
       "      <td>https://i.gr-assets.com/images/S/compressed.ph...</td>\n",
       "      <td>1</td>\n",
       "      <td>jeanienefrost halfway to the grave flirt with ...</td>\n",
       "    </tr>\n",
       "  </tbody>\n",
       "</table>\n",
       "</div>"
      ],
      "text/plain": [
       "       book_id                                   title  average_rating  \\\n",
       "4774  29875363                             The Fireman            3.91   \n",
       "6262     32638                     The Thief of Always            4.20   \n",
       "5186     91475                             White Night            4.37   \n",
       "5105    788331                          He, She and It            3.98   \n",
       "4130    898885                            Loving Frank            3.75   \n",
       "3650     77449                         Here Be Dragons            4.26   \n",
       "3976   9409469                    The Gray Wolf Throne            4.38   \n",
       "1242     82970                                   Lucky            3.77   \n",
       "4950   6452731  Justice: What's the Right Thing to Do?            4.31   \n",
       "3018   1421990                    Halfway to the Grave            4.12   \n",
       "\n",
       "                genre                                                url  \\\n",
       "4774           Horror  https://www.goodreads.com/book/show/29875363-t...   \n",
       "6262          Fantasy  https://www.goodreads.com/book/show/32638.The_...   \n",
       "5186          Fantasy  https://www.goodreads.com/book/show/91475.Whit...   \n",
       "5105  Science Fiction  https://www.goodreads.com/book/show/788331.He_...   \n",
       "4130       Historical  https://www.goodreads.com/book/show/898885.Lov...   \n",
       "3650       Historical  https://www.goodreads.com/book/show/77449.Here...   \n",
       "3976          Fantasy  https://www.goodreads.com/book/show/9409469-th...   \n",
       "1242       Nonfiction    https://www.goodreads.com/book/show/82970.Lucky   \n",
       "4950       Philosophy  https://www.goodreads.com/book/show/6452731-ju...   \n",
       "3018          Fantasy  https://www.goodreads.com/book/show/1421990.Ha...   \n",
       "\n",
       "                                              image_url  genre_le  \\\n",
       "4774  https://i.gr-assets.com/images/S/compressed.ph...         5   \n",
       "6262  https://i.gr-assets.com/images/S/compressed.ph...         1   \n",
       "5186  https://i.gr-assets.com/images/S/compressed.ph...         1   \n",
       "5105  https://i.gr-assets.com/images/S/compressed.ph...        11   \n",
       "4130  https://i.gr-assets.com/images/S/compressed.ph...         3   \n",
       "3650  https://i.gr-assets.com/images/S/compressed.ph...         3   \n",
       "3976  https://i.gr-assets.com/images/S/compressed.ph...         1   \n",
       "1242  https://i.gr-assets.com/images/S/compressed.ph...         7   \n",
       "4950  https://i.gr-assets.com/images/S/compressed.ph...         8   \n",
       "3018  https://i.gr-assets.com/images/S/compressed.ph...         1   \n",
       "\n",
       "                                                   tags  \n",
       "4774  joehil the fireman from the award win new york...  \n",
       "6262  clivebark the thief of alway master storytel a...  \n",
       "5186  jimbutch white night wizard harri dresden must...  \n",
       "5105  margepierci he she and it in the middl of the ...  \n",
       "4130  nancyhoran love frank i have been stand on the...  \n",
       "3650  sharonkaypenman here be dragon thirteenth cent...  \n",
       "3976  cindawilliamschima the gray wolf throne han al...  \n",
       "1242  alicesebold lucki in a memoir hail for it sear...  \n",
       "4950  michaelj sandel justic what s the right thing ...  \n",
       "3018  jeanienefrost halfway to the grave flirt with ...  "
      ]
     },
     "metadata": {},
     "execution_count": 26
    }
   ],
   "metadata": {}
  },
  {
   "cell_type": "code",
   "execution_count": 27,
   "source": [
    "# assign the independent features (text) to X variable and the target to y\n",
    "X = pd.DataFrame(df['tags'])\n",
    "y = df['genre_le']\n"
   ],
   "outputs": [],
   "metadata": {}
  },
  {
   "cell_type": "code",
   "execution_count": 28,
   "source": [
    "y"
   ],
   "outputs": [
    {
     "output_type": "execute_result",
     "data": {
      "text/plain": [
       "0        0\n",
       "1        1\n",
       "2        0\n",
       "3        7\n",
       "4        0\n",
       "        ..\n",
       "6579     0\n",
       "6580     1\n",
       "6582     0\n",
       "6583    13\n",
       "6584     4\n",
       "Name: genre_le, Length: 4362, dtype: int64"
      ]
     },
     "metadata": {},
     "execution_count": 28
    }
   ],
   "metadata": {}
  },
  {
   "cell_type": "code",
   "execution_count": 29,
   "source": [
    "from imblearn.over_sampling import RandomOverSampler\n",
    "from imblearn.under_sampling import RandomUnderSampler"
   ],
   "outputs": [],
   "metadata": {}
  },
  {
   "cell_type": "code",
   "execution_count": 30,
   "source": [
    "y.value_counts()"
   ],
   "outputs": [
    {
     "output_type": "execute_result",
     "data": {
      "text/plain": [
       "1     734\n",
       "7     678\n",
       "2     499\n",
       "0     425\n",
       "13    340\n",
       "3     331\n",
       "6     257\n",
       "10    223\n",
       "11    213\n",
       "12    156\n",
       "4     151\n",
       "5     150\n",
       "8     104\n",
       "9     101\n",
       "Name: genre_le, dtype: int64"
      ]
     },
     "metadata": {},
     "execution_count": 30
    }
   ],
   "metadata": {
    "scrolled": true
   }
  },
  {
   "cell_type": "code",
   "execution_count": 31,
   "source": [
    "#performing oversampling on most genres.\n",
    "strategy = {0:500, 1:734, 2:500, 3:500, 4:500, 5:500,6:500,7:678,8:500,9:500,10:500,11:500,12:500,13:500}\n",
    "os = RandomOverSampler(sampling_strategy = strategy)"
   ],
   "outputs": [],
   "metadata": {}
  },
  {
   "cell_type": "code",
   "execution_count": 32,
   "source": [
    "X_rs, y_rs = os.fit_resample(X,y)"
   ],
   "outputs": [],
   "metadata": {}
  },
  {
   "cell_type": "code",
   "execution_count": 33,
   "source": [
    "from collections import Counter\n",
    "print(Counter(y))\n"
   ],
   "outputs": [
    {
     "output_type": "stream",
     "name": "stdout",
     "text": [
      "Counter({1: 734, 7: 678, 2: 499, 0: 425, 13: 340, 3: 331, 6: 257, 10: 223, 11: 213, 12: 156, 4: 151, 5: 150, 8: 104, 9: 101})\n"
     ]
    }
   ],
   "metadata": {}
  },
  {
   "cell_type": "code",
   "execution_count": 34,
   "source": [
    "print(Counter(y_rs))"
   ],
   "outputs": [
    {
     "output_type": "stream",
     "name": "stdout",
     "text": [
      "Counter({1: 734, 7: 678, 0: 500, 3: 500, 13: 500, 11: 500, 9: 500, 2: 500, 5: 500, 4: 500, 6: 500, 10: 500, 8: 500, 12: 500})\n"
     ]
    }
   ],
   "metadata": {}
  },
  {
   "cell_type": "code",
   "execution_count": 35,
   "source": [
    "#performing undersampling on class 2\n",
    "strategy = {0:500, 1:500, 2:500, 3:500, 4:500, 5:500,6:500,7:500,8:500,9:500,10:500,11:500,12:500,13:500}\n",
    "us = RandomUnderSampler(sampling_strategy = strategy)"
   ],
   "outputs": [],
   "metadata": {}
  },
  {
   "cell_type": "code",
   "execution_count": 36,
   "source": [
    "X_new, y_new = us.fit_resample(X_rs,y_rs)"
   ],
   "outputs": [],
   "metadata": {}
  },
  {
   "cell_type": "code",
   "execution_count": 37,
   "source": [
    "print(Counter(y_new))"
   ],
   "outputs": [
    {
     "output_type": "stream",
     "name": "stdout",
     "text": [
      "Counter({0: 500, 1: 500, 2: 500, 3: 500, 4: 500, 5: 500, 6: 500, 7: 500, 8: 500, 9: 500, 10: 500, 11: 500, 12: 500, 13: 500})\n"
     ]
    }
   ],
   "metadata": {}
  },
  {
   "cell_type": "code",
   "execution_count": 38,
   "source": [
    "y_new.value_counts().plot(x='y_new',y = 'count',kind = 'bar')"
   ],
   "outputs": [
    {
     "output_type": "execute_result",
     "data": {
      "text/plain": [
       "<AxesSubplot:>"
      ]
     },
     "metadata": {},
     "execution_count": 38
    },
    {
     "output_type": "display_data",
     "data": {
      "image/png": "[encoded data removed]",
      "text/plain": [
       "<Figure size 432x288 with 1 Axes>"
      ]
     },
     "metadata": {
      "needs_background": "light"
     }
    }
   ],
   "metadata": {
    "scrolled": true
   }
  },
  {
   "cell_type": "code",
   "execution_count": 39,
   "source": [
    "y_new.shape"
   ],
   "outputs": [
    {
     "output_type": "execute_result",
     "data": {
      "text/plain": [
       "(7000,)"
      ]
     },
     "metadata": {},
     "execution_count": 39
    }
   ],
   "metadata": {}
  },
  {
   "cell_type": "markdown",
   "source": [
    "## Split the dataset into Train and Test sets"
   ],
   "metadata": {}
  },
  {
   "cell_type": "code",
   "execution_count": 40,
   "source": [
    "#split data into training 80% and test 20%\n",
    "X_train, X_test, y_train, y_test = train_test_split(X_new, y_new, test_size=0.20)"
   ],
   "outputs": [],
   "metadata": {}
  },
  {
   "cell_type": "code",
   "execution_count": 41,
   "source": [
    "X_train.head()"
   ],
   "outputs": [
    {
     "output_type": "execute_result",
     "data": {
      "text/html": [
       "<div>\n",
       "<style scoped>\n",
       "    .dataframe tbody tr th:only-of-type {\n",
       "        vertical-align: middle;\n",
       "    }\n",
       "\n",
       "    .dataframe tbody tr th {\n",
       "        vertical-align: top;\n",
       "    }\n",
       "\n",
       "    .dataframe thead th {\n",
       "        text-align: right;\n",
       "    }\n",
       "</style>\n",
       "<table border=\"1\" class=\"dataframe\">\n",
       "  <thead>\n",
       "    <tr style=\"text-align: right;\">\n",
       "      <th></th>\n",
       "      <th>tags</th>\n",
       "    </tr>\n",
       "  </thead>\n",
       "  <tbody>\n",
       "    <tr>\n",
       "      <th>2343</th>\n",
       "      <td>thucydid histori of the peloponnesian war writ...</td>\n",
       "    </tr>\n",
       "    <tr>\n",
       "      <th>6327</th>\n",
       "      <td>s k tremayn the ice twin a year after one of t...</td>\n",
       "    </tr>\n",
       "    <tr>\n",
       "      <th>3908</th>\n",
       "      <td>billbryson shakespear the world as stage at fi...</td>\n",
       "    </tr>\n",
       "    <tr>\n",
       "      <th>5851</th>\n",
       "      <td>olafstapledon star maker star maker is a scien...</td>\n",
       "    </tr>\n",
       "    <tr>\n",
       "      <th>1456</th>\n",
       "      <td>bethhoffman save ceece honeycutt twelv year ol...</td>\n",
       "    </tr>\n",
       "  </tbody>\n",
       "</table>\n",
       "</div>"
      ],
      "text/plain": [
       "                                                   tags\n",
       "2343  thucydid histori of the peloponnesian war writ...\n",
       "6327  s k tremayn the ice twin a year after one of t...\n",
       "3908  billbryson shakespear the world as stage at fi...\n",
       "5851  olafstapledon star maker star maker is a scien...\n",
       "1456  bethhoffman save ceece honeycutt twelv year ol..."
      ]
     },
     "metadata": {},
     "execution_count": 41
    }
   ],
   "metadata": {
    "scrolled": false
   }
  },
  {
   "cell_type": "code",
   "execution_count": 42,
   "source": [
    "x_train = X_train.iloc[:,0]\n",
    "x_train.head()"
   ],
   "outputs": [
    {
     "output_type": "execute_result",
     "data": {
      "text/plain": [
       "2343    thucydid histori of the peloponnesian war writ...\n",
       "6327    s k tremayn the ice twin a year after one of t...\n",
       "3908    billbryson shakespear the world as stage at fi...\n",
       "5851    olafstapledon star maker star maker is a scien...\n",
       "1456    bethhoffman save ceece honeycutt twelv year ol...\n",
       "Name: tags, dtype: object"
      ]
     },
     "metadata": {},
     "execution_count": 42
    }
   ],
   "metadata": {}
  },
  {
   "cell_type": "markdown",
   "source": [
    "## CountVectorizer - Feature Extraction"
   ],
   "metadata": {}
  },
  {
   "cell_type": "code",
   "execution_count": 43,
   "source": [
    "#using countvectorizer and setting max features and handling stopwords.\n",
    "cv = CountVectorizer(max_features = 10000,stop_words = 'english')"
   ],
   "outputs": [],
   "metadata": {}
  },
  {
   "cell_type": "code",
   "execution_count": 44,
   "source": [
    "x = cv.fit_transform(x_train).toarray()\n",
    "x"
   ],
   "outputs": [
    {
     "output_type": "execute_result",
     "data": {
      "text/plain": [
       "array([[0, 0, 0, ..., 0, 0, 0],\n",
       "       [0, 0, 0, ..., 0, 0, 0],\n",
       "       [0, 0, 0, ..., 0, 0, 0],\n",
       "       ...,\n",
       "       [0, 0, 0, ..., 0, 0, 0],\n",
       "       [0, 0, 0, ..., 0, 0, 0],\n",
       "       [0, 0, 0, ..., 0, 0, 0]])"
      ]
     },
     "metadata": {},
     "execution_count": 44
    }
   ],
   "metadata": {}
  },
  {
   "cell_type": "code",
   "execution_count": 45,
   "source": [
    "x_test = X_test.iloc[:,0]\n",
    "x_test.head()"
   ],
   "outputs": [
    {
     "output_type": "execute_result",
     "data": {
      "text/plain": [
       "559     shannonmesseng everblaz a new york time bestse...\n",
       "712     orsonscottcard songmast an sf classic from the...\n",
       "6476    lincolnchild deep storm twelv thousand feet be...\n",
       "6104    stevenkonkoli the rescu former cia oper turn m...\n",
       "2894    kilongfellow houdini heart houdini heart harke...\n",
       "Name: tags, dtype: object"
      ]
     },
     "metadata": {},
     "execution_count": 45
    }
   ],
   "metadata": {}
  },
  {
   "cell_type": "code",
   "execution_count": 46,
   "source": [
    "test_x = cv.transform(x_test).toarray()\n",
    "test_x.shape"
   ],
   "outputs": [
    {
     "output_type": "execute_result",
     "data": {
      "text/plain": [
       "(1400, 10000)"
      ]
     },
     "metadata": {},
     "execution_count": 46
    }
   ],
   "metadata": {}
  },
  {
   "cell_type": "markdown",
   "source": [
    "## Model Fitting"
   ],
   "metadata": {}
  },
  {
   "cell_type": "code",
   "execution_count": 47,
   "source": [
    "# Creating empty lists to store model training time, model predicting time, model accuracy scores, model precision scores.\n",
    "training_time = []\n",
    "predicting_time = []\n",
    "accuracy_scores = []\n",
    "train_accuracy_scores = []\n",
    "precision_scores = []\n",
    "recall_scores = []\n",
    "f1_scores = []"
   ],
   "outputs": [],
   "metadata": {}
  },
  {
   "cell_type": "code",
   "execution_count": 48,
   "source": [
    "model1 = MultinomialNB()"
   ],
   "outputs": [],
   "metadata": {}
  },
  {
   "cell_type": "code",
   "execution_count": 49,
   "source": [
    "#train model and predict model training time\n",
    "t0 = time()\n",
    "model1.fit(x, y_train)\n",
    "print(\"\\nTraining time:\", round(time()-t0, 3), \"s\\n\")\n",
    "training_time.append(round(time()-t0, 3))"
   ],
   "outputs": [
    {
     "output_type": "stream",
     "name": "stdout",
     "text": [
      "\n",
      "Training time: 6.811 s\n",
      "\n"
     ]
    }
   ],
   "metadata": {}
  },
  {
   "cell_type": "code",
   "execution_count": 50,
   "source": [
    "# Predict using the trained model on test data.\n",
    "t1 = time()\n",
    "predicted = model1.predict(test_x)\n",
    "print(\"Predicting time:\", round(time()-t1, 3), \"s\\n\")\n",
    "predicting_time.append(round(time()-t1, 3))\n",
    "\n",
    "# predicting train data.\n",
    "train_pred1 = model1.predict(x)\n",
    "print('\\nAccuracy Score for training data: ',accuracy_score(y_train,train_pred1))\n",
    "train_accuracy_scores.append(accuracy_score(y_train,train_pred1))"
   ],
   "outputs": [
    {
     "output_type": "stream",
     "name": "stdout",
     "text": [
      "Predicting time: 0.123 s\n",
      "\n",
      "\n",
      "Accuracy Score for training data:  0.9642857142857143\n"
     ]
    }
   ],
   "metadata": {}
  },
  {
   "cell_type": "code",
   "execution_count": 51,
   "source": [
    "## Evaluate model - Accuracy, Precision, Recall\n",
    "from sklearn.metrics import precision_recall_fscore_support\n",
    "\n",
    "print('\\nAccuracy Score',accuracy_score(y_test,predicted))\n",
    "\n",
    "accuracy_scores.append(accuracy_score(y_test,predicted).round(2))\n",
    "\n",
    "print(\"Classification Report:\\n\",classification_report(y_test, predicted))\n",
    "clf_rep = precision_recall_fscore_support(y_test,predicted)\n",
    "precision_scores.append(clf_rep[0][0].round(2))\n",
    "recall_scores.append(clf_rep[1][0].round(2))\n",
    "f1_scores.append(clf_rep[2][0].round(2))\n",
    "\n",
    "## Plot confusion matrix\n",
    "print(\"confusion matrix:\\n\",confusion_matrix(y_test, predicted))\n",
    "\n"
   ],
   "outputs": [
    {
     "output_type": "stream",
     "name": "stdout",
     "text": [
      "\n",
      "Accuracy Score 0.825\n",
      "Classification Report:\n",
      "               precision    recall  f1-score   support\n",
      "\n",
      "           0       0.70      0.66      0.68        94\n",
      "           1       0.80      0.74      0.77       107\n",
      "           2       0.54      0.56      0.55       108\n",
      "           3       0.77      0.78      0.77        95\n",
      "           4       0.87      0.95      0.91       102\n",
      "           5       0.92      0.96      0.94        89\n",
      "           6       0.86      0.80      0.83        97\n",
      "           7       0.86      0.74      0.80        97\n",
      "           8       0.93      0.95      0.94       102\n",
      "           9       0.97      0.96      0.96        94\n",
      "          10       0.84      0.94      0.88        94\n",
      "          11       0.97      0.89      0.93       102\n",
      "          12       0.88      0.89      0.88       112\n",
      "          13       0.70      0.77      0.73       107\n",
      "\n",
      "    accuracy                           0.82      1400\n",
      "   macro avg       0.83      0.83      0.83      1400\n",
      "weighted avg       0.83      0.82      0.82      1400\n",
      "\n",
      "confusion matrix:\n",
      " [[ 62   2   8   8   2   1   1   1   1   1   3   0   2   2]\n",
      " [  6  79   3   3   0   2   0   3   0   0   2   0   1   8]\n",
      " [  8   4  60   7   1   3   3   5   2   0   6   1   6   2]\n",
      " [  2   2   9  74   4   0   2   2   0   0   0   0   0   0]\n",
      " [  0   0   0   0  97   0   0   1   3   1   0   0   0   0]\n",
      " [  0   0   0   0   0  85   0   0   0   0   0   0   0   4]\n",
      " [  0   2   6   0   0   0  78   0   0   0   0   0   5   6]\n",
      " [  5   0   7   1   8   0   0  72   1   1   1   1   0   0]\n",
      " [  0   0   1   0   0   1   0   0  97   0   0   0   0   3]\n",
      " [  3   0   0   0   0   0   0   0   0  90   1   0   0   0]\n",
      " [  0   1   1   0   0   0   1   0   0   0  88   1   0   2]\n",
      " [  2   1   1   1   0   0   0   0   0   0   0  91   0   6]\n",
      " [  0   1   5   0   0   0   4   0   0   0   0   0 100   2]\n",
      " [  0   7  10   2   0   0   2   0   0   0   4   0   0  82]]\n"
     ]
    }
   ],
   "metadata": {}
  },
  {
   "cell_type": "code",
   "execution_count": 52,
   "source": [
    "model2 = GaussianNB()"
   ],
   "outputs": [],
   "metadata": {}
  },
  {
   "cell_type": "code",
   "execution_count": 53,
   "source": [
    "#train model and predict model training time\n",
    "t0 = time()\n",
    "model2.fit(x, y_train)\n",
    "print(\"\\nTraining time:\", round(time()-t0, 3), \"s\\n\")\n",
    "training_time.append(round(time()-t0, 3))"
   ],
   "outputs": [
    {
     "output_type": "stream",
     "name": "stdout",
     "text": [
      "\n",
      "Training time: 0.928 s\n",
      "\n"
     ]
    }
   ],
   "metadata": {}
  },
  {
   "cell_type": "code",
   "execution_count": 54,
   "source": [
    "# Predit using the trained model\n",
    "t1 = time()\n",
    "predicted = model2.predict(test_x)\n",
    "print(\"Predicting time:\", round(time()-t1, 3), \"s\\n\")\n",
    "predicting_time.append(round(time()-t1, 3))\n",
    "# predicting train data.\n",
    "train_pred2 = model2.predict(x)\n",
    "print('\\nAccuracy Score for training data: ',accuracy_score(y_train,train_pred1))\n",
    "train_accuracy_scores.append(accuracy_score(y_train,train_pred2))"
   ],
   "outputs": [
    {
     "output_type": "stream",
     "name": "stdout",
     "text": [
      "Predicting time: 1.263 s\n",
      "\n",
      "\n",
      "Accuracy Score for training data:  0.9642857142857143\n"
     ]
    }
   ],
   "metadata": {}
  },
  {
   "cell_type": "code",
   "execution_count": 55,
   "source": [
    "## Evaluate model - Accuracy, Precision, Recall\n",
    "from sklearn.metrics import precision_recall_fscore_support\n",
    "\n",
    "print('\\nAccuracy Score',accuracy_score(y_test,predicted))\n",
    "\n",
    "accuracy_scores.append(accuracy_score(y_test,predicted).round(2))\n",
    "\n",
    "print(\"Classification Report:\\n\",classification_report(y_test, predicted))\n",
    "clf_rep = precision_recall_fscore_support(y_test,predicted)\n",
    "precision_scores.append(clf_rep[0][0].round(2))\n",
    "recall_scores.append(clf_rep[1][0].round(2))\n",
    "f1_scores.append(clf_rep[2][0].round(2))\n",
    "\n",
    "## Plot confusion matrix\n",
    "print(\"confusion matrix:\\n\",confusion_matrix(y_test, predicted))\n"
   ],
   "outputs": [
    {
     "output_type": "stream",
     "name": "stdout",
     "text": [
      "\n",
      "Accuracy Score 0.7721428571428571\n",
      "Classification Report:\n",
      "               precision    recall  f1-score   support\n",
      "\n",
      "           0       0.67      0.48      0.56        94\n",
      "           1       0.71      0.44      0.54       107\n",
      "           2       0.30      0.65      0.41       108\n",
      "           3       0.77      0.63      0.69        95\n",
      "           4       0.94      0.96      0.95       102\n",
      "           5       0.95      0.94      0.95        89\n",
      "           6       0.88      0.78      0.83        97\n",
      "           7       0.55      0.60      0.57        97\n",
      "           8       0.99      1.00      1.00       102\n",
      "           9       0.98      0.99      0.98        94\n",
      "          10       0.91      0.90      0.91        94\n",
      "          11       0.94      0.96      0.95       102\n",
      "          12       0.96      0.88      0.92       112\n",
      "          13       0.88      0.62      0.73       107\n",
      "\n",
      "    accuracy                           0.77      1400\n",
      "   macro avg       0.82      0.77      0.79      1400\n",
      "weighted avg       0.82      0.77      0.78      1400\n",
      "\n",
      "confusion matrix:\n",
      " [[ 45   2  26   6   3   1   0   5   0   0   1   1   1   3]\n",
      " [  6  47  33   5   0   1   1   5   0   0   3   2   0   4]\n",
      " [  4   5  70   5   0   1   2  14   1   0   2   1   1   2]\n",
      " [  1   2  24  60   1   0   1   6   0   0   0   0   0   0]\n",
      " [  0   0   1   0  98   0   0   2   0   1   0   0   0   0]\n",
      " [  0   2   3   0   0  84   0   0   0   0   0   0   0   0]\n",
      " [  1   0  16   0   0   0  76   3   0   0   0   0   1   0]\n",
      " [  5   0  29   1   2   0   0  58   0   1   0   1   0   0]\n",
      " [  0   0   0   0   0   0   0   0 102   0   0   0   0   0]\n",
      " [  0   0   1   0   0   0   0   0   0  93   0   0   0   0]\n",
      " [  0   0   5   0   0   0   0   4   0   0  85   0   0   0]\n",
      " [  2   0   2   0   0   0   0   0   0   0   0  98   0   0]\n",
      " [  0   0   9   0   0   0   2   2   0   0   0   0  99   0]\n",
      " [  3   8  14   1   0   1   4   6   0   0   2   1   1  66]]\n"
     ]
    }
   ],
   "metadata": {}
  },
  {
   "cell_type": "code",
   "execution_count": 56,
   "source": [
    "model3 = tree.DecisionTreeClassifier()"
   ],
   "outputs": [],
   "metadata": {}
  },
  {
   "cell_type": "code",
   "execution_count": 57,
   "source": [
    "#train model and predict model training time\n",
    "t0 = time()\n",
    "model3.fit(x, y_train)\n",
    "print(\"\\nTraining time:\", round(time()-t0, 3), \"s\\n\")\n",
    "training_time.append(round(time()-t0, 3))"
   ],
   "outputs": [
    {
     "output_type": "stream",
     "name": "stdout",
     "text": [
      "\n",
      "Training time: 17.045 s\n",
      "\n"
     ]
    }
   ],
   "metadata": {}
  },
  {
   "cell_type": "code",
   "execution_count": 58,
   "source": [
    "# Predit using the trained model\n",
    "t1 = time()\n",
    "predicted = model3.predict(test_x)\n",
    "print(\"Predicting time:\", round(time()-t1, 3), \"s\\n\")\n",
    "predicting_time.append(round(time()-t1, 3))\n",
    "\n",
    "# predicting train data.\n",
    "train_pred3 = model3.predict(x)\n",
    "print('\\nAccuracy Score for training data: ',accuracy_score(y_train,train_pred1))\n",
    "train_accuracy_scores.append(accuracy_score(y_train,train_pred3))"
   ],
   "outputs": [
    {
     "output_type": "stream",
     "name": "stdout",
     "text": [
      "Predicting time: 0.066 s\n",
      "\n",
      "\n",
      "Accuracy Score for training data:  0.9642857142857143\n"
     ]
    }
   ],
   "metadata": {}
  },
  {
   "cell_type": "code",
   "execution_count": 59,
   "source": [
    "## Evaluate model - Accuracy, Precision, Recall\n",
    "from sklearn.metrics import precision_recall_fscore_support\n",
    "\n",
    "print('\\nAccuracy Score',accuracy_score(y_test,predicted))\n",
    "\n",
    "accuracy_scores.append(accuracy_score(y_test,predicted).round(2))\n",
    "\n",
    "print(\"Classification Report:\\n\",classification_report(y_test, predicted))\n",
    "clf_rep = precision_recall_fscore_support(y_test,predicted)\n",
    "precision_scores.append(clf_rep[0][0].round(2))\n",
    "recall_scores.append(clf_rep[1][0].round(2))\n",
    "f1_scores.append(clf_rep[2][0].round(2))\n",
    "\n",
    "## Plot confusion matrix\n",
    "print(\"confusion matrix:\\n\",confusion_matrix(y_test, predicted))\n"
   ],
   "outputs": [
    {
     "output_type": "stream",
     "name": "stdout",
     "text": [
      "\n",
      "Accuracy Score 0.7107142857142857\n",
      "Classification Report:\n",
      "               precision    recall  f1-score   support\n",
      "\n",
      "           0       0.51      0.39      0.44        94\n",
      "           1       0.49      0.44      0.46       107\n",
      "           2       0.24      0.13      0.17       108\n",
      "           3       0.50      0.62      0.56        95\n",
      "           4       0.83      0.97      0.90       102\n",
      "           5       0.91      0.96      0.93        89\n",
      "           6       0.73      0.86      0.79        97\n",
      "           7       0.51      0.36      0.42        97\n",
      "           8       0.94      1.00      0.97       102\n",
      "           9       0.94      1.00      0.97        94\n",
      "          10       0.73      0.87      0.79        94\n",
      "          11       0.79      0.94      0.86       102\n",
      "          12       0.88      0.90      0.89       112\n",
      "          13       0.59      0.57      0.58       107\n",
      "\n",
      "    accuracy                           0.71      1400\n",
      "   macro avg       0.69      0.72      0.70      1400\n",
      "weighted avg       0.68      0.71      0.69      1400\n",
      "\n",
      "confusion matrix:\n",
      " [[ 37   7   7  10   0   2   3  10   1   3   5   3   2   4]\n",
      " [  3  47   2   8   2   2   9   7   0   0   7   5   2  13]\n",
      " [ 11  11  14  19   5   2   9   7   1   1   7   7   5   9]\n",
      " [  6   5  10  59   1   0   0   6   1   0   3   1   0   3]\n",
      " [  1   2   0   0  99   0   0   0   0   0   0   0   0   0]\n",
      " [  2   0   2   0   0  85   0   0   0   0   0   0   0   0]\n",
      " [  1   6   0   3   0   0  83   0   0   0   0   0   1   3]\n",
      " [  1   8   7   5  11   1   3  35   4   2   5   5   2   8]\n",
      " [  0   0   0   0   0   0   0   0 102   0   0   0   0   0]\n",
      " [  0   0   0   0   0   0   0   0   0  94   0   0   0   0]\n",
      " [  2   0   3   3   0   0   2   0   0   0  82   0   0   2]\n",
      " [  3   0   0   2   0   0   1   0   0   0   0  96   0   0]\n",
      " [  2   4   3   0   1   0   0   0   0   0   0   1 101   0]\n",
      " [  4   6  11   8   0   1   4   3   0   0   4   3   2  61]]\n"
     ]
    }
   ],
   "metadata": {}
  },
  {
   "cell_type": "code",
   "execution_count": 60,
   "source": [
    "model5 = KNeighborsClassifier(n_neighbors=5, metric='euclidean')"
   ],
   "outputs": [],
   "metadata": {}
  },
  {
   "cell_type": "code",
   "execution_count": 61,
   "source": [
    "#train model and predict model training time\n",
    "t0 = time()\n",
    "model5.fit(x, y_train)\n",
    "print(\"\\nTraining time:\", round(time()-t0, 3), \"s\\n\")\n",
    "training_time.append(round(time()-t0, 3))"
   ],
   "outputs": [
    {
     "output_type": "stream",
     "name": "stdout",
     "text": [
      "\n",
      "Training time: 0.002 s\n",
      "\n"
     ]
    }
   ],
   "metadata": {}
  },
  {
   "cell_type": "code",
   "execution_count": 62,
   "source": [
    "# Predit using the trained model\n",
    "t1 = time()\n",
    "predicted = model5.predict(test_x)\n",
    "print(\"Predicting time:\", round(time()-t1, 3), \"s\\n\")\n",
    "predicting_time.append(round(time()-t1, 3))\n",
    "\n",
    "# predicting train data.\n",
    "train_pred5 = model5.predict(x)\n",
    "print('\\nAccuracy Score for training data: ',accuracy_score(y_train,train_pred1))\n",
    "train_accuracy_scores.append(accuracy_score(y_train,train_pred5))"
   ],
   "outputs": [
    {
     "output_type": "stream",
     "name": "stdout",
     "text": [
      "Predicting time: 1.432 s\n",
      "\n",
      "\n",
      "Accuracy Score for training data:  0.9642857142857143\n"
     ]
    }
   ],
   "metadata": {}
  },
  {
   "cell_type": "code",
   "execution_count": 63,
   "source": [
    "## Evaluate model - Accuracy, Precision, Recall\n",
    "from sklearn.metrics import precision_recall_fscore_support\n",
    "\n",
    "print('\\nAccuracy Score',accuracy_score(y_test,predicted))\n",
    "\n",
    "accuracy_scores.append(accuracy_score(y_test,predicted).round(2))\n",
    "\n",
    "print(\"Classification Report:\\n\",classification_report(y_test, predicted))\n",
    "clf_rep = precision_recall_fscore_support(y_test,predicted)\n",
    "precision_scores.append(clf_rep[0][0].round(2))\n",
    "recall_scores.append(clf_rep[1][0].round(2))\n",
    "f1_scores.append(clf_rep[2][0].round(2))\n",
    "\n",
    "## Plot confusion matrix\n",
    "print(\"confusion matrix:\\n\",confusion_matrix(y_test, predicted))\n"
   ],
   "outputs": [
    {
     "output_type": "stream",
     "name": "stdout",
     "text": [
      "\n",
      "Accuracy Score 0.36857142857142855\n",
      "Classification Report:\n",
      "               precision    recall  f1-score   support\n",
      "\n",
      "           0       0.10      0.79      0.18        94\n",
      "           1       0.62      0.07      0.13       107\n",
      "           2       0.50      0.01      0.02       108\n",
      "           3       0.48      0.22      0.30        95\n",
      "           4       0.79      0.58      0.67       102\n",
      "           5       0.49      0.54      0.52        89\n",
      "           6       0.90      0.19      0.31        97\n",
      "           7       1.00      0.03      0.06        97\n",
      "           8       0.68      0.78      0.73       102\n",
      "           9       0.81      0.84      0.83        94\n",
      "          10       0.61      0.30      0.40        94\n",
      "          11       0.84      0.35      0.50       102\n",
      "          12       0.65      0.49      0.56       112\n",
      "          13       0.50      0.06      0.10       107\n",
      "\n",
      "    accuracy                           0.37      1400\n",
      "   macro avg       0.64      0.37      0.38      1400\n",
      "weighted avg       0.64      0.37      0.37      1400\n",
      "\n",
      "confusion matrix:\n",
      " [[74  0  0  1  0  5  2  0  3  5  1  0  3  0]\n",
      " [76  8  0  2  0  6  0  0  5  2  2  0  5  1]\n",
      " [68  2  1  5  1  9  0  0  9  2  2  1  6  2]\n",
      " [65  1  0 21  0  3  0  0  0  1  2  0  2  0]\n",
      " [33  0  0  2 59  1  0  0  4  1  0  0  2  0]\n",
      " [37  0  0  0  2 48  0  0  0  0  1  0  1  0]\n",
      " [67  0  0  1  0  2 18  0  5  0  0  0  4  0]\n",
      " [60  0  0  4  9  7  0  3  5  2  3  1  2  1]\n",
      " [21  0  0  1  0  0  0  0 80  0  0  0  0  0]\n",
      " [14  0  0  0  1  0  0  0  0 79  0  0  0  0]\n",
      " [55  1  0  0  1  2  0  0  0  3 28  0  2  2]\n",
      " [54  0  0  0  0  5  0  0  1  1  5 36  0  0]\n",
      " [43  0  0  2  0  4  0  0  5  0  1  2 55  0]\n",
      " [79  1  1  5  2  5  0  0  0  1  1  3  3  6]]\n"
     ]
    }
   ],
   "metadata": {}
  },
  {
   "cell_type": "code",
   "execution_count": 64,
   "source": [
    "model6 = LogisticRegression(max_iter=2000)"
   ],
   "outputs": [],
   "metadata": {}
  },
  {
   "cell_type": "code",
   "execution_count": 65,
   "source": [
    "#train model and predict model training time\n",
    "t0 = time()\n",
    "model6.fit(x, y_train)\n",
    "print(\"\\nTraining time:\", round(time()-t0, 3), \"s\\n\")\n",
    "training_time.append(round(time()-t0, 3))"
   ],
   "outputs": [
    {
     "output_type": "stream",
     "name": "stdout",
     "text": [
      "\n",
      "Training time: 9.731 s\n",
      "\n"
     ]
    }
   ],
   "metadata": {}
  },
  {
   "cell_type": "code",
   "execution_count": 66,
   "source": [
    "# Predit using the trained model\n",
    "t1 = time()\n",
    "predicted = model6.predict(test_x)\n",
    "print(\"Predicting time:\", round(time()-t1, 3), \"s\\n\")\n",
    "predicting_time.append(round(time()-t1, 3))\n",
    "\n",
    "# predicting train data.\n",
    "train_pred6 = model6.predict(x)\n",
    "print('\\nAccuracy Score for training data: ',accuracy_score(y_train,train_pred1))\n",
    "train_accuracy_scores.append(accuracy_score(y_train,train_pred6))"
   ],
   "outputs": [
    {
     "output_type": "stream",
     "name": "stdout",
     "text": [
      "Predicting time: 0.077 s\n",
      "\n",
      "\n",
      "Accuracy Score for training data:  0.9642857142857143\n"
     ]
    }
   ],
   "metadata": {}
  },
  {
   "cell_type": "code",
   "execution_count": 67,
   "source": [
    "## Evaluate model - Accuracy, Precision, Recall\n",
    "from sklearn.metrics import precision_recall_fscore_support\n",
    "\n",
    "print('\\nAccuracy Score',accuracy_score(y_test,predicted))\n",
    "\n",
    "accuracy_scores.append(accuracy_score(y_test,predicted).round(2))\n",
    "\n",
    "print(\"Classification Report:\\n\",classification_report(y_test, predicted))\n",
    "clf_rep = precision_recall_fscore_support(y_test,predicted)\n",
    "precision_scores.append(clf_rep[0][0].round(2))\n",
    "recall_scores.append(clf_rep[1][0].round(2))\n",
    "f1_scores.append(clf_rep[2][0].round(2))\n",
    "\n",
    "## Plot confusion matrix\n",
    "print(\"confusion matrix:\\n\",confusion_matrix(y_test, predicted))\n"
   ],
   "outputs": [
    {
     "output_type": "stream",
     "name": "stdout",
     "text": [
      "\n",
      "Accuracy Score 0.8364285714285714\n",
      "Classification Report:\n",
      "               precision    recall  f1-score   support\n",
      "\n",
      "           0       0.71      0.81      0.76        94\n",
      "           1       0.75      0.73      0.74       107\n",
      "           2       0.63      0.43      0.51       108\n",
      "           3       0.75      0.74      0.74        95\n",
      "           4       0.92      0.97      0.94       102\n",
      "           5       0.89      0.99      0.94        89\n",
      "           6       0.83      0.88      0.85        97\n",
      "           7       0.77      0.64      0.70        97\n",
      "           8       0.94      1.00      0.97       102\n",
      "           9       0.99      1.00      0.99        94\n",
      "          10       0.81      0.96      0.88        94\n",
      "          11       0.93      1.00      0.96       102\n",
      "          12       0.93      0.89      0.91       112\n",
      "          13       0.79      0.74      0.76       107\n",
      "\n",
      "    accuracy                           0.84      1400\n",
      "   macro avg       0.83      0.84      0.83      1400\n",
      "weighted avg       0.83      0.84      0.83      1400\n",
      "\n",
      "confusion matrix:\n",
      " [[ 76   3   2   4   0   1   0   4   0   1   3   0   0   0]\n",
      " [  5  78   0   3   0   3   2   2   1   0   3   4   0   6]\n",
      " [ 10   5  46  10   1   3   9   6   1   0   5   1   3   8]\n",
      " [  5   3   7  70   1   1   1   3   0   0   3   1   0   0]\n",
      " [  0   0   0   0  99   0   0   3   0   0   0   0   0   0]\n",
      " [  0   0   0   0   0  88   0   0   0   0   0   0   0   1]\n",
      " [  3   2   2   0   0   0  85   0   0   0   0   0   3   2]\n",
      " [  7   0   8   1   7   1   0  62   5   0   1   2   1   2]\n",
      " [  0   0   0   0   0   0   0   0 102   0   0   0   0   0]\n",
      " [  0   0   0   0   0   0   0   0   0  94   0   0   0   0]\n",
      " [  0   2   0   0   0   0   1   0   0   0  90   0   0   1]\n",
      " [  0   0   0   0   0   0   0   0   0   0   0 102   0   0]\n",
      " [  0   0   4   0   0   2   3   1   0   0   1   0 100   1]\n",
      " [  1  11   4   5   0   0   2   0   0   0   5   0   0  79]]\n"
     ]
    }
   ],
   "metadata": {}
  },
  {
   "cell_type": "code",
   "execution_count": 68,
   "source": [
    "model7 = SVC(kernel='linear',gamma='auto')"
   ],
   "outputs": [],
   "metadata": {}
  },
  {
   "cell_type": "code",
   "execution_count": 69,
   "source": [
    "#train model and predict model training time\n",
    "t0 = time()\n",
    "model7.fit(x, y_train)\n",
    "print(\"\\nTraining time:\", round(time()-t0, 3), \"s\\n\")\n",
    "training_time.append(round(time()-t0, 3))"
   ],
   "outputs": [
    {
     "output_type": "stream",
     "name": "stdout",
     "text": [
      "\n",
      "Training time: 73.295 s\n",
      "\n"
     ]
    }
   ],
   "metadata": {}
  },
  {
   "cell_type": "code",
   "execution_count": 70,
   "source": [
    "# Predict using the trained model\n",
    "t1 = time()\n",
    "predicted = model7.predict(test_x)\n",
    "print(\"Predicting time:\", round(time()-t1, 3), \"s\\n\")\n",
    "predicting_time.append(round(time()-t1, 3))\n",
    "\n",
    "# predicting train data.\n",
    "train_pred7 = model7.predict(x)\n",
    "print('\\nAccuracy Score for training data: ',accuracy_score(y_train,train_pred1))\n",
    "train_accuracy_scores.append(accuracy_score(y_train,train_pred7))"
   ],
   "outputs": [
    {
     "output_type": "stream",
     "name": "stdout",
     "text": [
      "Predicting time: 23.117 s\n",
      "\n",
      "\n",
      "Accuracy Score for training data:  0.9642857142857143\n"
     ]
    }
   ],
   "metadata": {}
  },
  {
   "cell_type": "code",
   "execution_count": 71,
   "source": [
    "## Evaluate model - Accuracy, Precision, Recall\n",
    "from sklearn.metrics import precision_recall_fscore_support\n",
    "\n",
    "print('\\nAccuracy Score',accuracy_score(y_test,predicted))\n",
    "\n",
    "accuracy_scores.append(accuracy_score(y_test,predicted).round(2))\n",
    "\n",
    "print(\"Classification Report:\\n\",classification_report(y_test, predicted))\n",
    "clf_rep = precision_recall_fscore_support(y_test,predicted)\n",
    "precision_scores.append(clf_rep[0][0].round(2))\n",
    "recall_scores.append(clf_rep[1][0].round(2))\n",
    "f1_scores.append(clf_rep[2][0].round(2))\n",
    "\n",
    "## Plot confusion matrix\n",
    "print(\"confusion matrix:\\n\",confusion_matrix(y_test, predicted))\n"
   ],
   "outputs": [
    {
     "output_type": "stream",
     "name": "stdout",
     "text": [
      "\n",
      "Accuracy Score 0.8321428571428572\n",
      "Classification Report:\n",
      "               precision    recall  f1-score   support\n",
      "\n",
      "           0       0.59      0.82      0.68        94\n",
      "           1       0.76      0.72      0.74       107\n",
      "           2       0.58      0.55      0.56       108\n",
      "           3       0.80      0.71      0.75        95\n",
      "           4       0.91      0.97      0.94       102\n",
      "           5       0.96      0.97      0.96        89\n",
      "           6       0.91      0.90      0.90        97\n",
      "           7       0.81      0.58      0.67        97\n",
      "           8       0.98      1.00      0.99       102\n",
      "           9       0.99      0.99      0.99        94\n",
      "          10       0.79      0.93      0.85        94\n",
      "          11       0.92      0.98      0.95       102\n",
      "          12       0.94      0.89      0.92       112\n",
      "          13       0.78      0.70      0.74       107\n",
      "\n",
      "    accuracy                           0.83      1400\n",
      "   macro avg       0.84      0.84      0.83      1400\n",
      "weighted avg       0.84      0.83      0.83      1400\n",
      "\n",
      "confusion matrix:\n",
      " [[ 77   3   4   4   0   1   0   2   0   1   1   1   0   0]\n",
      " [  9  77   3   3   0   1   1   2   1   0   3   1   0   6]\n",
      " [ 12   3  59   6   1   2   5   5   0   0   7   1   1   6]\n",
      " [ 11   2   9  67   1   0   1   1   0   0   3   0   0   0]\n",
      " [  0   0   0   0  99   0   0   3   0   0   0   0   0   0]\n",
      " [  0   0   2   0   0  86   0   0   0   0   1   0   0   0]\n",
      " [  3   3   0   0   0   0  87   0   0   0   0   0   3   1]\n",
      " [ 10   0  12   0   8   0   0  56   1   0   1   4   2   3]\n",
      " [  0   0   0   0   0   0   0   0 102   0   0   0   0   0]\n",
      " [  0   0   0   0   0   0   0   0   0  93   0   0   0   1]\n",
      " [  1   0   3   0   0   0   0   0   0   0  87   0   0   3]\n",
      " [  2   0   0   0   0   0   0   0   0   0   0 100   0   0]\n",
      " [  4   1   3   0   0   0   0   0   0   0   1   2 100   1]\n",
      " [  2  12   6   4   0   0   2   0   0   0   6   0   0  75]]\n"
     ]
    }
   ],
   "metadata": {}
  },
  {
   "cell_type": "code",
   "execution_count": 72,
   "source": [
    "from keras.wrappers.scikit_learn import KerasClassifier\n",
    "\n",
    "# create model\n",
    "def create_model():\n",
    "    model8 = Sequential()\n",
    "    model8.add(Dense(10, input_dim=10000, kernel_initializer='uniform', activation='relu'))\n",
    "    model8.add(Dense(1, kernel_initializer='uniform', activation='sigmoid'))\n",
    "    \n",
    "    adam=Adam(lr=0.01)\n",
    "    model8.compile(loss='binary_crossentropy', optimizer=adam, metrics=['accuracy'])\n",
    "    return model8\n",
    "\n",
    "# Create the model\n",
    "\n",
    "model8 = KerasClassifier(build_fn=create_model,verbose = 0, batch_size = 10, epochs = 50 )"
   ],
   "outputs": [],
   "metadata": {}
  },
  {
   "cell_type": "code",
   "execution_count": 73,
   "source": [
    "t0 = time()\n",
    "nn = model8.fit(x, y_train)\n",
    "print(\"\\nTraining time:\", round(time()-t0, 3), \"s\\n\")\n",
    "training_time.append(round(time()-t0, 3))"
   ],
   "outputs": [
    {
     "output_type": "stream",
     "name": "stdout",
     "text": [
      "\n",
      "Training time: 22.727 s\n",
      "\n"
     ]
    }
   ],
   "metadata": {}
  },
  {
   "cell_type": "code",
   "execution_count": 74,
   "source": [
    "t1 = time()\n",
    "pred = model8.predict(test_x).round(1) \n",
    "predicting_time.append(round(time()-t1, 3))\n",
    "\n",
    "print(pred[0:5]) \n",
    "\n",
    "# predicting train data.\n",
    "train_pred8 = model8.predict(x)\n",
    "print('\\nAccuracy Score for training data: ',accuracy_score(y_train,train_pred1))\n",
    "train_accuracy_scores.append(accuracy_score(y_train,train_pred8))\n"
   ],
   "outputs": [
    {
     "output_type": "stream",
     "name": "stdout",
     "text": [
      "[[1]\n",
      " [1]\n",
      " [1]\n",
      " [1]\n",
      " [1]]\n",
      "\n",
      "Accuracy Score for training data:  0.9642857142857143\n"
     ]
    }
   ],
   "metadata": {}
  },
  {
   "cell_type": "code",
   "execution_count": 75,
   "source": [
    "## Evaluate model - Accuracy, Precision, Recall\n",
    "from sklearn.metrics import precision_recall_fscore_support\n",
    "\n",
    "print('\\nAccuracy Score',accuracy_score(y_test,pred))\n",
    "\n",
    "accuracy_scores.append(accuracy_score(y_test,pred).round(2))\n",
    "\n",
    "print(\"Classification Report:\\n\",classification_report(y_test, pred))\n",
    "clf_rep = precision_recall_fscore_support(y_test,pred)\n",
    "precision_scores.append(clf_rep[0][0].round(2))\n",
    "recall_scores.append(clf_rep[1][0].round(2))\n",
    "f1_scores.append(clf_rep[2][0].round(2))\n",
    "\n",
    "## Plot confusion matrix\n",
    "print(\"confusion matrix:\\n\",confusion_matrix(y_test, pred))\n"
   ],
   "outputs": [
    {
     "output_type": "stream",
     "name": "stdout",
     "text": [
      "\n",
      "Accuracy Score 0.07642857142857143\n",
      "Classification Report:\n",
      "               precision    recall  f1-score   support\n",
      "\n",
      "           0       0.00      0.00      0.00        94\n",
      "           1       0.08      1.00      0.14       107\n",
      "           2       0.00      0.00      0.00       108\n",
      "           3       0.00      0.00      0.00        95\n",
      "           4       0.00      0.00      0.00       102\n",
      "           5       0.00      0.00      0.00        89\n",
      "           6       0.00      0.00      0.00        97\n",
      "           7       0.00      0.00      0.00        97\n",
      "           8       0.00      0.00      0.00       102\n",
      "           9       0.00      0.00      0.00        94\n",
      "          10       0.00      0.00      0.00        94\n",
      "          11       0.00      0.00      0.00       102\n",
      "          12       0.00      0.00      0.00       112\n",
      "          13       0.00      0.00      0.00       107\n",
      "\n",
      "    accuracy                           0.08      1400\n",
      "   macro avg       0.01      0.07      0.01      1400\n",
      "weighted avg       0.01      0.08      0.01      1400\n",
      "\n",
      "confusion matrix:\n",
      " [[  0  94   0   0   0   0   0   0   0   0   0   0   0   0]\n",
      " [  0 107   0   0   0   0   0   0   0   0   0   0   0   0]\n",
      " [  0 108   0   0   0   0   0   0   0   0   0   0   0   0]\n",
      " [  0  95   0   0   0   0   0   0   0   0   0   0   0   0]\n",
      " [  0 102   0   0   0   0   0   0   0   0   0   0   0   0]\n",
      " [  0  89   0   0   0   0   0   0   0   0   0   0   0   0]\n",
      " [  0  97   0   0   0   0   0   0   0   0   0   0   0   0]\n",
      " [  0  97   0   0   0   0   0   0   0   0   0   0   0   0]\n",
      " [  0 102   0   0   0   0   0   0   0   0   0   0   0   0]\n",
      " [  0  94   0   0   0   0   0   0   0   0   0   0   0   0]\n",
      " [  0  94   0   0   0   0   0   0   0   0   0   0   0   0]\n",
      " [  0 102   0   0   0   0   0   0   0   0   0   0   0   0]\n",
      " [  0 112   0   0   0   0   0   0   0   0   0   0   0   0]\n",
      " [  0 107   0   0   0   0   0   0   0   0   0   0   0   0]]\n"
     ]
    }
   ],
   "metadata": {}
  },
  {
   "cell_type": "code",
   "execution_count": 76,
   "source": [
    "model4 = RandomForestClassifier(max_depth=2, random_state=0)"
   ],
   "outputs": [],
   "metadata": {}
  },
  {
   "cell_type": "code",
   "execution_count": 77,
   "source": [
    "#train model and predict model training time\n",
    "t0 = time()\n",
    "model4.fit(x, y_train)\n",
    "print(\"\\nTraining time:\", round(time()-t0, 3), \"s\\n\")\n",
    "training_time.append(round(time()-t0, 3))"
   ],
   "outputs": [
    {
     "output_type": "stream",
     "name": "stdout",
     "text": [
      "\n",
      "Training time: 1.984 s\n",
      "\n"
     ]
    }
   ],
   "metadata": {}
  },
  {
   "cell_type": "code",
   "execution_count": 78,
   "source": [
    "# Predit using the trained model\n",
    "t1 = time()\n",
    "predicted = model4.predict(test_x)\n",
    "print(\"Predicting time:\", round(time()-t1, 3), \"s\\n\")\n",
    "predicting_time.append(round(time()-t1, 3))\n",
    "\n",
    "# predicting train data.\n",
    "train_pred4 = model4.predict(x)\n",
    "print('\\nAccuracy Score for training data: ',accuracy_score(y_train,train_pred1))\n",
    "train_accuracy_scores.append(accuracy_score(y_train,train_pred4))"
   ],
   "outputs": [
    {
     "output_type": "stream",
     "name": "stdout",
     "text": [
      "Predicting time: 0.082 s\n",
      "\n",
      "\n",
      "Accuracy Score for training data:  0.9642857142857143\n"
     ]
    }
   ],
   "metadata": {}
  },
  {
   "cell_type": "code",
   "execution_count": 79,
   "source": [
    "## Evaluate model - Accuracy, Precision, Recall\n",
    "from sklearn.metrics import precision_recall_fscore_support\n",
    "\n",
    "print('\\nAccuracy Score',accuracy_score(y_test,predicted))\n",
    "\n",
    "accuracy_scores.append(accuracy_score(y_test,predicted).round(2))\n",
    "\n",
    "print(\"Classification Report:\\n\",classification_report(y_test, predicted))\n",
    "clf_rep = precision_recall_fscore_support(y_test,predicted)\n",
    "precision_scores.append(clf_rep[0][0].round(2))\n",
    "recall_scores.append(clf_rep[1][0].round(2))\n",
    "f1_scores.append(clf_rep[2][0].round(2))\n",
    "\n",
    "## Plot confusion matrix\n",
    "print(\"confusion matrix:\\n\",confusion_matrix(y_test, predicted))\n"
   ],
   "outputs": [
    {
     "output_type": "stream",
     "name": "stdout",
     "text": [
      "\n",
      "Accuracy Score 0.4421428571428571\n",
      "Classification Report:\n",
      "               precision    recall  f1-score   support\n",
      "\n",
      "           0       0.15      0.33      0.21        94\n",
      "           1       0.60      0.35      0.44       107\n",
      "           2       1.00      0.01      0.02       108\n",
      "           3       0.36      0.34      0.35        95\n",
      "           4       0.59      0.72      0.65       102\n",
      "           5       0.53      0.62      0.57        89\n",
      "           6       0.36      0.84      0.51        97\n",
      "           7       0.50      0.26      0.34        97\n",
      "           8       0.74      0.72      0.73       102\n",
      "           9       0.55      0.83      0.66        94\n",
      "          10       0.26      0.47      0.34        94\n",
      "          11       0.70      0.62      0.66       102\n",
      "          12       0.80      0.11      0.19       112\n",
      "          13       0.45      0.13      0.20       107\n",
      "\n",
      "    accuracy                           0.44      1400\n",
      "   macro avg       0.54      0.45      0.42      1400\n",
      "weighted avg       0.55      0.44      0.41      1400\n",
      "\n",
      "confusion matrix:\n",
      " [[31  2  0 12  5  3 10  2  2 20  5  1  0  1]\n",
      " [24 37  0  6  6  6  7  2  1  3  8  5  0  2]\n",
      " [18  3  1  9  6  4 25  5  8  7 18  1  0  3]\n",
      " [12  1  0 32 10  6 12  1  1  2 15  1  1  1]\n",
      " [ 7  0  0  2 73  0  2  5  3  7  1  1  0  1]\n",
      " [ 9  1  0  5  0 55  6  0  0  2 10  0  0  1]\n",
      " [ 2  2  0  4  0  1 81  0  0  1  4  0  0  2]\n",
      " [14  2  0  2 16  0  6 25  9  6  8  7  1  1]\n",
      " [18  0  0  0  2  2  0  0 73  6  0  0  0  1]\n",
      " [14  0  0  1  0  0  0  0  0 78  1  0  0  0]\n",
      " [13  5  0  3  0  3 15  2  0  5 44  1  0  3]\n",
      " [14  3  0  5  2  0  5  3  1  0  6 63  0  0]\n",
      " [10  0  0  1  4 13 43  4  0  3 19  2 12  1]\n",
      " [19  6  0  8  0 10 10  1  0  2 28  8  1 14]]\n"
     ]
    }
   ],
   "metadata": {}
  },
  {
   "cell_type": "code",
   "execution_count": 80,
   "source": [
    "model_name = ['Multinomial Bayes','Gaussian Bayes','Decision Tree','RandomForest','KNN','Logistic Regression','SVM','Neural Network']"
   ],
   "outputs": [],
   "metadata": {}
  },
  {
   "cell_type": "code",
   "execution_count": 81,
   "source": [
    "performance_table = pd.DataFrame({'Model_name' : model_name,\n",
    "                            'Training time' : training_time,\n",
    "                            'Prediction time' : predicting_time,\n",
    "                            'Test Accuracy' : accuracy_scores,\n",
    "                            'Train Accuracy': train_accuracy_scores,\n",
    "                            'Precision' : precision_scores,\n",
    "                            'Recall' : recall_scores,\n",
    "                            'F1-scores' : f1_scores}).sort_values('F1-scores',ascending=False)"
   ],
   "outputs": [],
   "metadata": {}
  },
  {
   "cell_type": "code",
   "execution_count": 82,
   "source": [
    "performance_table"
   ],
   "outputs": [
    {
     "output_type": "execute_result",
     "data": {
      "text/html": [
       "<div>\n",
       "<style scoped>\n",
       "    .dataframe tbody tr th:only-of-type {\n",
       "        vertical-align: middle;\n",
       "    }\n",
       "\n",
       "    .dataframe tbody tr th {\n",
       "        vertical-align: top;\n",
       "    }\n",
       "\n",
       "    .dataframe thead th {\n",
       "        text-align: right;\n",
       "    }\n",
       "</style>\n",
       "<table border=\"1\" class=\"dataframe\">\n",
       "  <thead>\n",
       "    <tr style=\"text-align: right;\">\n",
       "      <th></th>\n",
       "      <th>Model_name</th>\n",
       "      <th>Training time</th>\n",
       "      <th>Prediction time</th>\n",
       "      <th>Test Accuracy</th>\n",
       "      <th>Train Accuracy</th>\n",
       "      <th>Precision</th>\n",
       "      <th>Recall</th>\n",
       "      <th>F1-scores</th>\n",
       "    </tr>\n",
       "  </thead>\n",
       "  <tbody>\n",
       "    <tr>\n",
       "      <th>4</th>\n",
       "      <td>KNN</td>\n",
       "      <td>9.731</td>\n",
       "      <td>0.077</td>\n",
       "      <td>0.84</td>\n",
       "      <td>1.000000</td>\n",
       "      <td>0.71</td>\n",
       "      <td>0.81</td>\n",
       "      <td>0.76</td>\n",
       "    </tr>\n",
       "    <tr>\n",
       "      <th>0</th>\n",
       "      <td>Multinomial Bayes</td>\n",
       "      <td>6.812</td>\n",
       "      <td>0.123</td>\n",
       "      <td>0.82</td>\n",
       "      <td>0.964286</td>\n",
       "      <td>0.70</td>\n",
       "      <td>0.66</td>\n",
       "      <td>0.68</td>\n",
       "    </tr>\n",
       "    <tr>\n",
       "      <th>5</th>\n",
       "      <td>Logistic Regression</td>\n",
       "      <td>73.295</td>\n",
       "      <td>23.117</td>\n",
       "      <td>0.83</td>\n",
       "      <td>1.000000</td>\n",
       "      <td>0.59</td>\n",
       "      <td>0.82</td>\n",
       "      <td>0.68</td>\n",
       "    </tr>\n",
       "    <tr>\n",
       "      <th>1</th>\n",
       "      <td>Gaussian Bayes</td>\n",
       "      <td>0.928</td>\n",
       "      <td>1.264</td>\n",
       "      <td>0.77</td>\n",
       "      <td>0.993929</td>\n",
       "      <td>0.67</td>\n",
       "      <td>0.48</td>\n",
       "      <td>0.56</td>\n",
       "    </tr>\n",
       "    <tr>\n",
       "      <th>2</th>\n",
       "      <td>Decision Tree</td>\n",
       "      <td>17.045</td>\n",
       "      <td>0.066</td>\n",
       "      <td>0.71</td>\n",
       "      <td>1.000000</td>\n",
       "      <td>0.51</td>\n",
       "      <td>0.39</td>\n",
       "      <td>0.44</td>\n",
       "    </tr>\n",
       "    <tr>\n",
       "      <th>7</th>\n",
       "      <td>Neural Network</td>\n",
       "      <td>1.984</td>\n",
       "      <td>0.082</td>\n",
       "      <td>0.44</td>\n",
       "      <td>0.500714</td>\n",
       "      <td>0.15</td>\n",
       "      <td>0.33</td>\n",
       "      <td>0.21</td>\n",
       "    </tr>\n",
       "    <tr>\n",
       "      <th>3</th>\n",
       "      <td>RandomForest</td>\n",
       "      <td>0.002</td>\n",
       "      <td>1.432</td>\n",
       "      <td>0.37</td>\n",
       "      <td>0.552321</td>\n",
       "      <td>0.10</td>\n",
       "      <td>0.79</td>\n",
       "      <td>0.18</td>\n",
       "    </tr>\n",
       "    <tr>\n",
       "      <th>6</th>\n",
       "      <td>SVM</td>\n",
       "      <td>22.727</td>\n",
       "      <td>0.167</td>\n",
       "      <td>0.08</td>\n",
       "      <td>0.070179</td>\n",
       "      <td>0.00</td>\n",
       "      <td>0.00</td>\n",
       "      <td>0.00</td>\n",
       "    </tr>\n",
       "  </tbody>\n",
       "</table>\n",
       "</div>"
      ],
      "text/plain": [
       "            Model_name  Training time  Prediction time  Test Accuracy  \\\n",
       "4                  KNN          9.731            0.077           0.84   \n",
       "0    Multinomial Bayes          6.812            0.123           0.82   \n",
       "5  Logistic Regression         73.295           23.117           0.83   \n",
       "1       Gaussian Bayes          0.928            1.264           0.77   \n",
       "2        Decision Tree         17.045            0.066           0.71   \n",
       "7       Neural Network          1.984            0.082           0.44   \n",
       "3         RandomForest          0.002            1.432           0.37   \n",
       "6                  SVM         22.727            0.167           0.08   \n",
       "\n",
       "   Train Accuracy  Precision  Recall  F1-scores  \n",
       "4        1.000000       0.71    0.81       0.76  \n",
       "0        0.964286       0.70    0.66       0.68  \n",
       "5        1.000000       0.59    0.82       0.68  \n",
       "1        0.993929       0.67    0.48       0.56  \n",
       "2        1.000000       0.51    0.39       0.44  \n",
       "7        0.500714       0.15    0.33       0.21  \n",
       "3        0.552321       0.10    0.79       0.18  \n",
       "6        0.070179       0.00    0.00       0.00  "
      ]
     },
     "metadata": {},
     "execution_count": 82
    }
   ],
   "metadata": {}
  },
  {
   "cell_type": "markdown",
   "source": [
    "## Model Prediction"
   ],
   "metadata": {}
  },
  {
   "cell_type": "code",
   "execution_count": 83,
   "source": [
    "rec = [\"A comet the color of blood and flame cuts across the sky. Two great leaders—Lord Eddard Stark and Robert Baratheon—who hold sway over an age of enforced peace are dead, victims of royal treachery. Now, from the ancient citadel of Dragonstone to the forbidding shores of Winterfell, chaos reigns. Six factions struggle for control of a divided land and the Iron Throne of the Seven Kingdoms, preparing to stake their claims through tempest, turmoil, and war.\"]"
   ],
   "outputs": [],
   "metadata": {}
  },
  {
   "cell_type": "code",
   "execution_count": 84,
   "source": [
    "t = cv.transform(rec).toarray()"
   ],
   "outputs": [],
   "metadata": {}
  },
  {
   "cell_type": "code",
   "execution_count": 85,
   "source": [
    "pr = le.inverse_transform(model1.predict(t))\n"
   ],
   "outputs": [],
   "metadata": {}
  },
  {
   "cell_type": "code",
   "execution_count": 86,
   "source": [
    "pr[0]"
   ],
   "outputs": [
    {
     "output_type": "execute_result",
     "data": {
      "text/plain": [
       "'Fantasy'"
      ]
     },
     "metadata": {},
     "execution_count": 86
    }
   ],
   "metadata": {}
  },
  {
   "cell_type": "markdown",
   "source": [
    "## Predicting Recommendation"
   ],
   "metadata": {}
  },
  {
   "cell_type": "code",
   "execution_count": 87,
   "source": [
    "def recommend(genre):\n",
    "    recommended_books = df[df['genre'] == genre].sort_values(by = 'average_rating',ascending = False).head()\n",
    "    print(recommended_books.title)\n",
    "        \n",
    "    return\n",
    "    "
   ],
   "outputs": [],
   "metadata": {}
  },
  {
   "cell_type": "code",
   "execution_count": 88,
   "source": [
    "recommend('Fantasy')"
   ],
   "outputs": [
    {
     "output_type": "stream",
     "name": "stdout",
     "text": [
      "4953    Orion: The Fight for Vox\n",
      "6392             Pirates in Hell\n",
      "3365           Words of Radiance\n",
      "3792              Dangerous Ways\n",
      "3191            The High Auction\n",
      "Name: title, dtype: object\n"
     ]
    }
   ],
   "metadata": {}
  },
  {
   "cell_type": "markdown",
   "source": [
    "## Exporting PKL files"
   ],
   "metadata": {}
  },
  {
   "cell_type": "code",
   "execution_count": 89,
   "source": [
    "import pickle\n",
    "\n",
    "pickle.dump(model1,open('model.pkl','wb'))\n",
    "pickle.dump(df,open('books.pkl','wb'))\n",
    "pickle.dump(cv,open('CountVectorizer.pkl','wb'))"
   ],
   "outputs": [],
   "metadata": {}
  },
  {
   "cell_type": "markdown",
   "source": [
    "## Logic for app.py"
   ],
   "metadata": {}
  },
  {
   "cell_type": "code",
   "execution_count": 90,
   "source": [
    "rec = [clean_summary('After a lifetime of bottling up his magical powers, Harry finally feels like a normal kid.')]\n",
    "rec\n",
    "\n"
   ],
   "outputs": [
    {
     "output_type": "execute_result",
     "data": {
      "text/plain": [
       "['after a lifetim of bottl up hi magic power harri final feel like a normal kid']"
      ]
     },
     "metadata": {},
     "execution_count": 90
    }
   ],
   "metadata": {}
  },
  {
   "cell_type": "code",
   "execution_count": 91,
   "source": [
    "tags= pd.DataFrame({'tags': rec})\n",
    "df_tags = df[['tags']]\n"
   ],
   "outputs": [],
   "metadata": {}
  },
  {
   "cell_type": "code",
   "execution_count": 92,
   "source": [
    "tags = tags.append(df_tags,ignore_index=True)\n"
   ],
   "outputs": [],
   "metadata": {}
  },
  {
   "cell_type": "code",
   "execution_count": 93,
   "source": [
    "tags"
   ],
   "outputs": [
    {
     "output_type": "execute_result",
     "data": {
      "text/html": [
       "<div>\n",
       "<style scoped>\n",
       "    .dataframe tbody tr th:only-of-type {\n",
       "        vertical-align: middle;\n",
       "    }\n",
       "\n",
       "    .dataframe tbody tr th {\n",
       "        vertical-align: top;\n",
       "    }\n",
       "\n",
       "    .dataframe thead th {\n",
       "        text-align: right;\n",
       "    }\n",
       "</style>\n",
       "<table border=\"1\" class=\"dataframe\">\n",
       "  <thead>\n",
       "    <tr style=\"text-align: right;\">\n",
       "      <th></th>\n",
       "      <th>tags</th>\n",
       "    </tr>\n",
       "  </thead>\n",
       "  <tbody>\n",
       "    <tr>\n",
       "      <th>0</th>\n",
       "      <td>after a lifetim of bottl up hi magic power har...</td>\n",
       "    </tr>\n",
       "    <tr>\n",
       "      <th>1</th>\n",
       "      <td>harperle to kill a mockingbird the unforgett n...</td>\n",
       "    </tr>\n",
       "    <tr>\n",
       "      <th>2</th>\n",
       "      <td>j k rowl harri potter and the sorcer s stone h...</td>\n",
       "    </tr>\n",
       "    <tr>\n",
       "      <th>3</th>\n",
       "      <td>janeausten pride and prejudic altern cover edi...</td>\n",
       "    </tr>\n",
       "    <tr>\n",
       "      <th>4</th>\n",
       "      <td>annefrank the diari of a young girl discov in ...</td>\n",
       "    </tr>\n",
       "    <tr>\n",
       "      <th>...</th>\n",
       "      <td>...</td>\n",
       "    </tr>\n",
       "    <tr>\n",
       "      <th>4358</th>\n",
       "      <td>katedouglaswiggin rebecca of sunnybrook farm f...</td>\n",
       "    </tr>\n",
       "    <tr>\n",
       "      <th>4359</th>\n",
       "      <td>georger r martin fevr dream when struggl river...</td>\n",
       "    </tr>\n",
       "    <tr>\n",
       "      <th>4360</th>\n",
       "      <td>molièr le bourgeoi gentilhomm le bourgeoi gent...</td>\n",
       "    </tr>\n",
       "    <tr>\n",
       "      <th>4361</th>\n",
       "      <td>laurenk fallen in love and in a twist of fate ...</td>\n",
       "    </tr>\n",
       "    <tr>\n",
       "      <th>4362</th>\n",
       "      <td>johntayman the coloni the harrow true stori of...</td>\n",
       "    </tr>\n",
       "  </tbody>\n",
       "</table>\n",
       "<p>4363 rows × 1 columns</p>\n",
       "</div>"
      ],
      "text/plain": [
       "                                                   tags\n",
       "0     after a lifetim of bottl up hi magic power har...\n",
       "1     harperle to kill a mockingbird the unforgett n...\n",
       "2     j k rowl harri potter and the sorcer s stone h...\n",
       "3     janeausten pride and prejudic altern cover edi...\n",
       "4     annefrank the diari of a young girl discov in ...\n",
       "...                                                 ...\n",
       "4358  katedouglaswiggin rebecca of sunnybrook farm f...\n",
       "4359  georger r martin fevr dream when struggl river...\n",
       "4360  molièr le bourgeoi gentilhomm le bourgeoi gent...\n",
       "4361  laurenk fallen in love and in a twist of fate ...\n",
       "4362  johntayman the coloni the harrow true stori of...\n",
       "\n",
       "[4363 rows x 1 columns]"
      ]
     },
     "metadata": {},
     "execution_count": 93
    }
   ],
   "metadata": {}
  },
  {
   "cell_type": "code",
   "execution_count": 94,
   "source": [
    "tags_test_cv = cv.fit_transform(tags['tags']).toarray()\n",
    "tags_test_cv\n"
   ],
   "outputs": [
    {
     "output_type": "execute_result",
     "data": {
      "text/plain": [
       "array([[0, 0, 0, ..., 0, 0, 0],\n",
       "       [0, 0, 0, ..., 0, 0, 0],\n",
       "       [0, 0, 0, ..., 0, 0, 0],\n",
       "       ...,\n",
       "       [0, 0, 0, ..., 0, 0, 0],\n",
       "       [0, 0, 0, ..., 0, 0, 0],\n",
       "       [0, 0, 0, ..., 0, 0, 0]])"
      ]
     },
     "metadata": {},
     "execution_count": 94
    }
   ],
   "metadata": {}
  },
  {
   "cell_type": "code",
   "execution_count": 95,
   "source": [
    "from sklearn.metrics.pairwise import cosine_similarity\n",
    "\n",
    "similarity_tags = cosine_similarity(tags_test_cv)\n"
   ],
   "outputs": [],
   "metadata": {}
  },
  {
   "cell_type": "code",
   "execution_count": 96,
   "source": [
    "similarity_tags[0]"
   ],
   "outputs": [
    {
     "output_type": "execute_result",
     "data": {
      "text/plain": [
       "array([1.        , 0.        , 0.46807554, ..., 0.        , 0.03143473,\n",
       "       0.02266298])"
      ]
     },
     "metadata": {},
     "execution_count": 96
    }
   ],
   "metadata": {}
  },
  {
   "cell_type": "code",
   "execution_count": 97,
   "source": [
    "recommended_sorted_list = sorted(list(enumerate(similarity_tags[0])),reverse= True,key= lambda x:x[1])[1:6]\n",
    "recommended_sorted_list\n",
    "recommended_books = []\n",
    "recommended_book_posters = []\n",
    "for i in recommended_sorted_list:\n",
    "    recommended_books.append(df.iloc[i[0]].title)\n",
    "    recommended_book_posters.append(df.iloc[i[0]].image_url)\n"
   ],
   "outputs": [],
   "metadata": {}
  },
  {
   "cell_type": "code",
   "execution_count": 98,
   "source": [
    "recommended_book_posters"
   ],
   "outputs": [
    {
     "output_type": "execute_result",
     "data": {
      "text/plain": [
       "['https://i.gr-assets.com/images/S/compressed.photo.goodreads.com/books/1320399351l/1885.jpg',\n",
       " 'https://i.gr-assets.com/images/S/compressed.photo.goodreads.com/books/1387770323l/20256797.jpg',\n",
       " 'https://i.gr-assets.com/images/S/compressed.photo.goodreads.com/books/1331362619l/13152282.jpg',\n",
       " 'https://i.gr-assets.com/images/S/compressed.photo.goodreads.com/books/1559986152l/386162.jpg',\n",
       " 'https://i.gr-assets.com/images/S/compressed.photo.goodreads.com/books/1437733293l/37442._SY475_.jpg']"
      ]
     },
     "metadata": {},
     "execution_count": 98
    }
   ],
   "metadata": {}
  },
  {
   "cell_type": "code",
   "execution_count": 99,
   "source": [
    "recommended_books"
   ],
   "outputs": [
    {
     "output_type": "execute_result",
     "data": {
      "text/plain": [
       "['Pride and Prejudice',\n",
       " 'Safe & Sound',\n",
       " 'The Extraordinary Education of Nicholas Benedict',\n",
       " \"The Hitchhiker's Guide to the Galaxy\",\n",
       " 'Wicked: The Life and Times of the Wicked Witch of the West']"
      ]
     },
     "metadata": {},
     "execution_count": 99
    }
   ],
   "metadata": {}
  }
 ],
 "metadata": {
  "kernelspec": {
   "name": "python3",
   "display_name": "Python 3.7.11 64-bit ('base': conda)"
  },
  "language_info": {
   "name": "python",
   "version": "3.7.11",
   "mimetype": "text/x-python",
   "codemirror_mode": {
    "name": "ipython",
    "version": 3
   },
   "pygments_lexer": "ipython3",
   "nbconvert_exporter": "python",
   "file_extension": ".py"
  },
  "interpreter": {
   "hash": "dca0ade3e726a953b501b15e8e990130d2b7799f14cfd9f4271676035ebe5511"
  }
 },
 "nbformat": 4,
 "nbformat_minor": 4
}