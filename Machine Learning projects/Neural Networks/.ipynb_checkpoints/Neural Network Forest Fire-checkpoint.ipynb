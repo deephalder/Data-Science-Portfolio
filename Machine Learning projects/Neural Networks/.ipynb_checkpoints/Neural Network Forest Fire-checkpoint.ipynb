{
 "cells": [
  {
   "cell_type": "code",
   "execution_count": 16,
   "metadata": {},
   "outputs": [],
   "source": [
    "# Importing the necessary packages\n",
    "import pandas as pd\n",
    "import numpy as np\n",
    "import keras\n",
    "from sklearn.preprocessing import StandardScaler"
   ]
  },
  {
   "cell_type": "code",
   "execution_count": 17,
   "metadata": {
    "scrolled": true
   },
   "outputs": [
    {
     "data": {
      "text/html": [
       "<div>\n",
       "<style scoped>\n",
       "    .dataframe tbody tr th:only-of-type {\n",
       "        vertical-align: middle;\n",
       "    }\n",
       "\n",
       "    .dataframe tbody tr th {\n",
       "        vertical-align: top;\n",
       "    }\n",
       "\n",
       "    .dataframe thead th {\n",
       "        text-align: right;\n",
       "    }\n",
       "</style>\n",
       "<table border=\"1\" class=\"dataframe\">\n",
       "  <thead>\n",
       "    <tr style=\"text-align: right;\">\n",
       "      <th></th>\n",
       "      <th>month</th>\n",
       "      <th>day</th>\n",
       "      <th>FFMC</th>\n",
       "      <th>DMC</th>\n",
       "      <th>DC</th>\n",
       "      <th>ISI</th>\n",
       "      <th>temp</th>\n",
       "      <th>RH</th>\n",
       "      <th>wind</th>\n",
       "      <th>rain</th>\n",
       "      <th>...</th>\n",
       "      <th>monthfeb</th>\n",
       "      <th>monthjan</th>\n",
       "      <th>monthjul</th>\n",
       "      <th>monthjun</th>\n",
       "      <th>monthmar</th>\n",
       "      <th>monthmay</th>\n",
       "      <th>monthnov</th>\n",
       "      <th>monthoct</th>\n",
       "      <th>monthsep</th>\n",
       "      <th>size_category</th>\n",
       "    </tr>\n",
       "  </thead>\n",
       "  <tbody>\n",
       "    <tr>\n",
       "      <th>0</th>\n",
       "      <td>mar</td>\n",
       "      <td>fri</td>\n",
       "      <td>86.2</td>\n",
       "      <td>26.2</td>\n",
       "      <td>94.3</td>\n",
       "      <td>5.1</td>\n",
       "      <td>8.2</td>\n",
       "      <td>51</td>\n",
       "      <td>6.7</td>\n",
       "      <td>0.0</td>\n",
       "      <td>...</td>\n",
       "      <td>0</td>\n",
       "      <td>0</td>\n",
       "      <td>0</td>\n",
       "      <td>0</td>\n",
       "      <td>1</td>\n",
       "      <td>0</td>\n",
       "      <td>0</td>\n",
       "      <td>0</td>\n",
       "      <td>0</td>\n",
       "      <td>small</td>\n",
       "    </tr>\n",
       "    <tr>\n",
       "      <th>1</th>\n",
       "      <td>oct</td>\n",
       "      <td>tue</td>\n",
       "      <td>90.6</td>\n",
       "      <td>35.4</td>\n",
       "      <td>669.1</td>\n",
       "      <td>6.7</td>\n",
       "      <td>18.0</td>\n",
       "      <td>33</td>\n",
       "      <td>0.9</td>\n",
       "      <td>0.0</td>\n",
       "      <td>...</td>\n",
       "      <td>0</td>\n",
       "      <td>0</td>\n",
       "      <td>0</td>\n",
       "      <td>0</td>\n",
       "      <td>0</td>\n",
       "      <td>0</td>\n",
       "      <td>0</td>\n",
       "      <td>1</td>\n",
       "      <td>0</td>\n",
       "      <td>small</td>\n",
       "    </tr>\n",
       "    <tr>\n",
       "      <th>2</th>\n",
       "      <td>oct</td>\n",
       "      <td>sat</td>\n",
       "      <td>90.6</td>\n",
       "      <td>43.7</td>\n",
       "      <td>686.9</td>\n",
       "      <td>6.7</td>\n",
       "      <td>14.6</td>\n",
       "      <td>33</td>\n",
       "      <td>1.3</td>\n",
       "      <td>0.0</td>\n",
       "      <td>...</td>\n",
       "      <td>0</td>\n",
       "      <td>0</td>\n",
       "      <td>0</td>\n",
       "      <td>0</td>\n",
       "      <td>0</td>\n",
       "      <td>0</td>\n",
       "      <td>0</td>\n",
       "      <td>1</td>\n",
       "      <td>0</td>\n",
       "      <td>small</td>\n",
       "    </tr>\n",
       "    <tr>\n",
       "      <th>3</th>\n",
       "      <td>mar</td>\n",
       "      <td>fri</td>\n",
       "      <td>91.7</td>\n",
       "      <td>33.3</td>\n",
       "      <td>77.5</td>\n",
       "      <td>9.0</td>\n",
       "      <td>8.3</td>\n",
       "      <td>97</td>\n",
       "      <td>4.0</td>\n",
       "      <td>0.2</td>\n",
       "      <td>...</td>\n",
       "      <td>0</td>\n",
       "      <td>0</td>\n",
       "      <td>0</td>\n",
       "      <td>0</td>\n",
       "      <td>1</td>\n",
       "      <td>0</td>\n",
       "      <td>0</td>\n",
       "      <td>0</td>\n",
       "      <td>0</td>\n",
       "      <td>small</td>\n",
       "    </tr>\n",
       "    <tr>\n",
       "      <th>4</th>\n",
       "      <td>mar</td>\n",
       "      <td>sun</td>\n",
       "      <td>89.3</td>\n",
       "      <td>51.3</td>\n",
       "      <td>102.2</td>\n",
       "      <td>9.6</td>\n",
       "      <td>11.4</td>\n",
       "      <td>99</td>\n",
       "      <td>1.8</td>\n",
       "      <td>0.0</td>\n",
       "      <td>...</td>\n",
       "      <td>0</td>\n",
       "      <td>0</td>\n",
       "      <td>0</td>\n",
       "      <td>0</td>\n",
       "      <td>1</td>\n",
       "      <td>0</td>\n",
       "      <td>0</td>\n",
       "      <td>0</td>\n",
       "      <td>0</td>\n",
       "      <td>small</td>\n",
       "    </tr>\n",
       "  </tbody>\n",
       "</table>\n",
       "<p>5 rows × 31 columns</p>\n",
       "</div>"
      ],
      "text/plain": [
       "  month  day  FFMC   DMC     DC  ISI  temp  RH  wind  rain  ...  monthfeb  \\\n",
       "0   mar  fri  86.2  26.2   94.3  5.1   8.2  51   6.7   0.0  ...         0   \n",
       "1   oct  tue  90.6  35.4  669.1  6.7  18.0  33   0.9   0.0  ...         0   \n",
       "2   oct  sat  90.6  43.7  686.9  6.7  14.6  33   1.3   0.0  ...         0   \n",
       "3   mar  fri  91.7  33.3   77.5  9.0   8.3  97   4.0   0.2  ...         0   \n",
       "4   mar  sun  89.3  51.3  102.2  9.6  11.4  99   1.8   0.0  ...         0   \n",
       "\n",
       "   monthjan  monthjul  monthjun  monthmar  monthmay  monthnov  monthoct  \\\n",
       "0         0         0         0         1         0         0         0   \n",
       "1         0         0         0         0         0         0         1   \n",
       "2         0         0         0         0         0         0         1   \n",
       "3         0         0         0         1         0         0         0   \n",
       "4         0         0         0         1         0         0         0   \n",
       "\n",
       "   monthsep  size_category  \n",
       "0         0          small  \n",
       "1         0          small  \n",
       "2         0          small  \n",
       "3         0          small  \n",
       "4         0          small  \n",
       "\n",
       "[5 rows x 31 columns]"
      ]
     },
     "execution_count": 17,
     "metadata": {},
     "output_type": "execute_result"
    }
   ],
   "source": [
    "dataset = pd.read_csv('forestfires.csv')\n",
    "dataset.head()"
   ]
  },
  {
   "cell_type": "code",
   "execution_count": 21,
   "metadata": {},
   "outputs": [],
   "source": [
    "X = dataset.iloc[:,0:-1]\n",
    "Y = dataset.iloc[:,-1]"
   ]
  },
  {
   "cell_type": "code",
   "execution_count": 22,
   "metadata": {},
   "outputs": [],
   "source": [
    "X = X.drop(columns=['day','month','dayfri', 'daymon', 'daysat', 'daysun', 'daythu', 'daytue', 'daywed'])"
   ]
  },
  {
   "cell_type": "code",
   "execution_count": 24,
   "metadata": {},
   "outputs": [
    {
     "data": {
      "text/plain": [
       "0      small\n",
       "1      small\n",
       "2      small\n",
       "3      small\n",
       "4      small\n",
       "       ...  \n",
       "512    large\n",
       "513    large\n",
       "514    large\n",
       "515    small\n",
       "516    small\n",
       "Name: size_category, Length: 517, dtype: object"
      ]
     },
     "execution_count": 24,
     "metadata": {},
     "output_type": "execute_result"
    }
   ],
   "source": [
    "Y"
   ]
  },
  {
   "cell_type": "code",
   "execution_count": 23,
   "metadata": {},
   "outputs": [
    {
     "data": {
      "text/html": [
       "<div>\n",
       "<style scoped>\n",
       "    .dataframe tbody tr th:only-of-type {\n",
       "        vertical-align: middle;\n",
       "    }\n",
       "\n",
       "    .dataframe tbody tr th {\n",
       "        vertical-align: top;\n",
       "    }\n",
       "\n",
       "    .dataframe thead th {\n",
       "        text-align: right;\n",
       "    }\n",
       "</style>\n",
       "<table border=\"1\" class=\"dataframe\">\n",
       "  <thead>\n",
       "    <tr style=\"text-align: right;\">\n",
       "      <th></th>\n",
       "      <th>0</th>\n",
       "      <th>1</th>\n",
       "      <th>2</th>\n",
       "      <th>3</th>\n",
       "      <th>4</th>\n",
       "      <th>5</th>\n",
       "      <th>6</th>\n",
       "      <th>7</th>\n",
       "      <th>8</th>\n",
       "      <th>9</th>\n",
       "      <th>...</th>\n",
       "      <th>11</th>\n",
       "      <th>12</th>\n",
       "      <th>13</th>\n",
       "      <th>14</th>\n",
       "      <th>15</th>\n",
       "      <th>16</th>\n",
       "      <th>17</th>\n",
       "      <th>18</th>\n",
       "      <th>19</th>\n",
       "      <th>20</th>\n",
       "    </tr>\n",
       "  </thead>\n",
       "  <tbody>\n",
       "    <tr>\n",
       "      <th>0</th>\n",
       "      <td>-0.805959</td>\n",
       "      <td>-1.323326</td>\n",
       "      <td>-1.830477</td>\n",
       "      <td>-0.860946</td>\n",
       "      <td>-1.842640</td>\n",
       "      <td>0.411724</td>\n",
       "      <td>1.498614</td>\n",
       "      <td>-0.073268</td>\n",
       "      <td>-0.202020</td>\n",
       "      <td>-0.133103</td>\n",
       "      <td>...</td>\n",
       "      <td>-0.133103</td>\n",
       "      <td>-0.200603</td>\n",
       "      <td>-0.062318</td>\n",
       "      <td>-0.256865</td>\n",
       "      <td>-0.184391</td>\n",
       "      <td>2.928152</td>\n",
       "      <td>-0.062318</td>\n",
       "      <td>-0.044023</td>\n",
       "      <td>-0.172860</td>\n",
       "      <td>-0.706081</td>\n",
       "    </tr>\n",
       "    <tr>\n",
       "      <th>1</th>\n",
       "      <td>-0.008102</td>\n",
       "      <td>-1.179541</td>\n",
       "      <td>0.488891</td>\n",
       "      <td>-0.509688</td>\n",
       "      <td>-0.153278</td>\n",
       "      <td>-0.692456</td>\n",
       "      <td>-1.741756</td>\n",
       "      <td>-0.073268</td>\n",
       "      <td>-0.202020</td>\n",
       "      <td>-0.133103</td>\n",
       "      <td>...</td>\n",
       "      <td>-0.133103</td>\n",
       "      <td>-0.200603</td>\n",
       "      <td>-0.062318</td>\n",
       "      <td>-0.256865</td>\n",
       "      <td>-0.184391</td>\n",
       "      <td>-0.341512</td>\n",
       "      <td>-0.062318</td>\n",
       "      <td>-0.044023</td>\n",
       "      <td>5.785038</td>\n",
       "      <td>-0.706081</td>\n",
       "    </tr>\n",
       "    <tr>\n",
       "      <th>2</th>\n",
       "      <td>-0.008102</td>\n",
       "      <td>-1.049822</td>\n",
       "      <td>0.560715</td>\n",
       "      <td>-0.509688</td>\n",
       "      <td>-0.739383</td>\n",
       "      <td>-0.692456</td>\n",
       "      <td>-1.518282</td>\n",
       "      <td>-0.073268</td>\n",
       "      <td>-0.202020</td>\n",
       "      <td>-0.133103</td>\n",
       "      <td>...</td>\n",
       "      <td>-0.133103</td>\n",
       "      <td>-0.200603</td>\n",
       "      <td>-0.062318</td>\n",
       "      <td>-0.256865</td>\n",
       "      <td>-0.184391</td>\n",
       "      <td>-0.341512</td>\n",
       "      <td>-0.062318</td>\n",
       "      <td>-0.044023</td>\n",
       "      <td>5.785038</td>\n",
       "      <td>-0.706081</td>\n",
       "    </tr>\n",
       "    <tr>\n",
       "      <th>3</th>\n",
       "      <td>0.191362</td>\n",
       "      <td>-1.212361</td>\n",
       "      <td>-1.898266</td>\n",
       "      <td>-0.004756</td>\n",
       "      <td>-1.825402</td>\n",
       "      <td>3.233519</td>\n",
       "      <td>-0.009834</td>\n",
       "      <td>0.603155</td>\n",
       "      <td>-0.202020</td>\n",
       "      <td>-0.133103</td>\n",
       "      <td>...</td>\n",
       "      <td>-0.133103</td>\n",
       "      <td>-0.200603</td>\n",
       "      <td>-0.062318</td>\n",
       "      <td>-0.256865</td>\n",
       "      <td>-0.184391</td>\n",
       "      <td>2.928152</td>\n",
       "      <td>-0.062318</td>\n",
       "      <td>-0.044023</td>\n",
       "      <td>-0.172860</td>\n",
       "      <td>-0.706081</td>\n",
       "    </tr>\n",
       "    <tr>\n",
       "      <th>4</th>\n",
       "      <td>-0.243833</td>\n",
       "      <td>-0.931043</td>\n",
       "      <td>-1.798600</td>\n",
       "      <td>0.126966</td>\n",
       "      <td>-1.291012</td>\n",
       "      <td>3.356206</td>\n",
       "      <td>-1.238940</td>\n",
       "      <td>-0.073268</td>\n",
       "      <td>-0.202020</td>\n",
       "      <td>-0.133103</td>\n",
       "      <td>...</td>\n",
       "      <td>-0.133103</td>\n",
       "      <td>-0.200603</td>\n",
       "      <td>-0.062318</td>\n",
       "      <td>-0.256865</td>\n",
       "      <td>-0.184391</td>\n",
       "      <td>2.928152</td>\n",
       "      <td>-0.062318</td>\n",
       "      <td>-0.044023</td>\n",
       "      <td>-0.172860</td>\n",
       "      <td>-0.706081</td>\n",
       "    </tr>\n",
       "    <tr>\n",
       "      <th>...</th>\n",
       "      <td>...</td>\n",
       "      <td>...</td>\n",
       "      <td>...</td>\n",
       "      <td>...</td>\n",
       "      <td>...</td>\n",
       "      <td>...</td>\n",
       "      <td>...</td>\n",
       "      <td>...</td>\n",
       "      <td>...</td>\n",
       "      <td>...</td>\n",
       "      <td>...</td>\n",
       "      <td>...</td>\n",
       "      <td>...</td>\n",
       "      <td>...</td>\n",
       "      <td>...</td>\n",
       "      <td>...</td>\n",
       "      <td>...</td>\n",
       "      <td>...</td>\n",
       "      <td>...</td>\n",
       "      <td>...</td>\n",
       "      <td>...</td>\n",
       "    </tr>\n",
       "    <tr>\n",
       "      <th>512</th>\n",
       "      <td>-1.640083</td>\n",
       "      <td>-0.846648</td>\n",
       "      <td>0.474768</td>\n",
       "      <td>-1.563460</td>\n",
       "      <td>1.536084</td>\n",
       "      <td>-0.753800</td>\n",
       "      <td>-0.736124</td>\n",
       "      <td>-0.073268</td>\n",
       "      <td>-0.100753</td>\n",
       "      <td>-0.133103</td>\n",
       "      <td>...</td>\n",
       "      <td>-0.133103</td>\n",
       "      <td>-0.200603</td>\n",
       "      <td>-0.062318</td>\n",
       "      <td>-0.256865</td>\n",
       "      <td>-0.184391</td>\n",
       "      <td>-0.341512</td>\n",
       "      <td>-0.062318</td>\n",
       "      <td>-0.044023</td>\n",
       "      <td>-0.172860</td>\n",
       "      <td>-0.706081</td>\n",
       "    </tr>\n",
       "    <tr>\n",
       "      <th>513</th>\n",
       "      <td>-1.640083</td>\n",
       "      <td>-0.846648</td>\n",
       "      <td>0.474768</td>\n",
       "      <td>-1.563460</td>\n",
       "      <td>0.519019</td>\n",
       "      <td>1.638592</td>\n",
       "      <td>0.995798</td>\n",
       "      <td>-0.073268</td>\n",
       "      <td>0.651674</td>\n",
       "      <td>-0.133103</td>\n",
       "      <td>...</td>\n",
       "      <td>-0.133103</td>\n",
       "      <td>-0.200603</td>\n",
       "      <td>-0.062318</td>\n",
       "      <td>-0.256865</td>\n",
       "      <td>-0.184391</td>\n",
       "      <td>-0.341512</td>\n",
       "      <td>-0.062318</td>\n",
       "      <td>-0.044023</td>\n",
       "      <td>-0.172860</td>\n",
       "      <td>-0.706081</td>\n",
       "    </tr>\n",
       "    <tr>\n",
       "      <th>514</th>\n",
       "      <td>-1.640083</td>\n",
       "      <td>-0.846648</td>\n",
       "      <td>0.474768</td>\n",
       "      <td>-1.563460</td>\n",
       "      <td>0.398350</td>\n",
       "      <td>1.577248</td>\n",
       "      <td>1.498614</td>\n",
       "      <td>-0.073268</td>\n",
       "      <td>-0.026532</td>\n",
       "      <td>-0.133103</td>\n",
       "      <td>...</td>\n",
       "      <td>-0.133103</td>\n",
       "      <td>-0.200603</td>\n",
       "      <td>-0.062318</td>\n",
       "      <td>-0.256865</td>\n",
       "      <td>-0.184391</td>\n",
       "      <td>-0.341512</td>\n",
       "      <td>-0.062318</td>\n",
       "      <td>-0.044023</td>\n",
       "      <td>-0.172860</td>\n",
       "      <td>-0.706081</td>\n",
       "    </tr>\n",
       "    <tr>\n",
       "      <th>515</th>\n",
       "      <td>0.680957</td>\n",
       "      <td>0.549003</td>\n",
       "      <td>0.269382</td>\n",
       "      <td>0.500176</td>\n",
       "      <td>1.156839</td>\n",
       "      <td>-0.140366</td>\n",
       "      <td>-0.009834</td>\n",
       "      <td>-0.073268</td>\n",
       "      <td>-0.202020</td>\n",
       "      <td>-0.133103</td>\n",
       "      <td>...</td>\n",
       "      <td>-0.133103</td>\n",
       "      <td>-0.200603</td>\n",
       "      <td>-0.062318</td>\n",
       "      <td>-0.256865</td>\n",
       "      <td>-0.184391</td>\n",
       "      <td>-0.341512</td>\n",
       "      <td>-0.062318</td>\n",
       "      <td>-0.044023</td>\n",
       "      <td>-0.172860</td>\n",
       "      <td>-0.706081</td>\n",
       "    </tr>\n",
       "    <tr>\n",
       "      <th>516</th>\n",
       "      <td>-2.020879</td>\n",
       "      <td>-1.685913</td>\n",
       "      <td>-1.780442</td>\n",
       "      <td>-1.739089</td>\n",
       "      <td>-1.222058</td>\n",
       "      <td>-0.815143</td>\n",
       "      <td>0.269509</td>\n",
       "      <td>-0.073268</td>\n",
       "      <td>-0.202020</td>\n",
       "      <td>-0.133103</td>\n",
       "      <td>...</td>\n",
       "      <td>-0.133103</td>\n",
       "      <td>-0.200603</td>\n",
       "      <td>-0.062318</td>\n",
       "      <td>-0.256865</td>\n",
       "      <td>-0.184391</td>\n",
       "      <td>-0.341512</td>\n",
       "      <td>-0.062318</td>\n",
       "      <td>22.715633</td>\n",
       "      <td>-0.172860</td>\n",
       "      <td>-0.706081</td>\n",
       "    </tr>\n",
       "  </tbody>\n",
       "</table>\n",
       "<p>517 rows × 21 columns</p>\n",
       "</div>"
      ],
      "text/plain": [
       "           0         1         2         3         4         5         6   \\\n",
       "0   -0.805959 -1.323326 -1.830477 -0.860946 -1.842640  0.411724  1.498614   \n",
       "1   -0.008102 -1.179541  0.488891 -0.509688 -0.153278 -0.692456 -1.741756   \n",
       "2   -0.008102 -1.049822  0.560715 -0.509688 -0.739383 -0.692456 -1.518282   \n",
       "3    0.191362 -1.212361 -1.898266 -0.004756 -1.825402  3.233519 -0.009834   \n",
       "4   -0.243833 -0.931043 -1.798600  0.126966 -1.291012  3.356206 -1.238940   \n",
       "..        ...       ...       ...       ...       ...       ...       ...   \n",
       "512 -1.640083 -0.846648  0.474768 -1.563460  1.536084 -0.753800 -0.736124   \n",
       "513 -1.640083 -0.846648  0.474768 -1.563460  0.519019  1.638592  0.995798   \n",
       "514 -1.640083 -0.846648  0.474768 -1.563460  0.398350  1.577248  1.498614   \n",
       "515  0.680957  0.549003  0.269382  0.500176  1.156839 -0.140366 -0.009834   \n",
       "516 -2.020879 -1.685913 -1.780442 -1.739089 -1.222058 -0.815143  0.269509   \n",
       "\n",
       "           7         8         9   ...        11        12        13  \\\n",
       "0   -0.073268 -0.202020 -0.133103  ... -0.133103 -0.200603 -0.062318   \n",
       "1   -0.073268 -0.202020 -0.133103  ... -0.133103 -0.200603 -0.062318   \n",
       "2   -0.073268 -0.202020 -0.133103  ... -0.133103 -0.200603 -0.062318   \n",
       "3    0.603155 -0.202020 -0.133103  ... -0.133103 -0.200603 -0.062318   \n",
       "4   -0.073268 -0.202020 -0.133103  ... -0.133103 -0.200603 -0.062318   \n",
       "..        ...       ...       ...  ...       ...       ...       ...   \n",
       "512 -0.073268 -0.100753 -0.133103  ... -0.133103 -0.200603 -0.062318   \n",
       "513 -0.073268  0.651674 -0.133103  ... -0.133103 -0.200603 -0.062318   \n",
       "514 -0.073268 -0.026532 -0.133103  ... -0.133103 -0.200603 -0.062318   \n",
       "515 -0.073268 -0.202020 -0.133103  ... -0.133103 -0.200603 -0.062318   \n",
       "516 -0.073268 -0.202020 -0.133103  ... -0.133103 -0.200603 -0.062318   \n",
       "\n",
       "           14        15        16        17         18        19        20  \n",
       "0   -0.256865 -0.184391  2.928152 -0.062318  -0.044023 -0.172860 -0.706081  \n",
       "1   -0.256865 -0.184391 -0.341512 -0.062318  -0.044023  5.785038 -0.706081  \n",
       "2   -0.256865 -0.184391 -0.341512 -0.062318  -0.044023  5.785038 -0.706081  \n",
       "3   -0.256865 -0.184391  2.928152 -0.062318  -0.044023 -0.172860 -0.706081  \n",
       "4   -0.256865 -0.184391  2.928152 -0.062318  -0.044023 -0.172860 -0.706081  \n",
       "..        ...       ...       ...       ...        ...       ...       ...  \n",
       "512 -0.256865 -0.184391 -0.341512 -0.062318  -0.044023 -0.172860 -0.706081  \n",
       "513 -0.256865 -0.184391 -0.341512 -0.062318  -0.044023 -0.172860 -0.706081  \n",
       "514 -0.256865 -0.184391 -0.341512 -0.062318  -0.044023 -0.172860 -0.706081  \n",
       "515 -0.256865 -0.184391 -0.341512 -0.062318  -0.044023 -0.172860 -0.706081  \n",
       "516 -0.256865 -0.184391 -0.341512 -0.062318  22.715633 -0.172860 -0.706081  \n",
       "\n",
       "[517 rows x 21 columns]"
      ]
     },
     "execution_count": 23,
     "metadata": {},
     "output_type": "execute_result"
    }
   ],
   "source": [
    "# Standardization\n",
    "a = StandardScaler()\n",
    "X_standardized = a. fit_transform(X)\n",
    "pd.DataFrame(X_standardized)"
   ]
  },
  {
   "cell_type": "markdown",
   "metadata": {},
   "source": [
    "#### Tuning of Hyperparameters :- Batch Size and Epochs"
   ]
  },
  {
   "cell_type": "code",
   "execution_count": 25,
   "metadata": {},
   "outputs": [],
   "source": [
    "# Importing the necessary packages\n",
    "from sklearn.model_selection import GridSearchCV,KFold\n",
    "from keras.models import Sequential\n",
    "from keras.layers import Dense\n",
    "from keras.wrappers.scikit_learn import KerasClassifier\n",
    "from keras.optimizers import Adam"
   ]
  },
  {
   "cell_type": "code",
   "execution_count": 26,
   "metadata": {},
   "outputs": [],
   "source": [
    "# create model\n",
    "def create_model():\n",
    "    model = Sequential()\n",
    "    model.add(Dense(10, input_dim=21, kernel_initializer='uniform', activation='relu'))\n",
    "    model.add(Dense(10, kernel_initializer='uniform', activation='relu'))\n",
    "    model.add(Dense(1, kernel_initializer='uniform', activation='sigmoid'))\n",
    "    \n",
    "    adam=Adam(lr=0.01)\n",
    "    model.compile(loss='binary_crossentropy', optimizer=adam, metrics=['accuracy'])\n",
    "    return model"
   ]
  },
  {
   "cell_type": "code",
   "execution_count": 27,
   "metadata": {},
   "outputs": [],
   "source": [
    "# Create the model\n",
    "model = KerasClassifier(build_fn = create_model,verbose = 0)\n",
    "\n",
    "# define  drid search parameters\n",
    "batch_size = [10,20]\n",
    "epochs = [10,50]\n",
    "\n",
    "param_grid = dict(batch_size = batch_size,epochs = epochs)\n"
   ]
  },
  {
   "cell_type": "code",
   "execution_count": 28,
   "metadata": {},
   "outputs": [
    {
     "name": "stdout",
     "output_type": "stream",
     "text": [
      "Fitting 5 folds for each of 4 candidates, totalling 20 fits\n",
      "[CV] batch_size=10, epochs=10 ........................................\n"
     ]
    },
    {
     "name": "stderr",
     "output_type": "stream",
     "text": [
      "[Parallel(n_jobs=1)]: Using backend SequentialBackend with 1 concurrent workers.\n"
     ]
    },
    {
     "name": "stdout",
     "output_type": "stream",
     "text": [
      "[CV] ............ batch_size=10, epochs=10, score=1.000, total=   1.1s\n",
      "[CV] batch_size=10, epochs=10 ........................................\n"
     ]
    },
    {
     "name": "stderr",
     "output_type": "stream",
     "text": [
      "[Parallel(n_jobs=1)]: Done   1 out of   1 | elapsed:    1.1s remaining:    0.0s\n"
     ]
    },
    {
     "name": "stdout",
     "output_type": "stream",
     "text": [
      "[CV] ............ batch_size=10, epochs=10, score=0.837, total=   1.1s\n",
      "[CV] batch_size=10, epochs=10 ........................................\n"
     ]
    },
    {
     "name": "stderr",
     "output_type": "stream",
     "text": [
      "[Parallel(n_jobs=1)]: Done   2 out of   2 | elapsed:    2.1s remaining:    0.0s\n"
     ]
    },
    {
     "name": "stdout",
     "output_type": "stream",
     "text": [
      "[CV] ............ batch_size=10, epochs=10, score=0.893, total=   0.7s\n",
      "[CV] batch_size=10, epochs=10 ........................................\n"
     ]
    },
    {
     "name": "stderr",
     "output_type": "stream",
     "text": [
      "[Parallel(n_jobs=1)]: Done   3 out of   3 | elapsed:    2.8s remaining:    0.0s\n"
     ]
    },
    {
     "name": "stdout",
     "output_type": "stream",
     "text": [
      "[CV] ............ batch_size=10, epochs=10, score=0.903, total=   0.7s\n",
      "[CV] batch_size=10, epochs=10 ........................................\n"
     ]
    },
    {
     "name": "stderr",
     "output_type": "stream",
     "text": [
      "[Parallel(n_jobs=1)]: Done   4 out of   4 | elapsed:    3.5s remaining:    0.0s\n"
     ]
    },
    {
     "name": "stdout",
     "output_type": "stream",
     "text": [
      "[CV] ............ batch_size=10, epochs=10, score=0.903, total=   0.7s\n",
      "[CV] batch_size=10, epochs=50 ........................................\n"
     ]
    },
    {
     "name": "stderr",
     "output_type": "stream",
     "text": [
      "[Parallel(n_jobs=1)]: Done   5 out of   5 | elapsed:    4.2s remaining:    0.0s\n"
     ]
    },
    {
     "name": "stdout",
     "output_type": "stream",
     "text": [
      "[CV] ............ batch_size=10, epochs=50, score=1.000, total=   1.5s\n",
      "[CV] batch_size=10, epochs=50 ........................................\n"
     ]
    },
    {
     "name": "stderr",
     "output_type": "stream",
     "text": [
      "[Parallel(n_jobs=1)]: Done   6 out of   6 | elapsed:    5.8s remaining:    0.0s\n"
     ]
    },
    {
     "name": "stdout",
     "output_type": "stream",
     "text": [
      "[CV] ............ batch_size=10, epochs=50, score=0.942, total=   1.5s\n",
      "[CV] batch_size=10, epochs=50 ........................................\n"
     ]
    },
    {
     "name": "stderr",
     "output_type": "stream",
     "text": [
      "[Parallel(n_jobs=1)]: Done   7 out of   7 | elapsed:    7.3s remaining:    0.0s\n"
     ]
    },
    {
     "name": "stdout",
     "output_type": "stream",
     "text": [
      "[CV] ............ batch_size=10, epochs=50, score=0.893, total=   1.5s\n",
      "[CV] batch_size=10, epochs=50 ........................................\n"
     ]
    },
    {
     "name": "stderr",
     "output_type": "stream",
     "text": [
      "[Parallel(n_jobs=1)]: Done   8 out of   8 | elapsed:    8.8s remaining:    0.0s\n"
     ]
    },
    {
     "name": "stdout",
     "output_type": "stream",
     "text": [
      "[CV] ............ batch_size=10, epochs=50, score=0.951, total=   1.6s\n",
      "[CV] batch_size=10, epochs=50 ........................................\n"
     ]
    },
    {
     "name": "stderr",
     "output_type": "stream",
     "text": [
      "[Parallel(n_jobs=1)]: Done   9 out of   9 | elapsed:   10.4s remaining:    0.0s\n"
     ]
    },
    {
     "name": "stdout",
     "output_type": "stream",
     "text": [
      "[CV] ............ batch_size=10, epochs=50, score=0.913, total=   1.6s\n",
      "[CV] batch_size=20, epochs=10 ........................................\n",
      "[CV] ............ batch_size=20, epochs=10, score=0.981, total=   0.6s\n",
      "[CV] batch_size=20, epochs=10 ........................................\n",
      "[CV] ............ batch_size=20, epochs=10, score=0.856, total=   0.6s\n",
      "[CV] batch_size=20, epochs=10 ........................................\n",
      "[CV] ............ batch_size=20, epochs=10, score=0.835, total=   0.6s\n",
      "[CV] batch_size=20, epochs=10 ........................................\n",
      "[CV] ............ batch_size=20, epochs=10, score=0.932, total=   0.6s\n",
      "[CV] batch_size=20, epochs=10 ........................................\n",
      "[CV] ............ batch_size=20, epochs=10, score=0.874, total=   0.6s\n",
      "[CV] batch_size=20, epochs=50 ........................................\n",
      "[CV] ............ batch_size=20, epochs=50, score=1.000, total=   1.0s\n",
      "[CV] batch_size=20, epochs=50 ........................................\n",
      "[CV] ............ batch_size=20, epochs=50, score=0.962, total=   1.1s\n",
      "[CV] batch_size=20, epochs=50 ........................................\n",
      "[CV] ............ batch_size=20, epochs=50, score=0.893, total=   1.1s\n",
      "[CV] batch_size=20, epochs=50 ........................................\n",
      "[CV] ............ batch_size=20, epochs=50, score=0.922, total=   1.0s\n",
      "[CV] batch_size=20, epochs=50 ........................................\n",
      "[CV] ............ batch_size=20, epochs=50, score=0.903, total=   1.1s\n"
     ]
    },
    {
     "name": "stderr",
     "output_type": "stream",
     "text": [
      "[Parallel(n_jobs=1)]: Done  20 out of  20 | elapsed:   20.3s finished\n"
     ]
    }
   ],
   "source": [
    "grid = GridSearchCV(estimator = model,param_grid= param_grid,cv = KFold(),verbose = 10)\n",
    "grid_result = grid.fit(X_standardized,Y)"
   ]
  },
  {
   "cell_type": "code",
   "execution_count": 29,
   "metadata": {},
   "outputs": [
    {
     "name": "stdout",
     "output_type": "stream",
     "text": [
      "Best : 0.9399178504943848, using {'batch_size': 10, 'epochs': 50}\n"
     ]
    }
   ],
   "source": [
    "# Summarize the results\n",
    "print('Best : {}, using {}'.format(grid_result.best_score_,grid_result.best_params_))"
   ]
  },
  {
   "cell_type": "markdown",
   "metadata": {},
   "source": [
    "### Tuning of  Learning rate and Drop out rate , Epochs, Learning rate , all together\n"
   ]
  },
  {
   "cell_type": "code",
   "execution_count": 36,
   "metadata": {},
   "outputs": [],
   "source": [
    "from keras.layers import Dropout\n",
    "\n",
    "#model defination\n",
    "\n",
    "def create_model1(learning_rate,dropout_rate):\n",
    "    model = Sequential()\n",
    "    model.add(Dense(10,input_dim = 21,kernel_initializer = 'uniform',activation='relu'))\n",
    "    model.add(Dropout(dropout_rate))\n",
    "    model.add(Dense(10,input_dim = 10,kernel_initializer = 'uniform',activation='relu'))\n",
    "    model.add(Dropout(dropout_rate))\n",
    "    model.add(Dense(1,activation='sigmoid'))\n",
    "    \n",
    "    adam = Adam(lr = learning_rate)\n",
    "    model.compile(loss = 'binary_crossentropy',optimizer=adam,metrics=['accuracy'])\n",
    "    return model"
   ]
  },
  {
   "cell_type": "code",
   "execution_count": 39,
   "metadata": {},
   "outputs": [],
   "source": [
    "#create model\n",
    "\n",
    "model = KerasClassifier(build_fn = create_model1,verbose = 0)\n",
    "\n",
    "# define grid search parameters \n",
    "\n",
    "learning_rate = [0.001,0.01]\n",
    "dropout_rate = [0.00,0.1,0.2]\n",
    "batch_size = [10,20]\n",
    "epochs = [10,50]\n",
    "\n",
    "param_grid = dict(learning_rate = learning_rate,epochs = epochs,dropout_rate = dropout_rate,batch_size= batch_size)"
   ]
  },
  {
   "cell_type": "code",
   "execution_count": 40,
   "metadata": {},
   "outputs": [
    {
     "name": "stdout",
     "output_type": "stream",
     "text": [
      "Fitting 5 folds for each of 24 candidates, totalling 120 fits\n",
      "[CV] batch_size=10, dropout_rate=0.0, epochs=10, learning_rate=0.001 .\n"
     ]
    },
    {
     "name": "stderr",
     "output_type": "stream",
     "text": [
      "[Parallel(n_jobs=1)]: Using backend SequentialBackend with 1 concurrent workers.\n"
     ]
    },
    {
     "name": "stdout",
     "output_type": "stream",
     "text": [
      "[CV]  batch_size=10, dropout_rate=0.0, epochs=10, learning_rate=0.001, score=1.000, total=   0.8s\n",
      "[CV] batch_size=10, dropout_rate=0.0, epochs=10, learning_rate=0.001 .\n"
     ]
    },
    {
     "name": "stderr",
     "output_type": "stream",
     "text": [
      "[Parallel(n_jobs=1)]: Done   1 out of   1 | elapsed:    0.8s remaining:    0.0s\n"
     ]
    },
    {
     "name": "stdout",
     "output_type": "stream",
     "text": [
      "[CV]  batch_size=10, dropout_rate=0.0, epochs=10, learning_rate=0.001, score=0.750, total=   0.8s\n",
      "[CV] batch_size=10, dropout_rate=0.0, epochs=10, learning_rate=0.001 .\n"
     ]
    },
    {
     "name": "stderr",
     "output_type": "stream",
     "text": [
      "[Parallel(n_jobs=1)]: Done   2 out of   2 | elapsed:    1.6s remaining:    0.0s\n"
     ]
    },
    {
     "name": "stdout",
     "output_type": "stream",
     "text": [
      "[CV]  batch_size=10, dropout_rate=0.0, epochs=10, learning_rate=0.001, score=0.524, total=   0.7s\n",
      "[CV] batch_size=10, dropout_rate=0.0, epochs=10, learning_rate=0.001 .\n"
     ]
    },
    {
     "name": "stderr",
     "output_type": "stream",
     "text": [
      "[Parallel(n_jobs=1)]: Done   3 out of   3 | elapsed:    2.3s remaining:    0.0s\n"
     ]
    },
    {
     "name": "stdout",
     "output_type": "stream",
     "text": [
      "[CV]  batch_size=10, dropout_rate=0.0, epochs=10, learning_rate=0.001, score=0.748, total=   0.8s\n",
      "[CV] batch_size=10, dropout_rate=0.0, epochs=10, learning_rate=0.001 .\n"
     ]
    },
    {
     "name": "stderr",
     "output_type": "stream",
     "text": [
      "[Parallel(n_jobs=1)]: Done   4 out of   4 | elapsed:    3.1s remaining:    0.0s\n"
     ]
    },
    {
     "name": "stdout",
     "output_type": "stream",
     "text": [
      "[CV]  batch_size=10, dropout_rate=0.0, epochs=10, learning_rate=0.001, score=0.738, total=   0.7s\n",
      "[CV] batch_size=10, dropout_rate=0.0, epochs=10, learning_rate=0.01 ..\n"
     ]
    },
    {
     "name": "stderr",
     "output_type": "stream",
     "text": [
      "[Parallel(n_jobs=1)]: Done   5 out of   5 | elapsed:    3.8s remaining:    0.0s\n"
     ]
    },
    {
     "name": "stdout",
     "output_type": "stream",
     "text": [
      "[CV]  batch_size=10, dropout_rate=0.0, epochs=10, learning_rate=0.01, score=0.962, total=   0.8s\n",
      "[CV] batch_size=10, dropout_rate=0.0, epochs=10, learning_rate=0.01 ..\n"
     ]
    },
    {
     "name": "stderr",
     "output_type": "stream",
     "text": [
      "[Parallel(n_jobs=1)]: Done   6 out of   6 | elapsed:    4.6s remaining:    0.0s\n"
     ]
    },
    {
     "name": "stdout",
     "output_type": "stream",
     "text": [
      "[CV]  batch_size=10, dropout_rate=0.0, epochs=10, learning_rate=0.01, score=0.856, total=   0.7s\n",
      "[CV] batch_size=10, dropout_rate=0.0, epochs=10, learning_rate=0.01 ..\n"
     ]
    },
    {
     "name": "stderr",
     "output_type": "stream",
     "text": [
      "[Parallel(n_jobs=1)]: Done   7 out of   7 | elapsed:    5.3s remaining:    0.0s\n"
     ]
    },
    {
     "name": "stdout",
     "output_type": "stream",
     "text": [
      "[CV]  batch_size=10, dropout_rate=0.0, epochs=10, learning_rate=0.01, score=0.874, total=   0.7s\n",
      "[CV] batch_size=10, dropout_rate=0.0, epochs=10, learning_rate=0.01 ..\n"
     ]
    },
    {
     "name": "stderr",
     "output_type": "stream",
     "text": [
      "[Parallel(n_jobs=1)]: Done   8 out of   8 | elapsed:    6.0s remaining:    0.0s\n"
     ]
    },
    {
     "name": "stdout",
     "output_type": "stream",
     "text": [
      "[CV]  batch_size=10, dropout_rate=0.0, epochs=10, learning_rate=0.01, score=0.981, total=   0.7s\n",
      "[CV] batch_size=10, dropout_rate=0.0, epochs=10, learning_rate=0.01 ..\n"
     ]
    },
    {
     "name": "stderr",
     "output_type": "stream",
     "text": [
      "[Parallel(n_jobs=1)]: Done   9 out of   9 | elapsed:    6.8s remaining:    0.0s\n"
     ]
    },
    {
     "name": "stdout",
     "output_type": "stream",
     "text": [
      "[CV]  batch_size=10, dropout_rate=0.0, epochs=10, learning_rate=0.01, score=0.874, total=   0.7s\n",
      "[CV] batch_size=10, dropout_rate=0.0, epochs=50, learning_rate=0.001 .\n",
      "[CV]  batch_size=10, dropout_rate=0.0, epochs=50, learning_rate=0.001, score=0.990, total=   1.6s\n",
      "[CV] batch_size=10, dropout_rate=0.0, epochs=50, learning_rate=0.001 .\n",
      "[CV]  batch_size=10, dropout_rate=0.0, epochs=50, learning_rate=0.001, score=0.952, total=   1.6s\n",
      "[CV] batch_size=10, dropout_rate=0.0, epochs=50, learning_rate=0.001 .\n",
      "[CV]  batch_size=10, dropout_rate=0.0, epochs=50, learning_rate=0.001, score=0.922, total=   1.6s\n",
      "[CV] batch_size=10, dropout_rate=0.0, epochs=50, learning_rate=0.001 .\n",
      "[CV]  batch_size=10, dropout_rate=0.0, epochs=50, learning_rate=0.001, score=0.951, total=   1.7s\n",
      "[CV] batch_size=10, dropout_rate=0.0, epochs=50, learning_rate=0.001 .\n",
      "[CV]  batch_size=10, dropout_rate=0.0, epochs=50, learning_rate=0.001, score=0.942, total=   1.7s\n",
      "[CV] batch_size=10, dropout_rate=0.0, epochs=50, learning_rate=0.01 ..\n",
      "[CV]  batch_size=10, dropout_rate=0.0, epochs=50, learning_rate=0.01, score=1.000, total=   1.8s\n",
      "[CV] batch_size=10, dropout_rate=0.0, epochs=50, learning_rate=0.01 ..\n",
      "[CV]  batch_size=10, dropout_rate=0.0, epochs=50, learning_rate=0.01, score=0.913, total=   1.7s\n",
      "[CV] batch_size=10, dropout_rate=0.0, epochs=50, learning_rate=0.01 ..\n",
      "[CV]  batch_size=10, dropout_rate=0.0, epochs=50, learning_rate=0.01, score=0.903, total=   1.7s\n",
      "[CV] batch_size=10, dropout_rate=0.0, epochs=50, learning_rate=0.01 ..\n",
      "[CV]  batch_size=10, dropout_rate=0.0, epochs=50, learning_rate=0.01, score=0.951, total=   1.6s\n",
      "[CV] batch_size=10, dropout_rate=0.0, epochs=50, learning_rate=0.01 ..\n",
      "[CV]  batch_size=10, dropout_rate=0.0, epochs=50, learning_rate=0.01, score=0.913, total=   1.7s\n",
      "[CV] batch_size=10, dropout_rate=0.1, epochs=10, learning_rate=0.001 .\n",
      "[CV]  batch_size=10, dropout_rate=0.1, epochs=10, learning_rate=0.001, score=1.000, total=   0.8s\n",
      "[CV] batch_size=10, dropout_rate=0.1, epochs=10, learning_rate=0.001 .\n",
      "[CV]  batch_size=10, dropout_rate=0.1, epochs=10, learning_rate=0.001, score=0.750, total=   0.8s\n",
      "[CV] batch_size=10, dropout_rate=0.1, epochs=10, learning_rate=0.001 .\n",
      "[CV]  batch_size=10, dropout_rate=0.1, epochs=10, learning_rate=0.001, score=0.631, total=   0.9s\n",
      "[CV] batch_size=10, dropout_rate=0.1, epochs=10, learning_rate=0.001 .\n",
      "[CV]  batch_size=10, dropout_rate=0.1, epochs=10, learning_rate=0.001, score=0.699, total=   1.6s\n",
      "[CV] batch_size=10, dropout_rate=0.1, epochs=10, learning_rate=0.001 .\n",
      "[CV]  batch_size=10, dropout_rate=0.1, epochs=10, learning_rate=0.001, score=0.767, total=   0.8s\n",
      "[CV] batch_size=10, dropout_rate=0.1, epochs=10, learning_rate=0.01 ..\n",
      "[CV]  batch_size=10, dropout_rate=0.1, epochs=10, learning_rate=0.01, score=1.000, total=   0.8s\n",
      "[CV] batch_size=10, dropout_rate=0.1, epochs=10, learning_rate=0.01 ..\n",
      "[CV]  batch_size=10, dropout_rate=0.1, epochs=10, learning_rate=0.01, score=0.923, total=   0.7s\n",
      "[CV] batch_size=10, dropout_rate=0.1, epochs=10, learning_rate=0.01 ..\n",
      "[CV]  batch_size=10, dropout_rate=0.1, epochs=10, learning_rate=0.01, score=0.883, total=   0.7s\n",
      "[CV] batch_size=10, dropout_rate=0.1, epochs=10, learning_rate=0.01 ..\n",
      "[CV]  batch_size=10, dropout_rate=0.1, epochs=10, learning_rate=0.01, score=0.913, total=   0.7s\n",
      "[CV] batch_size=10, dropout_rate=0.1, epochs=10, learning_rate=0.01 ..\n",
      "[CV]  batch_size=10, dropout_rate=0.1, epochs=10, learning_rate=0.01, score=0.942, total=   0.7s\n",
      "[CV] batch_size=10, dropout_rate=0.1, epochs=50, learning_rate=0.001 .\n",
      "[CV]  batch_size=10, dropout_rate=0.1, epochs=50, learning_rate=0.001, score=1.000, total=   1.6s\n",
      "[CV] batch_size=10, dropout_rate=0.1, epochs=50, learning_rate=0.001 .\n",
      "[CV]  batch_size=10, dropout_rate=0.1, epochs=50, learning_rate=0.001, score=0.971, total=   1.6s\n",
      "[CV] batch_size=10, dropout_rate=0.1, epochs=50, learning_rate=0.001 .\n",
      "[CV]  batch_size=10, dropout_rate=0.1, epochs=50, learning_rate=0.001, score=0.913, total=   1.6s\n",
      "[CV] batch_size=10, dropout_rate=0.1, epochs=50, learning_rate=0.001 .\n",
      "[CV]  batch_size=10, dropout_rate=0.1, epochs=50, learning_rate=0.001, score=0.913, total=   1.7s\n",
      "[CV] batch_size=10, dropout_rate=0.1, epochs=50, learning_rate=0.001 .\n",
      "[CV]  batch_size=10, dropout_rate=0.1, epochs=50, learning_rate=0.001, score=0.942, total=   1.6s\n",
      "[CV] batch_size=10, dropout_rate=0.1, epochs=50, learning_rate=0.01 ..\n",
      "[CV]  batch_size=10, dropout_rate=0.1, epochs=50, learning_rate=0.01, score=1.000, total=   1.6s\n",
      "[CV] batch_size=10, dropout_rate=0.1, epochs=50, learning_rate=0.01 ..\n",
      "[CV]  batch_size=10, dropout_rate=0.1, epochs=50, learning_rate=0.01, score=0.981, total=   1.6s\n",
      "[CV] batch_size=10, dropout_rate=0.1, epochs=50, learning_rate=0.01 ..\n",
      "[CV]  batch_size=10, dropout_rate=0.1, epochs=50, learning_rate=0.01, score=0.922, total=   1.7s\n",
      "[CV] batch_size=10, dropout_rate=0.1, epochs=50, learning_rate=0.01 ..\n",
      "[CV]  batch_size=10, dropout_rate=0.1, epochs=50, learning_rate=0.01, score=0.971, total=   1.7s\n",
      "[CV] batch_size=10, dropout_rate=0.1, epochs=50, learning_rate=0.01 ..\n",
      "[CV]  batch_size=10, dropout_rate=0.1, epochs=50, learning_rate=0.01, score=0.913, total=   1.7s\n",
      "[CV] batch_size=10, dropout_rate=0.2, epochs=10, learning_rate=0.001 .\n",
      "[CV]  batch_size=10, dropout_rate=0.2, epochs=10, learning_rate=0.001, score=1.000, total=   0.7s\n",
      "[CV] batch_size=10, dropout_rate=0.2, epochs=10, learning_rate=0.001 .\n",
      "[CV]  batch_size=10, dropout_rate=0.2, epochs=10, learning_rate=0.001, score=0.750, total=   0.7s\n",
      "[CV] batch_size=10, dropout_rate=0.2, epochs=10, learning_rate=0.001 .\n",
      "[CV]  batch_size=10, dropout_rate=0.2, epochs=10, learning_rate=0.001, score=0.524, total=   0.8s\n",
      "[CV] batch_size=10, dropout_rate=0.2, epochs=10, learning_rate=0.001 .\n",
      "[CV]  batch_size=10, dropout_rate=0.2, epochs=10, learning_rate=0.001, score=0.680, total=   0.8s\n",
      "[CV] batch_size=10, dropout_rate=0.2, epochs=10, learning_rate=0.001 .\n",
      "[CV]  batch_size=10, dropout_rate=0.2, epochs=10, learning_rate=0.001, score=0.806, total=   0.8s\n",
      "[CV] batch_size=10, dropout_rate=0.2, epochs=10, learning_rate=0.01 ..\n",
      "[CV]  batch_size=10, dropout_rate=0.2, epochs=10, learning_rate=0.01, score=1.000, total=   0.8s\n",
      "[CV] batch_size=10, dropout_rate=0.2, epochs=10, learning_rate=0.01 ..\n",
      "[CV]  batch_size=10, dropout_rate=0.2, epochs=10, learning_rate=0.01, score=0.856, total=   0.8s\n",
      "[CV] batch_size=10, dropout_rate=0.2, epochs=10, learning_rate=0.01 ..\n",
      "[CV]  batch_size=10, dropout_rate=0.2, epochs=10, learning_rate=0.01, score=0.874, total=   1.6s\n",
      "[CV] batch_size=10, dropout_rate=0.2, epochs=10, learning_rate=0.01 ..\n",
      "[CV]  batch_size=10, dropout_rate=0.2, epochs=10, learning_rate=0.01, score=0.932, total=   0.8s\n",
      "[CV] batch_size=10, dropout_rate=0.2, epochs=10, learning_rate=0.01 ..\n",
      "[CV]  batch_size=10, dropout_rate=0.2, epochs=10, learning_rate=0.01, score=0.883, total=   0.8s\n",
      "[CV] batch_size=10, dropout_rate=0.2, epochs=50, learning_rate=0.001 .\n",
      "[CV]  batch_size=10, dropout_rate=0.2, epochs=50, learning_rate=0.001, score=1.000, total=   1.8s\n",
      "[CV] batch_size=10, dropout_rate=0.2, epochs=50, learning_rate=0.001 .\n",
      "[CV]  batch_size=10, dropout_rate=0.2, epochs=50, learning_rate=0.001, score=0.904, total=   1.6s\n",
      "[CV] batch_size=10, dropout_rate=0.2, epochs=50, learning_rate=0.001 .\n",
      "[CV]  batch_size=10, dropout_rate=0.2, epochs=50, learning_rate=0.001, score=0.903, total=   1.7s\n",
      "[CV] batch_size=10, dropout_rate=0.2, epochs=50, learning_rate=0.001 .\n",
      "[CV]  batch_size=10, dropout_rate=0.2, epochs=50, learning_rate=0.001, score=0.922, total=   1.7s\n",
      "[CV] batch_size=10, dropout_rate=0.2, epochs=50, learning_rate=0.001 .\n",
      "[CV]  batch_size=10, dropout_rate=0.2, epochs=50, learning_rate=0.001, score=0.942, total=   1.7s\n",
      "[CV] batch_size=10, dropout_rate=0.2, epochs=50, learning_rate=0.01 ..\n",
      "[CV]  batch_size=10, dropout_rate=0.2, epochs=50, learning_rate=0.01, score=1.000, total=   1.6s\n",
      "[CV] batch_size=10, dropout_rate=0.2, epochs=50, learning_rate=0.01 ..\n",
      "[CV]  batch_size=10, dropout_rate=0.2, epochs=50, learning_rate=0.01, score=0.933, total=   1.6s\n",
      "[CV] batch_size=10, dropout_rate=0.2, epochs=50, learning_rate=0.01 ..\n",
      "[CV]  batch_size=10, dropout_rate=0.2, epochs=50, learning_rate=0.01, score=0.903, total=   1.6s\n",
      "[CV] batch_size=10, dropout_rate=0.2, epochs=50, learning_rate=0.01 ..\n"
     ]
    },
    {
     "name": "stdout",
     "output_type": "stream",
     "text": [
      "[CV]  batch_size=10, dropout_rate=0.2, epochs=50, learning_rate=0.01, score=0.971, total=   1.6s\n",
      "[CV] batch_size=10, dropout_rate=0.2, epochs=50, learning_rate=0.01 ..\n",
      "[CV]  batch_size=10, dropout_rate=0.2, epochs=50, learning_rate=0.01, score=0.903, total=   1.7s\n",
      "[CV] batch_size=20, dropout_rate=0.0, epochs=10, learning_rate=0.001 .\n",
      "[CV]  batch_size=20, dropout_rate=0.0, epochs=10, learning_rate=0.001, score=1.000, total=   0.7s\n",
      "[CV] batch_size=20, dropout_rate=0.0, epochs=10, learning_rate=0.001 .\n",
      "[CV]  batch_size=20, dropout_rate=0.0, epochs=10, learning_rate=0.001, score=0.750, total=   0.7s\n",
      "[CV] batch_size=20, dropout_rate=0.0, epochs=10, learning_rate=0.001 .\n",
      "[CV]  batch_size=20, dropout_rate=0.0, epochs=10, learning_rate=0.001, score=0.534, total=   0.7s\n",
      "[CV] batch_size=20, dropout_rate=0.0, epochs=10, learning_rate=0.001 .\n",
      "[CV]  batch_size=20, dropout_rate=0.0, epochs=10, learning_rate=0.001, score=0.680, total=   0.7s\n",
      "[CV] batch_size=20, dropout_rate=0.0, epochs=10, learning_rate=0.001 .\n",
      "[CV]  batch_size=20, dropout_rate=0.0, epochs=10, learning_rate=0.001, score=0.728, total=   0.7s\n",
      "[CV] batch_size=20, dropout_rate=0.0, epochs=10, learning_rate=0.01 ..\n",
      "[CV]  batch_size=20, dropout_rate=0.0, epochs=10, learning_rate=0.01, score=0.933, total=   0.7s\n",
      "[CV] batch_size=20, dropout_rate=0.0, epochs=10, learning_rate=0.01 ..\n",
      "[CV]  batch_size=20, dropout_rate=0.0, epochs=10, learning_rate=0.01, score=0.875, total=   0.6s\n",
      "[CV] batch_size=20, dropout_rate=0.0, epochs=10, learning_rate=0.01 ..\n",
      "[CV]  batch_size=20, dropout_rate=0.0, epochs=10, learning_rate=0.01, score=0.864, total=   0.6s\n",
      "[CV] batch_size=20, dropout_rate=0.0, epochs=10, learning_rate=0.01 ..\n",
      "[CV]  batch_size=20, dropout_rate=0.0, epochs=10, learning_rate=0.01, score=0.903, total=   0.7s\n",
      "[CV] batch_size=20, dropout_rate=0.0, epochs=10, learning_rate=0.01 ..\n",
      "[CV]  batch_size=20, dropout_rate=0.0, epochs=10, learning_rate=0.01, score=0.864, total=   0.7s\n",
      "[CV] batch_size=20, dropout_rate=0.0, epochs=50, learning_rate=0.001 .\n",
      "[CV]  batch_size=20, dropout_rate=0.0, epochs=50, learning_rate=0.001, score=1.000, total=   1.1s\n",
      "[CV] batch_size=20, dropout_rate=0.0, epochs=50, learning_rate=0.001 .\n",
      "[CV]  batch_size=20, dropout_rate=0.0, epochs=50, learning_rate=0.001, score=0.885, total=   2.0s\n",
      "[CV] batch_size=20, dropout_rate=0.0, epochs=50, learning_rate=0.001 .\n",
      "[CV]  batch_size=20, dropout_rate=0.0, epochs=50, learning_rate=0.001, score=0.903, total=   1.1s\n",
      "[CV] batch_size=20, dropout_rate=0.0, epochs=50, learning_rate=0.001 .\n",
      "[CV]  batch_size=20, dropout_rate=0.0, epochs=50, learning_rate=0.001, score=0.903, total=   1.2s\n",
      "[CV] batch_size=20, dropout_rate=0.0, epochs=50, learning_rate=0.001 .\n",
      "[CV]  batch_size=20, dropout_rate=0.0, epochs=50, learning_rate=0.001, score=0.883, total=   1.1s\n",
      "[CV] batch_size=20, dropout_rate=0.0, epochs=50, learning_rate=0.01 ..\n",
      "[CV]  batch_size=20, dropout_rate=0.0, epochs=50, learning_rate=0.01, score=0.990, total=   1.1s\n",
      "[CV] batch_size=20, dropout_rate=0.0, epochs=50, learning_rate=0.01 ..\n",
      "[CV]  batch_size=20, dropout_rate=0.0, epochs=50, learning_rate=0.01, score=0.942, total=   1.1s\n",
      "[CV] batch_size=20, dropout_rate=0.0, epochs=50, learning_rate=0.01 ..\n",
      "[CV]  batch_size=20, dropout_rate=0.0, epochs=50, learning_rate=0.01, score=0.903, total=   1.1s\n",
      "[CV] batch_size=20, dropout_rate=0.0, epochs=50, learning_rate=0.01 ..\n",
      "[CV]  batch_size=20, dropout_rate=0.0, epochs=50, learning_rate=0.01, score=0.922, total=   1.1s\n",
      "[CV] batch_size=20, dropout_rate=0.0, epochs=50, learning_rate=0.01 ..\n",
      "[CV]  batch_size=20, dropout_rate=0.0, epochs=50, learning_rate=0.01, score=0.922, total=   1.1s\n",
      "[CV] batch_size=20, dropout_rate=0.1, epochs=10, learning_rate=0.001 .\n",
      "[CV]  batch_size=20, dropout_rate=0.1, epochs=10, learning_rate=0.001, score=1.000, total=   0.6s\n",
      "[CV] batch_size=20, dropout_rate=0.1, epochs=10, learning_rate=0.001 .\n",
      "[CV]  batch_size=20, dropout_rate=0.1, epochs=10, learning_rate=0.001, score=0.750, total=   0.6s\n",
      "[CV] batch_size=20, dropout_rate=0.1, epochs=10, learning_rate=0.001 .\n",
      "[CV]  batch_size=20, dropout_rate=0.1, epochs=10, learning_rate=0.001, score=0.553, total=   0.6s\n",
      "[CV] batch_size=20, dropout_rate=0.1, epochs=10, learning_rate=0.001 .\n",
      "[CV]  batch_size=20, dropout_rate=0.1, epochs=10, learning_rate=0.001, score=0.680, total=   0.6s\n",
      "[CV] batch_size=20, dropout_rate=0.1, epochs=10, learning_rate=0.001 .\n",
      "[CV]  batch_size=20, dropout_rate=0.1, epochs=10, learning_rate=0.001, score=0.728, total=   0.6s\n",
      "[CV] batch_size=20, dropout_rate=0.1, epochs=10, learning_rate=0.01 ..\n",
      "[CV]  batch_size=20, dropout_rate=0.1, epochs=10, learning_rate=0.01, score=0.990, total=   0.6s\n",
      "[CV] batch_size=20, dropout_rate=0.1, epochs=10, learning_rate=0.01 ..\n",
      "[CV]  batch_size=20, dropout_rate=0.1, epochs=10, learning_rate=0.01, score=0.875, total=   0.6s\n",
      "[CV] batch_size=20, dropout_rate=0.1, epochs=10, learning_rate=0.01 ..\n",
      "[CV]  batch_size=20, dropout_rate=0.1, epochs=10, learning_rate=0.01, score=0.825, total=   0.6s\n",
      "[CV] batch_size=20, dropout_rate=0.1, epochs=10, learning_rate=0.01 ..\n",
      "[CV]  batch_size=20, dropout_rate=0.1, epochs=10, learning_rate=0.01, score=0.913, total=   0.6s\n",
      "[CV] batch_size=20, dropout_rate=0.1, epochs=10, learning_rate=0.01 ..\n",
      "[CV]  batch_size=20, dropout_rate=0.1, epochs=10, learning_rate=0.01, score=0.854, total=   0.6s\n",
      "[CV] batch_size=20, dropout_rate=0.1, epochs=50, learning_rate=0.001 .\n",
      "[CV]  batch_size=20, dropout_rate=0.1, epochs=50, learning_rate=0.001, score=1.000, total=   1.1s\n",
      "[CV] batch_size=20, dropout_rate=0.1, epochs=50, learning_rate=0.001 .\n",
      "[CV]  batch_size=20, dropout_rate=0.1, epochs=50, learning_rate=0.001, score=0.865, total=   1.1s\n",
      "[CV] batch_size=20, dropout_rate=0.1, epochs=50, learning_rate=0.001 .\n",
      "[CV]  batch_size=20, dropout_rate=0.1, epochs=50, learning_rate=0.001, score=0.854, total=   1.1s\n",
      "[CV] batch_size=20, dropout_rate=0.1, epochs=50, learning_rate=0.001 .\n",
      "[CV]  batch_size=20, dropout_rate=0.1, epochs=50, learning_rate=0.001, score=0.874, total=   1.1s\n",
      "[CV] batch_size=20, dropout_rate=0.1, epochs=50, learning_rate=0.001 .\n",
      "[CV]  batch_size=20, dropout_rate=0.1, epochs=50, learning_rate=0.001, score=0.874, total=   1.1s\n",
      "[CV] batch_size=20, dropout_rate=0.1, epochs=50, learning_rate=0.01 ..\n",
      "[CV]  batch_size=20, dropout_rate=0.1, epochs=50, learning_rate=0.01, score=1.000, total=   1.9s\n",
      "[CV] batch_size=20, dropout_rate=0.1, epochs=50, learning_rate=0.01 ..\n",
      "[CV]  batch_size=20, dropout_rate=0.1, epochs=50, learning_rate=0.01, score=0.962, total=   1.1s\n",
      "[CV] batch_size=20, dropout_rate=0.1, epochs=50, learning_rate=0.01 ..\n",
      "[CV]  batch_size=20, dropout_rate=0.1, epochs=50, learning_rate=0.01, score=0.883, total=   1.1s\n",
      "[CV] batch_size=20, dropout_rate=0.1, epochs=50, learning_rate=0.01 ..\n",
      "[CV]  batch_size=20, dropout_rate=0.1, epochs=50, learning_rate=0.01, score=0.971, total=   1.1s\n",
      "[CV] batch_size=20, dropout_rate=0.1, epochs=50, learning_rate=0.01 ..\n",
      "[CV]  batch_size=20, dropout_rate=0.1, epochs=50, learning_rate=0.01, score=0.932, total=   1.1s\n",
      "[CV] batch_size=20, dropout_rate=0.2, epochs=10, learning_rate=0.001 .\n",
      "[CV]  batch_size=20, dropout_rate=0.2, epochs=10, learning_rate=0.001, score=0.990, total=   0.6s\n",
      "[CV] batch_size=20, dropout_rate=0.2, epochs=10, learning_rate=0.001 .\n",
      "[CV]  batch_size=20, dropout_rate=0.2, epochs=10, learning_rate=0.001, score=0.750, total=   0.6s\n",
      "[CV] batch_size=20, dropout_rate=0.2, epochs=10, learning_rate=0.001 .\n",
      "[CV]  batch_size=20, dropout_rate=0.2, epochs=10, learning_rate=0.001, score=0.524, total=   0.6s\n",
      "[CV] batch_size=20, dropout_rate=0.2, epochs=10, learning_rate=0.001 .\n",
      "[CV]  batch_size=20, dropout_rate=0.2, epochs=10, learning_rate=0.001, score=0.689, total=   0.6s\n",
      "[CV] batch_size=20, dropout_rate=0.2, epochs=10, learning_rate=0.001 .\n",
      "[CV]  batch_size=20, dropout_rate=0.2, epochs=10, learning_rate=0.001, score=0.728, total=   0.6s\n",
      "[CV] batch_size=20, dropout_rate=0.2, epochs=10, learning_rate=0.01 ..\n",
      "[CV]  batch_size=20, dropout_rate=0.2, epochs=10, learning_rate=0.01, score=1.000, total=   0.6s\n",
      "[CV] batch_size=20, dropout_rate=0.2, epochs=10, learning_rate=0.01 ..\n",
      "[CV]  batch_size=20, dropout_rate=0.2, epochs=10, learning_rate=0.01, score=0.846, total=   0.6s\n",
      "[CV] batch_size=20, dropout_rate=0.2, epochs=10, learning_rate=0.01 ..\n"
     ]
    },
    {
     "name": "stdout",
     "output_type": "stream",
     "text": [
      "[CV]  batch_size=20, dropout_rate=0.2, epochs=10, learning_rate=0.01, score=0.835, total=   0.6s\n",
      "[CV] batch_size=20, dropout_rate=0.2, epochs=10, learning_rate=0.01 ..\n",
      "[CV]  batch_size=20, dropout_rate=0.2, epochs=10, learning_rate=0.01, score=0.845, total=   0.6s\n",
      "[CV] batch_size=20, dropout_rate=0.2, epochs=10, learning_rate=0.01 ..\n",
      "[CV]  batch_size=20, dropout_rate=0.2, epochs=10, learning_rate=0.01, score=0.864, total=   0.6s\n",
      "[CV] batch_size=20, dropout_rate=0.2, epochs=50, learning_rate=0.001 .\n",
      "[CV]  batch_size=20, dropout_rate=0.2, epochs=50, learning_rate=0.001, score=1.000, total=   1.1s\n",
      "[CV] batch_size=20, dropout_rate=0.2, epochs=50, learning_rate=0.001 .\n",
      "[CV]  batch_size=20, dropout_rate=0.2, epochs=50, learning_rate=0.001, score=0.827, total=   1.1s\n",
      "[CV] batch_size=20, dropout_rate=0.2, epochs=50, learning_rate=0.001 .\n",
      "[CV]  batch_size=20, dropout_rate=0.2, epochs=50, learning_rate=0.001, score=0.893, total=   1.1s\n",
      "[CV] batch_size=20, dropout_rate=0.2, epochs=50, learning_rate=0.001 .\n",
      "[CV]  batch_size=20, dropout_rate=0.2, epochs=50, learning_rate=0.001, score=0.864, total=   1.1s\n",
      "[CV] batch_size=20, dropout_rate=0.2, epochs=50, learning_rate=0.001 .\n",
      "[CV]  batch_size=20, dropout_rate=0.2, epochs=50, learning_rate=0.001, score=0.864, total=   1.1s\n",
      "[CV] batch_size=20, dropout_rate=0.2, epochs=50, learning_rate=0.01 ..\n",
      "[CV]  batch_size=20, dropout_rate=0.2, epochs=50, learning_rate=0.01, score=1.000, total=   1.1s\n",
      "[CV] batch_size=20, dropout_rate=0.2, epochs=50, learning_rate=0.01 ..\n",
      "[CV]  batch_size=20, dropout_rate=0.2, epochs=50, learning_rate=0.01, score=0.933, total=   1.1s\n",
      "[CV] batch_size=20, dropout_rate=0.2, epochs=50, learning_rate=0.01 ..\n",
      "[CV]  batch_size=20, dropout_rate=0.2, epochs=50, learning_rate=0.01, score=0.874, total=   1.1s\n",
      "[CV] batch_size=20, dropout_rate=0.2, epochs=50, learning_rate=0.01 ..\n",
      "[CV]  batch_size=20, dropout_rate=0.2, epochs=50, learning_rate=0.01, score=0.922, total=   1.1s\n",
      "[CV] batch_size=20, dropout_rate=0.2, epochs=50, learning_rate=0.01 ..\n",
      "[CV]  batch_size=20, dropout_rate=0.2, epochs=50, learning_rate=0.01, score=0.874, total=   1.9s\n"
     ]
    },
    {
     "name": "stderr",
     "output_type": "stream",
     "text": [
      "[Parallel(n_jobs=1)]: Done 120 out of 120 | elapsed:  2.1min finished\n"
     ]
    }
   ],
   "source": [
    "grid = GridSearchCV(estimator = model,param_grid= param_grid,cv = KFold(),verbose = 10)\n",
    "grid_result = grid.fit(X_standardized,Y)"
   ]
  },
  {
   "cell_type": "code",
   "execution_count": 41,
   "metadata": {},
   "outputs": [
    {
     "name": "stdout",
     "output_type": "stream",
     "text": [
      "Best : 0.9573188900947571,using {'batch_size': 10, 'dropout_rate': 0.1, 'epochs': 50, 'learning_rate': 0.01}\n"
     ]
    }
   ],
   "source": [
    "# Summarize the results\n",
    "print('Best : {},using {}'.format(grid_result.best_score_,grid_result.best_params_))"
   ]
  },
  {
   "cell_type": "markdown",
   "metadata": {},
   "source": [
    "### tuning activation functions"
   ]
  },
  {
   "cell_type": "code",
   "execution_count": 47,
   "metadata": {},
   "outputs": [],
   "source": [
    "# Defining the model\n",
    "\n",
    "def create_model(activation_function,init):\n",
    "    model = Sequential()\n",
    "    model.add(Dense(10,input_dim = 21,kernel_initializer = init,activation = activation_function))\n",
    "    model.add(Dropout(0.1))\n",
    "    model.add(Dense(10,input_dim = 10,kernel_initializer = init,activation = activation_function))\n",
    "    model.add(Dropout(0.1))\n",
    "    model.add(Dense(1,activation = 'sigmoid'))\n",
    "    \n",
    "    adam = Adam(lr = 0.01)\n",
    "    model.compile(loss = 'binary_crossentropy',optimizer = adam,metrics = ['accuracy'])\n",
    "    return model"
   ]
  },
  {
   "cell_type": "code",
   "execution_count": 48,
   "metadata": {},
   "outputs": [],
   "source": [
    "# Create the model\n",
    "\n",
    "model = KerasClassifier(build_fn = create_model,verbose = 0,batch_size = 10,epochs = 50)\n",
    "\n",
    "# Define the grid search parameters\n",
    "activation_function = ['softmax','relu','tanh']\n",
    "init = ['uniform','normal']\n",
    "\n",
    "# Make a dictionary of the grid search parameters\n",
    "param_grids = dict(activation_function = activation_function,init = init)"
   ]
  },
  {
   "cell_type": "code",
   "execution_count": 49,
   "metadata": {},
   "outputs": [
    {
     "name": "stdout",
     "output_type": "stream",
     "text": [
      "Fitting 5 folds for each of 6 candidates, totalling 30 fits\n",
      "[CV] activation_function=softmax, init=uniform .......................\n"
     ]
    },
    {
     "name": "stderr",
     "output_type": "stream",
     "text": [
      "[Parallel(n_jobs=1)]: Using backend SequentialBackend with 1 concurrent workers.\n"
     ]
    },
    {
     "name": "stdout",
     "output_type": "stream",
     "text": [
      "[CV]  activation_function=softmax, init=uniform, score=0.981, total=   1.9s\n",
      "[CV] activation_function=softmax, init=uniform .......................\n"
     ]
    },
    {
     "name": "stderr",
     "output_type": "stream",
     "text": [
      "[Parallel(n_jobs=1)]: Done   1 out of   1 | elapsed:    1.9s remaining:    0.0s\n"
     ]
    },
    {
     "name": "stdout",
     "output_type": "stream",
     "text": [
      "[CV]  activation_function=softmax, init=uniform, score=0.923, total=   1.7s\n",
      "[CV] activation_function=softmax, init=uniform .......................\n"
     ]
    },
    {
     "name": "stderr",
     "output_type": "stream",
     "text": [
      "[Parallel(n_jobs=1)]: Done   2 out of   2 | elapsed:    3.6s remaining:    0.0s\n"
     ]
    },
    {
     "name": "stdout",
     "output_type": "stream",
     "text": [
      "[CV]  activation_function=softmax, init=uniform, score=0.903, total=   1.7s\n",
      "[CV] activation_function=softmax, init=uniform .......................\n"
     ]
    },
    {
     "name": "stderr",
     "output_type": "stream",
     "text": [
      "[Parallel(n_jobs=1)]: Done   3 out of   3 | elapsed:    5.2s remaining:    0.0s\n"
     ]
    },
    {
     "name": "stdout",
     "output_type": "stream",
     "text": [
      "[CV]  activation_function=softmax, init=uniform, score=0.942, total=   1.7s\n",
      "[CV] activation_function=softmax, init=uniform .......................\n"
     ]
    },
    {
     "name": "stderr",
     "output_type": "stream",
     "text": [
      "[Parallel(n_jobs=1)]: Done   4 out of   4 | elapsed:    6.9s remaining:    0.0s\n"
     ]
    },
    {
     "name": "stdout",
     "output_type": "stream",
     "text": [
      "[CV]  activation_function=softmax, init=uniform, score=0.893, total=   1.7s\n",
      "[CV] activation_function=softmax, init=normal ........................\n"
     ]
    },
    {
     "name": "stderr",
     "output_type": "stream",
     "text": [
      "[Parallel(n_jobs=1)]: Done   5 out of   5 | elapsed:    8.6s remaining:    0.0s\n"
     ]
    },
    {
     "name": "stdout",
     "output_type": "stream",
     "text": [
      "[CV]  activation_function=softmax, init=normal, score=1.000, total=   1.7s\n",
      "[CV] activation_function=softmax, init=normal ........................\n"
     ]
    },
    {
     "name": "stderr",
     "output_type": "stream",
     "text": [
      "[Parallel(n_jobs=1)]: Done   6 out of   6 | elapsed:   10.3s remaining:    0.0s\n"
     ]
    },
    {
     "name": "stdout",
     "output_type": "stream",
     "text": [
      "[CV]  activation_function=softmax, init=normal, score=0.923, total=   1.7s\n",
      "[CV] activation_function=softmax, init=normal ........................\n"
     ]
    },
    {
     "name": "stderr",
     "output_type": "stream",
     "text": [
      "[Parallel(n_jobs=1)]: Done   7 out of   7 | elapsed:   12.0s remaining:    0.0s\n"
     ]
    },
    {
     "name": "stdout",
     "output_type": "stream",
     "text": [
      "[CV]  activation_function=softmax, init=normal, score=0.903, total=   1.7s\n",
      "[CV] activation_function=softmax, init=normal ........................\n"
     ]
    },
    {
     "name": "stderr",
     "output_type": "stream",
     "text": [
      "[Parallel(n_jobs=1)]: Done   8 out of   8 | elapsed:   13.8s remaining:    0.0s\n"
     ]
    },
    {
     "name": "stdout",
     "output_type": "stream",
     "text": [
      "[CV]  activation_function=softmax, init=normal, score=0.922, total=   1.8s\n",
      "[CV] activation_function=softmax, init=normal ........................\n"
     ]
    },
    {
     "name": "stderr",
     "output_type": "stream",
     "text": [
      "[Parallel(n_jobs=1)]: Done   9 out of   9 | elapsed:   15.5s remaining:    0.0s\n"
     ]
    },
    {
     "name": "stdout",
     "output_type": "stream",
     "text": [
      "[CV]  activation_function=softmax, init=normal, score=0.883, total=   1.8s\n",
      "[CV] activation_function=relu, init=uniform ..........................\n",
      "[CV]  activation_function=relu, init=uniform, score=0.990, total=   1.7s\n",
      "[CV] activation_function=relu, init=uniform ..........................\n",
      "[CV]  activation_function=relu, init=uniform, score=0.952, total=   1.7s\n",
      "[CV] activation_function=relu, init=uniform ..........................\n",
      "[CV]  activation_function=relu, init=uniform, score=0.883, total=   1.7s\n",
      "[CV] activation_function=relu, init=uniform ..........................\n",
      "[CV]  activation_function=relu, init=uniform, score=0.942, total=   1.7s\n",
      "[CV] activation_function=relu, init=uniform ..........................\n",
      "[CV]  activation_function=relu, init=uniform, score=0.913, total=   1.7s\n",
      "[CV] activation_function=relu, init=normal ...........................\n",
      "[CV]  activation_function=relu, init=normal, score=1.000, total=   1.6s\n",
      "[CV] activation_function=relu, init=normal ...........................\n",
      "[CV]  activation_function=relu, init=normal, score=0.942, total=   1.6s\n",
      "[CV] activation_function=relu, init=normal ...........................\n",
      "[CV]  activation_function=relu, init=normal, score=0.903, total=   1.6s\n",
      "[CV] activation_function=relu, init=normal ...........................\n",
      "[CV]  activation_function=relu, init=normal, score=0.951, total=   1.7s\n",
      "[CV] activation_function=relu, init=normal ...........................\n",
      "[CV]  activation_function=relu, init=normal, score=0.903, total=   1.7s\n",
      "[CV] activation_function=tanh, init=uniform ..........................\n",
      "[CV]  activation_function=tanh, init=uniform, score=1.000, total=   1.6s\n",
      "[CV] activation_function=tanh, init=uniform ..........................\n",
      "[CV]  activation_function=tanh, init=uniform, score=0.923, total=   2.7s\n",
      "[CV] activation_function=tanh, init=uniform ..........................\n",
      "[CV]  activation_function=tanh, init=uniform, score=0.913, total=   1.6s\n",
      "[CV] activation_function=tanh, init=uniform ..........................\n",
      "[CV]  activation_function=tanh, init=uniform, score=0.951, total=   1.6s\n",
      "[CV] activation_function=tanh, init=uniform ..........................\n",
      "[CV]  activation_function=tanh, init=uniform, score=0.961, total=   1.6s\n",
      "[CV] activation_function=tanh, init=normal ...........................\n",
      "[CV]  activation_function=tanh, init=normal, score=1.000, total=   1.6s\n",
      "[CV] activation_function=tanh, init=normal ...........................\n",
      "[CV]  activation_function=tanh, init=normal, score=0.933, total=   1.6s\n",
      "[CV] activation_function=tanh, init=normal ...........................\n",
      "[CV]  activation_function=tanh, init=normal, score=0.913, total=   1.6s\n",
      "[CV] activation_function=tanh, init=normal ...........................\n",
      "[CV]  activation_function=tanh, init=normal, score=0.951, total=   1.6s\n",
      "[CV] activation_function=tanh, init=normal ...........................\n",
      "[CV]  activation_function=tanh, init=normal, score=0.951, total=   1.6s\n"
     ]
    },
    {
     "name": "stderr",
     "output_type": "stream",
     "text": [
      "[Parallel(n_jobs=1)]: Done  30 out of  30 | elapsed:   51.2s finished\n"
     ]
    }
   ],
   "source": [
    "# Build and fit the GridSearchCV\n",
    "\n",
    "grid = GridSearchCV(estimator = model,param_grid = param_grids,cv = KFold(),verbose = 10)\n",
    "grid_result = grid.fit(X_standardized,Y)"
   ]
  },
  {
   "cell_type": "code",
   "execution_count": 50,
   "metadata": {},
   "outputs": [
    {
     "name": "stdout",
     "output_type": "stream",
     "text": [
      "Best : 0.9496639370918274, using {'activation_function': 'tanh', 'init': 'uniform'}\n"
     ]
    }
   ],
   "source": [
    "# Summarize the results\n",
    "print('Best : {}, using {}'.format(grid_result.best_score_,grid_result.best_params_))"
   ]
  },
  {
   "cell_type": "markdown",
   "metadata": {},
   "source": [
    "### tuning number of nurons"
   ]
  },
  {
   "cell_type": "code",
   "execution_count": 51,
   "metadata": {},
   "outputs": [],
   "source": [
    "# Defining the model\n",
    "\n",
    "def create_model(neuron1,neuron2):\n",
    "    model = Sequential()\n",
    "    model.add(Dense(neuron1,input_dim = 21,kernel_initializer = 'uniform',activation = 'tanh'))\n",
    "    model.add(Dropout(0.1))\n",
    "    model.add(Dense(neuron2,input_dim = neuron1,kernel_initializer = 'uniform',activation = 'tanh'))\n",
    "    model.add(Dropout(0.1))\n",
    "    model.add(Dense(1,activation = 'sigmoid'))\n",
    "    \n",
    "    adam = Adam(lr = 0.01)\n",
    "    model.compile(loss = 'binary_crossentropy',optimizer = adam,metrics = ['accuracy'])\n",
    "    return model"
   ]
  },
  {
   "cell_type": "code",
   "execution_count": 52,
   "metadata": {},
   "outputs": [],
   "source": [
    "# Create the model\n",
    "\n",
    "model = KerasClassifier(build_fn = create_model,verbose = 0,batch_size = 10,epochs = 50)\n",
    "\n",
    "# Define the grid search parameters\n",
    "\n",
    "neuron1 = [8,16]\n",
    "neuron2 = [4,8]\n",
    "\n",
    "# Make a dictionary of the grid search parameters\n",
    "\n",
    "param_grids = dict(neuron1 = neuron1,neuron2 = neuron2)"
   ]
  },
  {
   "cell_type": "code",
   "execution_count": 53,
   "metadata": {},
   "outputs": [
    {
     "name": "stdout",
     "output_type": "stream",
     "text": [
      "Fitting 5 folds for each of 4 candidates, totalling 20 fits\n",
      "[CV] neuron1=8, neuron2=4 ............................................\n"
     ]
    },
    {
     "name": "stderr",
     "output_type": "stream",
     "text": [
      "[Parallel(n_jobs=1)]: Using backend SequentialBackend with 1 concurrent workers.\n"
     ]
    },
    {
     "name": "stdout",
     "output_type": "stream",
     "text": [
      "[CV] ................ neuron1=8, neuron2=4, score=1.000, total=   1.6s\n",
      "[CV] neuron1=8, neuron2=4 ............................................\n"
     ]
    },
    {
     "name": "stderr",
     "output_type": "stream",
     "text": [
      "[Parallel(n_jobs=1)]: Done   1 out of   1 | elapsed:    1.6s remaining:    0.0s\n"
     ]
    },
    {
     "name": "stdout",
     "output_type": "stream",
     "text": [
      "[CV] ................ neuron1=8, neuron2=4, score=0.971, total=   1.5s\n",
      "[CV] neuron1=8, neuron2=4 ............................................\n"
     ]
    },
    {
     "name": "stderr",
     "output_type": "stream",
     "text": [
      "[Parallel(n_jobs=1)]: Done   2 out of   2 | elapsed:    3.2s remaining:    0.0s\n"
     ]
    },
    {
     "name": "stdout",
     "output_type": "stream",
     "text": [
      "[CV] ................ neuron1=8, neuron2=4, score=0.913, total=   1.6s\n",
      "[CV] neuron1=8, neuron2=4 ............................................\n"
     ]
    },
    {
     "name": "stderr",
     "output_type": "stream",
     "text": [
      "[Parallel(n_jobs=1)]: Done   3 out of   3 | elapsed:    4.8s remaining:    0.0s\n"
     ]
    },
    {
     "name": "stdout",
     "output_type": "stream",
     "text": [
      "[CV] ................ neuron1=8, neuron2=4, score=0.951, total=   1.6s\n",
      "[CV] neuron1=8, neuron2=4 ............................................\n"
     ]
    },
    {
     "name": "stderr",
     "output_type": "stream",
     "text": [
      "[Parallel(n_jobs=1)]: Done   4 out of   4 | elapsed:    6.3s remaining:    0.0s\n"
     ]
    },
    {
     "name": "stdout",
     "output_type": "stream",
     "text": [
      "[CV] ................ neuron1=8, neuron2=4, score=0.913, total=   1.6s\n",
      "[CV] neuron1=8, neuron2=8 ............................................\n"
     ]
    },
    {
     "name": "stderr",
     "output_type": "stream",
     "text": [
      "[Parallel(n_jobs=1)]: Done   5 out of   5 | elapsed:    8.0s remaining:    0.0s\n"
     ]
    },
    {
     "name": "stdout",
     "output_type": "stream",
     "text": [
      "[CV] ................ neuron1=8, neuron2=8, score=1.000, total=   1.6s\n",
      "[CV] neuron1=8, neuron2=8 ............................................\n"
     ]
    },
    {
     "name": "stderr",
     "output_type": "stream",
     "text": [
      "[Parallel(n_jobs=1)]: Done   6 out of   6 | elapsed:    9.6s remaining:    0.0s\n"
     ]
    },
    {
     "name": "stdout",
     "output_type": "stream",
     "text": [
      "[CV] ................ neuron1=8, neuron2=8, score=0.933, total=   1.6s\n",
      "[CV] neuron1=8, neuron2=8 ............................................\n"
     ]
    },
    {
     "name": "stderr",
     "output_type": "stream",
     "text": [
      "[Parallel(n_jobs=1)]: Done   7 out of   7 | elapsed:   11.2s remaining:    0.0s\n"
     ]
    },
    {
     "name": "stdout",
     "output_type": "stream",
     "text": [
      "[CV] ................ neuron1=8, neuron2=8, score=0.922, total=   1.6s\n",
      "[CV] neuron1=8, neuron2=8 ............................................\n"
     ]
    },
    {
     "name": "stderr",
     "output_type": "stream",
     "text": [
      "[Parallel(n_jobs=1)]: Done   8 out of   8 | elapsed:   12.8s remaining:    0.0s\n"
     ]
    },
    {
     "name": "stdout",
     "output_type": "stream",
     "text": [
      "[CV] ................ neuron1=8, neuron2=8, score=0.961, total=   1.6s\n",
      "[CV] neuron1=8, neuron2=8 ............................................\n"
     ]
    },
    {
     "name": "stderr",
     "output_type": "stream",
     "text": [
      "[Parallel(n_jobs=1)]: Done   9 out of   9 | elapsed:   14.4s remaining:    0.0s\n"
     ]
    },
    {
     "name": "stdout",
     "output_type": "stream",
     "text": [
      "[CV] ................ neuron1=8, neuron2=8, score=0.932, total=   1.6s\n",
      "[CV] neuron1=16, neuron2=4 ...........................................\n",
      "[CV] ............... neuron1=16, neuron2=4, score=0.990, total=   1.7s\n",
      "[CV] neuron1=16, neuron2=4 ...........................................\n",
      "[CV] ............... neuron1=16, neuron2=4, score=0.942, total=   1.6s\n",
      "[CV] neuron1=16, neuron2=4 ...........................................\n",
      "[CV] ............... neuron1=16, neuron2=4, score=0.903, total=   1.5s\n",
      "[CV] neuron1=16, neuron2=4 ...........................................\n",
      "[CV] ............... neuron1=16, neuron2=4, score=0.971, total=   1.5s\n",
      "[CV] neuron1=16, neuron2=4 ...........................................\n",
      "[CV] ............... neuron1=16, neuron2=4, score=0.942, total=   2.3s\n",
      "[CV] neuron1=16, neuron2=8 ...........................................\n",
      "[CV] ............... neuron1=16, neuron2=8, score=1.000, total=   1.5s\n",
      "[CV] neuron1=16, neuron2=8 ...........................................\n",
      "[CV] ............... neuron1=16, neuron2=8, score=0.952, total=   1.5s\n",
      "[CV] neuron1=16, neuron2=8 ...........................................\n",
      "[CV] ............... neuron1=16, neuron2=8, score=0.913, total=   1.5s\n",
      "[CV] neuron1=16, neuron2=8 ...........................................\n",
      "[CV] ............... neuron1=16, neuron2=8, score=0.951, total=   1.5s\n",
      "[CV] neuron1=16, neuron2=8 ...........................................\n",
      "[CV] ............... neuron1=16, neuron2=8, score=0.922, total=   1.5s\n"
     ]
    },
    {
     "name": "stderr",
     "output_type": "stream",
     "text": [
      "[Parallel(n_jobs=1)]: Done  20 out of  20 | elapsed:   32.3s finished\n"
     ]
    }
   ],
   "source": [
    "# Build and fit the GridSearchCV\n",
    "\n",
    "grid = GridSearchCV(estimator = model,param_grid = param_grids,cv = KFold(),verbose = 10)\n",
    "grid_result = grid.fit(X_standardized,Y)"
   ]
  },
  {
   "cell_type": "code",
   "execution_count": 54,
   "metadata": {},
   "outputs": [
    {
     "name": "stdout",
     "output_type": "stream",
     "text": [
      "Best : 0.9496452569961548, using {'neuron1': 8, 'neuron2': 8}\n"
     ]
    }
   ],
   "source": [
    "# Summarize the results\n",
    "print('Best : {}, using {}'.format(grid_result.best_score_,grid_result.best_params_))"
   ]
  },
  {
   "cell_type": "markdown",
   "metadata": {},
   "source": [
    "## tuning models with best parameters"
   ]
  },
  {
   "cell_type": "code",
   "execution_count": 59,
   "metadata": {},
   "outputs": [],
   "source": [
    "from sklearn.metrics import classification_report, accuracy_score\n",
    "\n",
    "# Defining the model\n",
    "\n",
    "def create_model():\n",
    "    model = Sequential()\n",
    "    model.add(Dense(8,input_dim = 21,kernel_initializer = 'uniform',activation = 'tanh'))\n",
    "    model.add(Dropout(0.1))\n",
    "    model.add(Dense(8,input_dim = 8,kernel_initializer = 'uniform',activation = 'tanh'))\n",
    "    model.add(Dropout(0.1))\n",
    "    model.add(Dense(1,activation = 'sigmoid'))\n",
    "    \n",
    "    adam = Adam(lr = 0.01) #sgd = SGD(lr=learning_rate, momentum=momentum, decay=decay_rate, nesterov=False)\n",
    "    model.compile(loss = 'binary_crossentropy',optimizer = adam,metrics = ['accuracy'])\n",
    "    return model"
   ]
  },
  {
   "cell_type": "code",
   "execution_count": 60,
   "metadata": {},
   "outputs": [
    {
     "data": {
      "text/plain": [
       "<tensorflow.python.keras.callbacks.History at 0x7faa8ab22b50>"
      ]
     },
     "execution_count": 60,
     "metadata": {},
     "output_type": "execute_result"
    }
   ],
   "source": [
    "# Create the model\n",
    "\n",
    "model = KerasClassifier(build_fn=create_model,verbose = 0, batch_size = 10, epochs = 50 )\n",
    "\n",
    "# Fitting the model\n",
    "\n",
    "model.fit(X_standardized,Y)"
   ]
  },
  {
   "cell_type": "code",
   "execution_count": 61,
   "metadata": {},
   "outputs": [
    {
     "name": "stderr",
     "output_type": "stream",
     "text": [
      "/opt/anaconda3/lib/python3.7/site-packages/tensorflow/python/keras/engine/sequential.py:450: UserWarning: `model.predict_classes()` is deprecated and will be removed after 2021-01-01. Please use instead:* `np.argmax(model.predict(x), axis=-1)`,   if your model does multi-class classification   (e.g. if it uses a `softmax` last-layer activation).* `(model.predict(x) > 0.5).astype(\"int32\")`,   if your model does binary classification   (e.g. if it uses a `sigmoid` last-layer activation).\n",
      "  warnings.warn('`model.predict_classes()` is deprecated and '\n"
     ]
    },
    {
     "data": {
      "text/plain": [
       "0.9980657640232108"
      ]
     },
     "execution_count": 61,
     "metadata": {},
     "output_type": "execute_result"
    }
   ],
   "source": [
    "#predicting using trained model\n",
    "import sklearn\n",
    "y_pred  = model.predict(X_standardized)\n",
    "accuracy_score(Y,y_pred)"
   ]
  },
  {
   "cell_type": "markdown",
   "metadata": {},
   "source": [
    "## the accuracy of the model is 99.8% "
   ]
  },
  {
   "cell_type": "code",
   "execution_count": null,
   "metadata": {},
   "outputs": [],
   "source": []
  }
 ],
 "metadata": {
  "kernelspec": {
   "display_name": "Python 3",
   "language": "python",
   "name": "python3"
  },
  "language_info": {
   "codemirror_mode": {
    "name": "ipython",
    "version": 3
   },
   "file_extension": ".py",
   "mimetype": "text/x-python",
   "name": "python",
   "nbconvert_exporter": "python",
   "pygments_lexer": "ipython3",
   "version": "3.7.6"
  }
 },
 "nbformat": 4,
 "nbformat_minor": 4
}
